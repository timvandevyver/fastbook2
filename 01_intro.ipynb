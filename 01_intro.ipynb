{
  "cells": [
    {
      "cell_type": "code",
      "execution_count": 2,
      "metadata": {
        "id": "QYFhSz7_GdXG",
        "outputId": "3c2ee965-0cb7-4efc-a84d-07d2a7e3820b",
        "colab": {
          "base_uri": "https://localhost:8080/",
          "height": 426
        }
      },
      "outputs": [
        {
          "output_type": "stream",
          "name": "stdout",
          "text": [
            "\u001b[?25l   \u001b[90m━━━━━━━━━━━━━━━━━━━━━━━━━━━━━━━━━━━━━━━━\u001b[0m \u001b[32m0.0/719.8 kB\u001b[0m \u001b[31m?\u001b[0m eta \u001b[36m-:--:--\u001b[0m\r\u001b[2K   \u001b[90m━━━━━━━━━━━━━━━━━━━━━━━━━━━━━━━━━━━━━━━━\u001b[0m \u001b[32m719.8/719.8 kB\u001b[0m \u001b[31m39.6 MB/s\u001b[0m eta \u001b[36m0:00:00\u001b[0m\n",
            "\u001b[?25h\u001b[?25l   \u001b[90m━━━━━━━━━━━━━━━━━━━━━━━━━━━━━━━━━━━━━━━━\u001b[0m \u001b[32m0.0/472.7 kB\u001b[0m \u001b[31m?\u001b[0m eta \u001b[36m-:--:--\u001b[0m\r\u001b[2K   \u001b[90m━━━━━━━━━━━━━━━━━━━━━━━━━━━━━━━━━━━━━━━━\u001b[0m \u001b[32m472.7/472.7 kB\u001b[0m \u001b[31m34.9 MB/s\u001b[0m eta \u001b[36m0:00:00\u001b[0m\n",
            "\u001b[?25h\u001b[?25l   \u001b[90m━━━━━━━━━━━━━━━━━━━━━━━━━━━━━━━━━━━━━━━━\u001b[0m \u001b[32m0.0/116.3 kB\u001b[0m \u001b[31m?\u001b[0m eta \u001b[36m-:--:--\u001b[0m\r\u001b[2K   \u001b[90m━━━━━━━━━━━━━━━━━━━━━━━━━━━━━━━━━━━━━━━━\u001b[0m \u001b[32m116.3/116.3 kB\u001b[0m \u001b[31m11.0 MB/s\u001b[0m eta \u001b[36m0:00:00\u001b[0m\n",
            "\u001b[?25h\u001b[?25l   \u001b[90m━━━━━━━━━━━━━━━━━━━━━━━━━━━━━━━━━━━━━━━━\u001b[0m \u001b[32m0.0/134.8 kB\u001b[0m \u001b[31m?\u001b[0m eta \u001b[36m-:--:--\u001b[0m\r\u001b[2K   \u001b[90m━━━━━━━━━━━━━━━━━━━━━━━━━━━━━━━━━━━━━━━━\u001b[0m \u001b[32m134.8/134.8 kB\u001b[0m \u001b[31m14.3 MB/s\u001b[0m eta \u001b[36m0:00:00\u001b[0m\n",
            "\u001b[?25h\u001b[?25l   \u001b[90m━━━━━━━━━━━━━━━━━━━━━━━━━━━━━━━━━━━━━━━━\u001b[0m \u001b[32m0.0/194.1 kB\u001b[0m \u001b[31m?\u001b[0m eta \u001b[36m-:--:--\u001b[0m\r\u001b[2K   \u001b[90m━━━━━━━━━━━━━━━━━━━━━━━━━━━━━━━━━━━━━━━━\u001b[0m \u001b[32m194.1/194.1 kB\u001b[0m \u001b[31m19.6 MB/s\u001b[0m eta \u001b[36m0:00:00\u001b[0m\n",
            "\u001b[?25h\u001b[?25l   \u001b[90m━━━━━━━━━━━━━━━━━━━━━━━━━━━━━━━━━━━━━━━━\u001b[0m \u001b[32m0.0/1.6 MB\u001b[0m \u001b[31m?\u001b[0m eta \u001b[36m-:--:--\u001b[0m\r\u001b[2K   \u001b[90m━━━━━━━━━━━━━━━━━━━━━━━━━━━━━━━━━━━━━━━━\u001b[0m \u001b[32m1.6/1.6 MB\u001b[0m \u001b[31m56.5 MB/s\u001b[0m eta \u001b[36m0:00:00\u001b[0m\n",
            "\u001b[?25h"
          ]
        },
        {
          "output_type": "error",
          "ename": "MessageError",
          "evalue": "Error: credential propagation was unsuccessful",
          "traceback": [
            "\u001b[0;31m---------------------------------------------------------------------------\u001b[0m",
            "\u001b[0;31mMessageError\u001b[0m                              Traceback (most recent call last)",
            "\u001b[0;32m<ipython-input-2-3a1df29346f4>\u001b[0m in \u001b[0;36m<cell line: 4>\u001b[0;34m()\u001b[0m\n\u001b[1;32m      2\u001b[0m \u001b[0mget_ipython\u001b[0m\u001b[0;34m(\u001b[0m\u001b[0;34m)\u001b[0m\u001b[0;34m.\u001b[0m\u001b[0msystem\u001b[0m\u001b[0;34m(\u001b[0m\u001b[0;34m' [ -e /content ] && pip install -Uqq fastbook'\u001b[0m\u001b[0;34m)\u001b[0m\u001b[0;34m\u001b[0m\u001b[0;34m\u001b[0m\u001b[0m\n\u001b[1;32m      3\u001b[0m \u001b[0;32mimport\u001b[0m \u001b[0mfastbook\u001b[0m\u001b[0;34m\u001b[0m\u001b[0;34m\u001b[0m\u001b[0m\n\u001b[0;32m----> 4\u001b[0;31m \u001b[0mfastbook\u001b[0m\u001b[0;34m.\u001b[0m\u001b[0msetup_book\u001b[0m\u001b[0;34m(\u001b[0m\u001b[0;34m)\u001b[0m\u001b[0;34m\u001b[0m\u001b[0;34m\u001b[0m\u001b[0m\n\u001b[0m",
            "\u001b[0;32m/usr/local/lib/python3.10/dist-packages/fastbook/__init__.py\u001b[0m in \u001b[0;36msetup_book\u001b[0;34m()\u001b[0m\n\u001b[1;32m     36\u001b[0m \u001b[0;34m\u001b[0m\u001b[0m\n\u001b[1;32m     37\u001b[0m \u001b[0;32mdef\u001b[0m \u001b[0msetup_book\u001b[0m\u001b[0;34m(\u001b[0m\u001b[0;34m)\u001b[0m\u001b[0;34m:\u001b[0m\u001b[0;34m\u001b[0m\u001b[0;34m\u001b[0m\u001b[0m\n\u001b[0;32m---> 38\u001b[0;31m     \u001b[0;32mif\u001b[0m \u001b[0mIN_COLAB\u001b[0m\u001b[0;34m:\u001b[0m \u001b[0;32mreturn\u001b[0m \u001b[0msetup_colab\u001b[0m\u001b[0;34m(\u001b[0m\u001b[0;34m)\u001b[0m\u001b[0;34m\u001b[0m\u001b[0;34m\u001b[0m\u001b[0m\n\u001b[0m\u001b[1;32m     39\u001b[0m \u001b[0;34m\u001b[0m\u001b[0m\n\u001b[1;32m     40\u001b[0m \u001b[0;32mdef\u001b[0m \u001b[0mgv\u001b[0m\u001b[0;34m(\u001b[0m\u001b[0ms\u001b[0m\u001b[0;34m)\u001b[0m\u001b[0;34m:\u001b[0m \u001b[0;32mreturn\u001b[0m \u001b[0mgraphviz\u001b[0m\u001b[0;34m.\u001b[0m\u001b[0mSource\u001b[0m\u001b[0;34m(\u001b[0m\u001b[0;34m'digraph G{ rankdir=\"LR\"'\u001b[0m \u001b[0;34m+\u001b[0m \u001b[0ms\u001b[0m \u001b[0;34m+\u001b[0m \u001b[0;34m'; }'\u001b[0m\u001b[0;34m)\u001b[0m\u001b[0;34m\u001b[0m\u001b[0;34m\u001b[0m\u001b[0m\n",
            "\u001b[0;32m/usr/local/lib/python3.10/dist-packages/fastbook/__init__.py\u001b[0m in \u001b[0;36msetup_colab\u001b[0;34m()\u001b[0m\n\u001b[1;32m     33\u001b[0m     \u001b[0mgdrive\u001b[0m \u001b[0;34m=\u001b[0m \u001b[0mPath\u001b[0m\u001b[0;34m(\u001b[0m\u001b[0;34m'/content/gdrive/My Drive'\u001b[0m\u001b[0;34m)\u001b[0m\u001b[0;34m\u001b[0m\u001b[0;34m\u001b[0m\u001b[0m\n\u001b[1;32m     34\u001b[0m     \u001b[0;32mfrom\u001b[0m \u001b[0mgoogle\u001b[0m\u001b[0;34m.\u001b[0m\u001b[0mcolab\u001b[0m \u001b[0;32mimport\u001b[0m \u001b[0mdrive\u001b[0m\u001b[0;34m\u001b[0m\u001b[0;34m\u001b[0m\u001b[0m\n\u001b[0;32m---> 35\u001b[0;31m     \u001b[0;32mif\u001b[0m \u001b[0;32mnot\u001b[0m \u001b[0mgdrive\u001b[0m\u001b[0;34m.\u001b[0m\u001b[0mexists\u001b[0m\u001b[0;34m(\u001b[0m\u001b[0;34m)\u001b[0m\u001b[0;34m:\u001b[0m \u001b[0mdrive\u001b[0m\u001b[0;34m.\u001b[0m\u001b[0mmount\u001b[0m\u001b[0;34m(\u001b[0m\u001b[0mstr\u001b[0m\u001b[0;34m(\u001b[0m\u001b[0mgdrive\u001b[0m\u001b[0;34m.\u001b[0m\u001b[0mparent\u001b[0m\u001b[0;34m)\u001b[0m\u001b[0;34m)\u001b[0m\u001b[0;34m\u001b[0m\u001b[0;34m\u001b[0m\u001b[0m\n\u001b[0m\u001b[1;32m     36\u001b[0m \u001b[0;34m\u001b[0m\u001b[0m\n\u001b[1;32m     37\u001b[0m \u001b[0;32mdef\u001b[0m \u001b[0msetup_book\u001b[0m\u001b[0;34m(\u001b[0m\u001b[0;34m)\u001b[0m\u001b[0;34m:\u001b[0m\u001b[0;34m\u001b[0m\u001b[0;34m\u001b[0m\u001b[0m\n",
            "\u001b[0;32m/usr/local/lib/python3.10/dist-packages/google/colab/drive.py\u001b[0m in \u001b[0;36mmount\u001b[0;34m(mountpoint, force_remount, timeout_ms, readonly)\u001b[0m\n\u001b[1;32m     98\u001b[0m \u001b[0;32mdef\u001b[0m \u001b[0mmount\u001b[0m\u001b[0;34m(\u001b[0m\u001b[0mmountpoint\u001b[0m\u001b[0;34m,\u001b[0m \u001b[0mforce_remount\u001b[0m\u001b[0;34m=\u001b[0m\u001b[0;32mFalse\u001b[0m\u001b[0;34m,\u001b[0m \u001b[0mtimeout_ms\u001b[0m\u001b[0;34m=\u001b[0m\u001b[0;36m120000\u001b[0m\u001b[0;34m,\u001b[0m \u001b[0mreadonly\u001b[0m\u001b[0;34m=\u001b[0m\u001b[0;32mFalse\u001b[0m\u001b[0;34m)\u001b[0m\u001b[0;34m:\u001b[0m\u001b[0;34m\u001b[0m\u001b[0;34m\u001b[0m\u001b[0m\n\u001b[1;32m     99\u001b[0m   \u001b[0;34m\"\"\"Mount your Google Drive at the specified mountpoint path.\"\"\"\u001b[0m\u001b[0;34m\u001b[0m\u001b[0;34m\u001b[0m\u001b[0m\n\u001b[0;32m--> 100\u001b[0;31m   return _mount(\n\u001b[0m\u001b[1;32m    101\u001b[0m       \u001b[0mmountpoint\u001b[0m\u001b[0;34m,\u001b[0m\u001b[0;34m\u001b[0m\u001b[0;34m\u001b[0m\u001b[0m\n\u001b[1;32m    102\u001b[0m       \u001b[0mforce_remount\u001b[0m\u001b[0;34m=\u001b[0m\u001b[0mforce_remount\u001b[0m\u001b[0;34m,\u001b[0m\u001b[0;34m\u001b[0m\u001b[0;34m\u001b[0m\u001b[0m\n",
            "\u001b[0;32m/usr/local/lib/python3.10/dist-packages/google/colab/drive.py\u001b[0m in \u001b[0;36m_mount\u001b[0;34m(mountpoint, force_remount, timeout_ms, ephemeral, readonly)\u001b[0m\n\u001b[1;32m    135\u001b[0m   )\n\u001b[1;32m    136\u001b[0m   \u001b[0;32mif\u001b[0m \u001b[0mephemeral\u001b[0m\u001b[0;34m:\u001b[0m\u001b[0;34m\u001b[0m\u001b[0;34m\u001b[0m\u001b[0m\n\u001b[0;32m--> 137\u001b[0;31m     _message.blocking_request(\n\u001b[0m\u001b[1;32m    138\u001b[0m         \u001b[0;34m'request_auth'\u001b[0m\u001b[0;34m,\u001b[0m\u001b[0;34m\u001b[0m\u001b[0;34m\u001b[0m\u001b[0m\n\u001b[1;32m    139\u001b[0m         \u001b[0mrequest\u001b[0m\u001b[0;34m=\u001b[0m\u001b[0;34m{\u001b[0m\u001b[0;34m'authType'\u001b[0m\u001b[0;34m:\u001b[0m \u001b[0;34m'dfs_ephemeral'\u001b[0m\u001b[0;34m}\u001b[0m\u001b[0;34m,\u001b[0m\u001b[0;34m\u001b[0m\u001b[0;34m\u001b[0m\u001b[0m\n",
            "\u001b[0;32m/usr/local/lib/python3.10/dist-packages/google/colab/_message.py\u001b[0m in \u001b[0;36mblocking_request\u001b[0;34m(request_type, request, timeout_sec, parent)\u001b[0m\n\u001b[1;32m    174\u001b[0m       \u001b[0mrequest_type\u001b[0m\u001b[0;34m,\u001b[0m \u001b[0mrequest\u001b[0m\u001b[0;34m,\u001b[0m \u001b[0mparent\u001b[0m\u001b[0;34m=\u001b[0m\u001b[0mparent\u001b[0m\u001b[0;34m,\u001b[0m \u001b[0mexpect_reply\u001b[0m\u001b[0;34m=\u001b[0m\u001b[0;32mTrue\u001b[0m\u001b[0;34m\u001b[0m\u001b[0;34m\u001b[0m\u001b[0m\n\u001b[1;32m    175\u001b[0m   )\n\u001b[0;32m--> 176\u001b[0;31m   \u001b[0;32mreturn\u001b[0m \u001b[0mread_reply_from_input\u001b[0m\u001b[0;34m(\u001b[0m\u001b[0mrequest_id\u001b[0m\u001b[0;34m,\u001b[0m \u001b[0mtimeout_sec\u001b[0m\u001b[0;34m)\u001b[0m\u001b[0;34m\u001b[0m\u001b[0;34m\u001b[0m\u001b[0m\n\u001b[0m",
            "\u001b[0;32m/usr/local/lib/python3.10/dist-packages/google/colab/_message.py\u001b[0m in \u001b[0;36mread_reply_from_input\u001b[0;34m(message_id, timeout_sec)\u001b[0m\n\u001b[1;32m    101\u001b[0m     ):\n\u001b[1;32m    102\u001b[0m       \u001b[0;32mif\u001b[0m \u001b[0;34m'error'\u001b[0m \u001b[0;32min\u001b[0m \u001b[0mreply\u001b[0m\u001b[0;34m:\u001b[0m\u001b[0;34m\u001b[0m\u001b[0;34m\u001b[0m\u001b[0m\n\u001b[0;32m--> 103\u001b[0;31m         \u001b[0;32mraise\u001b[0m \u001b[0mMessageError\u001b[0m\u001b[0;34m(\u001b[0m\u001b[0mreply\u001b[0m\u001b[0;34m[\u001b[0m\u001b[0;34m'error'\u001b[0m\u001b[0;34m]\u001b[0m\u001b[0;34m)\u001b[0m\u001b[0;34m\u001b[0m\u001b[0;34m\u001b[0m\u001b[0m\n\u001b[0m\u001b[1;32m    104\u001b[0m       \u001b[0;32mreturn\u001b[0m \u001b[0mreply\u001b[0m\u001b[0;34m.\u001b[0m\u001b[0mget\u001b[0m\u001b[0;34m(\u001b[0m\u001b[0;34m'data'\u001b[0m\u001b[0;34m,\u001b[0m \u001b[0;32mNone\u001b[0m\u001b[0;34m)\u001b[0m\u001b[0;34m\u001b[0m\u001b[0;34m\u001b[0m\u001b[0m\n\u001b[1;32m    105\u001b[0m \u001b[0;34m\u001b[0m\u001b[0m\n",
            "\u001b[0;31mMessageError\u001b[0m: Error: credential propagation was unsuccessful"
          ]
        }
      ],
      "source": [
        "#hide\n",
        "! [ -e /content ] && pip install -Uqq fastbook\n",
        "import fastbook\n",
        "fastbook.setup_book()"
      ]
    },
    {
      "cell_type": "code",
      "execution_count": 5,
      "metadata": {
        "id": "RvbOGOSZGdXH"
      },
      "outputs": [],
      "source": [
        "#hide\n",
        "from fastbook import *"
      ]
    },
    {
      "cell_type": "raw",
      "metadata": {
        "id": "IrQwX_UQGdXH"
      },
      "source": [
        "[[chapter_intro]]"
      ]
    },
    {
      "cell_type": "markdown",
      "metadata": {
        "id": "jw1FxkIjGdXH"
      },
      "source": [
        "# Your Deep Learning Journey"
      ]
    },
    {
      "cell_type": "markdown",
      "metadata": {
        "id": "5X0BIUzLGdXH"
      },
      "source": [
        "Hello, and thank you for letting us join you on your deep learning journey, however far along that you may be! In this chapter, we will tell you a little bit more about what to expect in this book, introduce the key concepts behind deep learning, and train our first models on different tasks. It doesn't matter if you don't come from a technical or a mathematical background (though it's okay if you do too!); we wrote this book to make deep learning accessible to as many people as possible."
      ]
    },
    {
      "cell_type": "markdown",
      "metadata": {
        "id": "2G3wV9InGdXI"
      },
      "source": [
        "## Deep Learning Is for Everyone"
      ]
    },
    {
      "cell_type": "markdown",
      "metadata": {
        "id": "yLtrgfL8GdXI"
      },
      "source": [
        "A lot of people assume that you need all kinds of hard-to-find stuff to get great results with deep learning, but as you'll see in this book, those people are wrong. <<myths>> is a list of a few thing you *absolutely don't need* to do world-class deep learning.\n",
        "\n",
        "```asciidoc\n",
        "[[myths]]\n",
        ".What you don't need to do deep learning\n",
        "[options=\"header\"]\n",
        "|======\n",
        "| Myth (don't need) | Truth\n",
        "| Lots of math | Just high school math is sufficient\n",
        "| Lots of data | We've seen record-breaking results with <50 items of data\n",
        "| Lots of expensive computers | You can get what you need for state of the art work for free\n",
        "|======\n",
        "```\n",
        "\n",
        "Deep learning is a computer technique to extract and transform data–-with use cases ranging from human speech recognition to animal imagery classification–-by using multiple layers of neural networks. Each of these layers takes its inputs from previous layers and progressively refines them. The layers are trained by algorithms that minimize their errors and improve their accuracy. In this way, the network learns to perform a specified task. We will discuss training algorithms in detail in the next section."
      ]
    },
    {
      "cell_type": "markdown",
      "metadata": {
        "id": "xYwpEWMFGdXI"
      },
      "source": [
        "Deep learning has power, flexibility, and simplicity. That's why we believe it should be applied across many disciplines. These include the social and physical sciences, the arts, medicine, finance, scientific research, and many more. To give a personal example, despite having no background in medicine, Jeremy started Enlitic, a company that uses deep learning algorithms to diagnose illness and disease. Within months of starting the company, it was announced that its algorithm could identify malignant tumors [more accurately than radiologists](https://www.nytimes.com/2016/02/29/technology/the-promise-of-artificial-intelligence-unfolds-in-small-steps.html).\n",
        "\n",
        "Here's a list of some of the thousands of tasks in different areas at which deep learning, or methods heavily using deep learning, is now the best in the world:\n",
        "\n",
        "- Natural language processing (NLP):: Answering questions; speech recognition; summarizing documents; classifying documents; finding names, dates, etc. in documents; searching for articles mentioning a concept\n",
        "- Computer vision:: Satellite and drone imagery interpretation (e.g., for disaster resilience); face recognition; image captioning; reading traffic signs; locating pedestrians and vehicles in autonomous vehicles\n",
        "- Medicine:: Finding anomalies in radiology images, including CT, MRI, and X-ray images; counting features in pathology slides; measuring features in ultrasounds; diagnosing diabetic retinopathy\n",
        "- Biology:: Folding proteins; classifying proteins; many genomics tasks, such as tumor-normal sequencing and classifying clinically actionable genetic mutations; cell classification; analyzing protein/protein interactions\n",
        "- Image generation:: Colorizing images; increasing image resolution; removing noise from images; converting images to art in the style of famous artists\n",
        "- Recommendation systems:: Web search; product recommendations; home page layout\n",
        "- Playing games:: Chess, Go, most Atari video games, and many real-time strategy games\n",
        "- Robotics:: Handling objects that are challenging to locate (e.g., transparent, shiny, lacking texture) or hard to pick up\n",
        "- Other applications:: Financial and logistical forecasting, text to speech, and much more..."
      ]
    },
    {
      "cell_type": "markdown",
      "metadata": {
        "id": "jzqg667dGdXI"
      },
      "source": [
        "What is remarkable is that deep learning has such varied application yet nearly all of deep learning is based on a single type of model, the neural network.\n",
        "\n",
        "But neural networks are not in fact completely new. In order to have a wider perspective on the field, it is worth it to start with a bit of history."
      ]
    },
    {
      "cell_type": "markdown",
      "metadata": {
        "id": "v9rwEjKZGdXI"
      },
      "source": [
        "## Neural Networks: A Brief History"
      ]
    },
    {
      "cell_type": "markdown",
      "metadata": {
        "id": "sMqnEpNcGdXI"
      },
      "source": [
        "In 1943 Warren McCulloch, a neurophysiologist, and Walter Pitts, a logician, teamed up to develop a mathematical model of an artificial neuron. In their [paper](https://link.springer.com/article/10.1007/BF02478259) \"A Logical Calculus of the Ideas Immanent in Nervous Activity\" they declared that:\n",
        "\n",
        "> : Because of the “all-or-none” character of nervous activity, neural events and the relations among them can be treated by means of propositional logic. It is found that the behavior of every net can be described in these terms."
      ]
    },
    {
      "cell_type": "markdown",
      "metadata": {
        "id": "8UHtW2-4GdXI"
      },
      "source": [
        "McCulloch and Pitts realized that a simplified model of a real neuron could be represented using simple addition and thresholding, as shown in <<neuron>>. Pitts was self-taught, and by age 12, had received an offer to study at Cambridge University with the great Bertrand Russell. He did not take up this invitation, and indeed throughout his life did not accept any offers of advanced degrees or positions of authority. Most of his famous work was done while he was homeless. Despite his lack of an officially recognized position and increasing social isolation, his work with McCulloch was influential, and was taken up by a psychologist named Frank Rosenblatt."
      ]
    },
    {
      "cell_type": "markdown",
      "metadata": {
        "id": "Sw7T-MIrGdXI"
      },
      "source": [
        "<img alt=\"Natural and artificial neurons\" width=\"500\" caption=\"Natural and artificial neurons\" src=\"https://github.com/timvandevyver/fastbook2/blob/master/images/chapter7_neuron.png?raw=1\" id=\"neuron\"/>"
      ]
    },
    {
      "cell_type": "markdown",
      "metadata": {
        "id": "KEiCeLrnGdXI"
      },
      "source": [
        "Rosenblatt further developed the artificial neuron to give it the ability to learn. Even more importantly, he worked on building the first device that actually used these principles, the Mark I Perceptron. In \"The Design of an Intelligent Automaton\" Rosenblatt wrote about this work: \"We are now about to witness the birth of such a machine–-a machine capable of perceiving, recognizing and identifying its surroundings without any human training or control.\" The perceptron was built, and was able to successfully recognize simple shapes.\n",
        "\n",
        "An MIT professor named Marvin Minsky (who was a grade behind Rosenblatt at the same high school!), along with Seymour Papert, wrote a book called _Perceptrons_ (MIT Press), about Rosenblatt's invention. They showed that a single layer of these devices was unable to learn some simple but critical mathematical functions (such as XOR). In the same book, they also showed that using multiple layers of the devices would allow these limitations to be addressed. Unfortunately, only the first of these insights was widely recognized. As a result, the global academic community nearly entirely gave up on neural networks for the next two decades."
      ]
    },
    {
      "cell_type": "markdown",
      "metadata": {
        "id": "WzjdTgsHGdXI"
      },
      "source": [
        "Perhaps the most pivotal work in neural networks in the last 50 years was the multi-volume *Parallel Distributed Processing* (PDP) by David Rumelhart, James McClellan, and the PDP Research Group, released in 1986 by MIT Press. Chapter 1 lays out a similar hope to that shown by Rosenblatt:\n",
        "\n",
        "> : People are smarter than today's computers because the brain employs a basic computational architecture that is more suited to deal with a central aspect of the natural information processing tasks that people are so good at. ...We will introduce a computational framework for modeling cognitive processes that seems… closer than other frameworks to the style of computation as it might be done by the brain.\n",
        "\n",
        "The premise that PDP is using here is that traditional computer programs work very differently to brains, and that might be why computer programs had been (at that point) so bad at doing things that brains find easy (such as recognizing objects in pictures). The authors claimed that the PDP approach was \"closer\n",
        "than other frameworks\" to how the brain works, and therefore it might be better able to handle these kinds of tasks.\n",
        "\n",
        "In fact, the approach laid out in PDP is very similar to the approach used in today's neural networks. The book defined parallel distributed processing as requiring:\n",
        "\n",
        "1. A set of *processing units*\n",
        "1. A *state of activation*\n",
        "1. An *output function* for each unit\n",
        "1. A *pattern of connectivity* among units\n",
        "1. A *propagation rule* for propagating patterns of activities through the network of connectivities\n",
        "1. An *activation rule* for combining the inputs impinging on a unit with the current state of that unit to produce an output for the unit\n",
        "1. A *learning rule* whereby patterns of connectivity are modified by experience\n",
        "1. An *environment* within which the system must operate\n",
        "\n",
        "We will see in this book that modern neural networks handle each of these requirements.\n",
        "\n",
        "In the 1980's most models were built with a second layer of neurons, thus avoiding the problem that had been identified by Minsky and Papert (this was their \"pattern of connectivity among units,\" to use the framework above). And indeed, neural networks were widely used during the '80s and '90s for real, practical projects. However, again a misunderstanding of the theoretical issues held back the field. In theory, adding just one extra layer of neurons was enough to allow any mathematical function to be approximated with these neural networks, but in practice such networks were often too big and too slow to be useful.\n",
        "\n",
        "Although researchers showed 30 years ago that to get practical good performance you need to use even more layers of neurons, it is only in the last decade that this principle has been more widely appreciated and applied. Neural networks are now finally living up to their potential, thanks to the use of more layers, coupled with the capacity to do so due to improvements in computer hardware, increases in data availability, and algorithmic tweaks that allow neural networks to be trained faster and more easily. We now have what Rosenblatt promised: \"a machine capable of perceiving, recognizing, and identifying its surroundings without any human training or control.\"\n",
        "\n",
        "This is what you will learn how to build in this book. But first, since we are going to be spending a lot of time together, let's get to know each other a bit…"
      ]
    },
    {
      "cell_type": "markdown",
      "metadata": {
        "id": "CXX5GpDHGdXJ"
      },
      "source": [
        "## Who We Are"
      ]
    },
    {
      "cell_type": "markdown",
      "metadata": {
        "id": "8KJIB8FmGdXJ"
      },
      "source": [
        "We are Sylvain and Jeremy, your guides on this journey. We hope that you will find us well suited for this position.\n",
        "\n",
        "Jeremy has been using and teaching machine learning for around 30 years. He started using neural networks 25 years ago. During this time, he has led many companies and projects that have machine learning at their core, including founding the first company to focus on deep learning and medicine, Enlitic, and taking on the role of President and Chief Scientist of the world's largest machine learning community, Kaggle. He is the co-founder, along with Dr. Rachel Thomas, of fast.ai, the organization that built the course this book is based on.\n",
        "\n",
        "From time to time you will hear directly from us, in sidebars like this one from Jeremy:"
      ]
    },
    {
      "cell_type": "markdown",
      "metadata": {
        "id": "5DukVsr9GdXJ"
      },
      "source": [
        "> J: Hi everybody, I'm Jeremy! You might be interested to know that I do not have any formal technical education. I completed a BA, with a major in philosophy, and didn't have great grades. I was much more interested in doing real projects, rather than theoretical studies, so I worked full time at a management consulting firm called McKinsey and Company throughout my university years. If you're somebody who would rather get their hands dirty building stuff than spend years learning abstract concepts, then you will understand where I am coming from! Look out for sidebars from me to find information most suited to people with a less mathematical or formal technical background—that is, people like me…"
      ]
    },
    {
      "cell_type": "markdown",
      "metadata": {
        "id": "3mA948vSGdXJ"
      },
      "source": [
        "Sylvain, on the other hand, knows a lot about formal technical education. In fact, he has written 10 math textbooks, covering the entire advanced French maths curriculum!"
      ]
    },
    {
      "cell_type": "markdown",
      "metadata": {
        "id": "76rkX0nRGdXJ"
      },
      "source": [
        "> S: Unlike Jeremy, I have not spent many years coding and applying machine learning algorithms. Rather, I recently came to the machine learning world, by watching Jeremy's fast.ai course videos. So, if you are somebody who has not opened a terminal and written commands at the command line, then you will understand where I am coming from! Look out for sidebars from me to find information most suited to people with a more mathematical or formal technical background, but less real-world coding experience—that is, people like me…"
      ]
    },
    {
      "cell_type": "markdown",
      "metadata": {
        "id": "psm2BaKPGdXJ"
      },
      "source": [
        "The fast.ai course has been studied by hundreds of thousands of students, from all walks of life, from all parts of the world. Sylvain stood out as the most impressive student of the course that Jeremy had ever seen, which led to him joining fast.ai, and then becoming the coauthor, along with Jeremy, of the fastai software library.\n",
        "\n",
        "All this means that between us you have the best of both worlds: the people who know more about the software than anybody else, because they wrote it; an expert on math, and an expert on coding and machine learning; and also people who understand both what it feels like to be a relative outsider in math, and a relative outsider in coding and machine learning.\n",
        "\n",
        "Anybody who has watched sports knows that if you have a two-person commentary team then you also need a third person to do \"special comments.\" Our special commentator is Alexis Gallagher. Alexis has a very diverse background: he has been a researcher in mathematical biology, a screenplay writer, an improv performer, a McKinsey consultant (like Jeremy!), a Swift coder, and a CTO."
      ]
    },
    {
      "cell_type": "markdown",
      "metadata": {
        "id": "FgQX76q-GdXJ"
      },
      "source": [
        "> A: I've decided it's time for me to learn about this AI stuff! After all, I've tried pretty much everything else… But I don't really have a background in building machine learning models. Still… how hard can it be? I'm going to be learning throughout this book, just like you are. Look out for my sidebars for learning tips that I found helpful on my journey, and hopefully you will find helpful too."
      ]
    },
    {
      "cell_type": "markdown",
      "metadata": {
        "id": "XOOFKC9-GdXJ"
      },
      "source": [
        "## How to Learn Deep Learning"
      ]
    },
    {
      "cell_type": "markdown",
      "metadata": {
        "id": "muxZiRdrGdXJ"
      },
      "source": [
        "Harvard professor David Perkins, who wrote _Making Learning Whole_ (Jossey-Bass), has much to say about teaching. The basic idea is to teach the *whole game*. That means that if you're teaching baseball, you first take people to a baseball game or get them to play it. You don't teach them how to wind twine to make a baseball from scratch, the physics of a parabola, or the coefficient of friction of a ball on a bat.\n",
        "\n",
        "Paul Lockhart, a Columbia math PhD, former Brown professor, and K-12 math teacher, imagines in the influential [essay](https://www.maa.org/external_archive/devlin/LockhartsLament.pdf) \"A Mathematician's Lament\" a nightmare world where music and art are taught the way math is taught. Children are not allowed to listen to or play music until they have spent over a decade mastering music notation and theory, spending classes transposing sheet music into a different key. In art class, students study colors and applicators, but aren't allowed to actually paint until college. Sound absurd? This is how math is taught–-we require students to spend years doing rote memorization and learning dry, disconnected *fundamentals* that we claim will pay off later, long after most of them quit the subject.\n",
        "\n",
        "Unfortunately, this is where many teaching resources on deep learning begin–-asking learners to follow along with the definition of the Hessian and theorems for the Taylor approximation of your loss functions, without ever giving examples of actual working code. We're not knocking calculus. We love calculus, and Sylvain has even taught it at the college level, but we don't think it's the best place to start when learning deep learning!\n",
        "\n",
        "In deep learning, it really helps if you have the motivation to fix your model to get it to do better. That's when you start learning the relevant theory. But you need to have the model in the first place. We teach almost everything through real examples. As we build out those examples, we go deeper and deeper, and we'll show you how to make your projects better and better. This means that you'll be gradually learning all the theoretical foundations you need, in context, in such a way that you'll see why it matters and how it works.\n",
        "\n",
        "So, here's our commitment to you. Throughout this book, we will follow these principles:\n",
        "\n",
        "- Teaching the *whole game*. We'll start by showing how to use a complete, working, very usable, state-of-the-art deep learning network to solve real-world problems, using simple, expressive tools. And then we'll gradually dig deeper and deeper into understanding how those tools are made, and how the tools that make those tools are made, and so on…\n",
        "- Always teaching through examples. We'll ensure that there is a context and a purpose that you can understand intuitively, rather than starting with algebraic symbol manipulation.\n",
        "- Simplifying as much as possible. We've spent years building tools and teaching methods that make previously complex topics very simple.\n",
        "- Removing barriers. Deep learning has, until now, been a very exclusive game. We're breaking it open, and ensuring that everyone can play."
      ]
    },
    {
      "cell_type": "markdown",
      "metadata": {
        "id": "l27_H-lAGdXJ"
      },
      "source": [
        "The hardest part of deep learning is artisanal: how do you know if you've got enough data, whether it is in the right format, if your model is training properly, and, if it's not, what you should do about it? That is why we believe in learning by doing. As with basic data science skills, with deep learning you only get better through practical experience. Trying to spend too much time on the theory can be counterproductive. The key is to just code and try to solve problems: the theory can come later, when you have context and motivation.\n",
        "\n",
        "There will be times when the journey will feel hard. Times where you feel stuck. Don't give up! Rewind through the book to find the last bit where you definitely weren't stuck, and then read slowly through from there to find the first thing that isn't clear. Then try some code experiments yourself, and Google around for more tutorials on whatever the issue you're stuck with is—often you'll find some different angle on the material might help it to click. Also, it's expected and normal to not understand everything (especially the code) on first reading. Trying to understand the material serially before proceeding can sometimes be hard. Sometimes things click into place after you get more context from parts down the road, from having a bigger picture. So if you do get stuck on a section, try moving on anyway and make a note to come back to it later.\n",
        "\n",
        "Remember, you don't need any particular academic background to succeed at deep learning. Many important breakthroughs are made in research and industry by folks without a PhD, such as [\"Unsupervised Representation Learning with Deep Convolutional Generative Adversarial Networks\"](https://arxiv.org/abs/1511.06434)—one of the most influential papers of the last decade—with over 5,000 citations, which was written by Alec Radford when he was an undergraduate. Even at Tesla, where they're trying to solve the extremely tough challenge of making a self-driving car, CEO [Elon Musk says](https://twitter.com/elonmusk/status/1224089444963311616):\n",
        "\n",
        "> : A PhD is definitely not required. All that matters is a deep understanding of AI & ability to implement NNs in a way that is actually useful (latter point is what’s truly hard). Don’t care if you even graduated high school."
      ]
    },
    {
      "cell_type": "markdown",
      "metadata": {
        "id": "0hHn72KoGdXJ"
      },
      "source": [
        "What you will need to do to succeed however is to apply what you learn in this book to a personal project, and always persevere."
      ]
    },
    {
      "cell_type": "markdown",
      "metadata": {
        "id": "sn-pnRRZGdXJ"
      },
      "source": [
        "### Your Projects and Your Mindset"
      ]
    },
    {
      "cell_type": "markdown",
      "metadata": {
        "id": "6Efy0qlAGdXJ"
      },
      "source": [
        "Whether you're excited to identify if plants are diseased from pictures of their leaves, auto-generate knitting patterns, diagnose TB from X-rays, or determine when a raccoon is using your cat door, we will get you using deep learning on your own problems (via pre-trained models from others) as quickly as possible, and then will progressively drill into more details. You'll learn how to use deep learning to solve your own problems at state-of-the-art accuracy within the first 30 minutes of the next chapter! (And feel free to skip straight there now if you're dying to get coding right away.) There is a pernicious myth out there that you need to have computing resources and datasets the size of those at Google to be able to do deep learning, but it's not true.\n",
        "\n",
        "So, what sorts of tasks make for good test cases? You could train your model to distinguish between Picasso and Monet paintings or to pick out pictures of your daughter instead of pictures of your son. It helps to focus on your hobbies and passions–-setting yourself four or five little projects rather than striving to solve a big, grand problem tends to work better when you're getting started. Since it is easy to get stuck, trying to be too ambitious too early can often backfire. Then, once you've got the basics mastered, aim to complete something you're really proud of!"
      ]
    },
    {
      "cell_type": "markdown",
      "metadata": {
        "id": "tCkttFRqGdXJ"
      },
      "source": [
        "> J: Deep learning can be set to work on almost any problem. For instance, my first startup was a company called FastMail, which provided enhanced email services when it launched in 1999 (and still does to this day). In 2002 I set it up to use a primitive form of deep learning, single-layer neural networks, to help categorize emails and stop customers from receiving spam."
      ]
    },
    {
      "cell_type": "markdown",
      "metadata": {
        "id": "XDJn37rbGdXJ"
      },
      "source": [
        "Common character traits in the people that do well at deep learning include playfulness and curiosity. The late physicist Richard Feynman is an example of someone who we'd expect to be great at deep learning: his development of an understanding of the movement of subatomic particles came from his amusement at how plates wobble when they spin in the air."
      ]
    },
    {
      "cell_type": "markdown",
      "metadata": {
        "id": "Tx6TlZR6GdXJ"
      },
      "source": [
        "Let's now focus on what you will learn, starting with the software."
      ]
    },
    {
      "cell_type": "markdown",
      "metadata": {
        "id": "fxPSknSAGdXK"
      },
      "source": [
        "## The Software: PyTorch, fastai, and Jupyter"
      ]
    },
    {
      "cell_type": "markdown",
      "metadata": {
        "id": "OsBjXQQpGdXK"
      },
      "source": [
        "(And Why It Doesn't Matter)"
      ]
    },
    {
      "cell_type": "markdown",
      "metadata": {
        "id": "bGrEkV5xGdXK"
      },
      "source": [
        "We've completed hundreds of machine learning projects using dozens of different packages, and many different programming languages. At fast.ai, we have written courses using most of the main deep learning and machine learning packages used today. After PyTorch came out in 2017 we spent over a thousand hours testing it before deciding that we would use it for future courses, software development, and research. Since that time PyTorch has become the world's fastest-growing deep learning library and is already used for most research papers at top conferences. This is generally a leading indicator of usage in industry, because these are the papers that end up getting used in products and services commercially. We have found that PyTorch is the most flexible and expressive library for deep learning. It does not trade off speed for simplicity, but provides both.\n",
        "\n",
        "PyTorch works best as a low-level foundation library, providing the basic operations for higher-level functionality. The fastai library is the most popular library for adding this higher-level functionality on top of PyTorch. It's also particularly well suited to the purposes of this book, because it is unique in providing a deeply layered software architecture (there's even a [peer-reviewed academic paper](https://arxiv.org/abs/2002.04688) about this layered API). In this book, as we go deeper and deeper into the foundations of deep learning, we will also go deeper and deeper into the layers of fastai. This book covers version 2 of the fastai library, which is a from-scratch rewrite providing many unique features."
      ]
    },
    {
      "cell_type": "markdown",
      "metadata": {
        "id": "gTjKhfqCGdXK"
      },
      "source": [
        "However, it doesn't really matter what software you learn, because it takes only a few days to learn to switch from one library to another. What really matters is learning the deep learning foundations and techniques properly. Our focus will be on using code that clearly expresses the concepts that you need to learn. Where we are teaching high-level concepts, we will use high-level fastai code. Where we are teaching low-level concepts, we will use low-level PyTorch, or even pure Python code.\n",
        "\n",
        "If it feels like new deep learning libraries are appearing at a rapid pace nowadays, then you need to be prepared for a much faster rate of change in the coming months and years. As more people enter the field, they will bring more skills and ideas, and try more things. You should assume that whatever specific libraries and software you learn today will be obsolete in a year or two. Just think about the number of changes in libraries and technology stacks that occur all the time in the world of web programming—a much more mature and slow-growing area than deep learning. We strongly believe that the focus in learning needs to be on understanding the underlying techniques and how to apply them in practice, and how to quickly build expertise in new tools and techniques as they are released."
      ]
    },
    {
      "cell_type": "markdown",
      "metadata": {
        "id": "FkUynGHnGdXK"
      },
      "source": [
        "By the end of the book, you'll understand nearly all the code that's inside fastai (and much of PyTorch too), because in each chapter we'll be digging a level deeper to show you exactly what's going on as we build and train our models. This means that you'll have learned the most important best practices used in modern deep learning—not just how to use them, but how they really work and are implemented. If you want to use those approaches in another framework, you'll have the knowledge you need to do so if needed.\n",
        "\n",
        "Since the most important thing for learning deep learning is writing code and experimenting, it's important that you have a great platform for experimenting with code. The most popular programming experimentation platform is called Jupyter. This is what we will be using throughout this book. We will show you how you can use Jupyter to train and experiment with models and introspect every stage of the data pre-processing and model development pipeline. [Jupyter Notebook](https://jupyter.org/) is the most popular tool for doing data science in Python, for good reason. It is powerful, flexible, and easy to use. We think you will love it!"
      ]
    },
    {
      "cell_type": "markdown",
      "metadata": {
        "id": "AjO_Hmd5GdXK"
      },
      "source": [
        "Let's see it in practice and train our first model."
      ]
    },
    {
      "cell_type": "markdown",
      "metadata": {
        "id": "0-j_xyvWGdXK"
      },
      "source": [
        "## Your First Model"
      ]
    },
    {
      "cell_type": "markdown",
      "metadata": {
        "id": "SmjcGh0YGdXK"
      },
      "source": [
        "As we said before, we will teach you how to do things before we explain why they work. Following this top-down approach, we will begin by actually training an image classifier to recognize dogs and cats with almost 100% accuracy. To train this model and run our experiments, you will need to do some initial setup. Don't worry, it's not as hard as it looks."
      ]
    },
    {
      "cell_type": "markdown",
      "metadata": {
        "id": "RqrVeupJGdXK"
      },
      "source": [
        "> s: Do not skip the setup part even if it looks intimidating at first, especially if you have little or no experience using things like a terminal or the command line. Most of that is actually not necessary and you will find that the easiest servers can be set up with just your usual web browser. It is crucial that you run your own experiments in parallel with this book in order to learn."
      ]
    },
    {
      "cell_type": "markdown",
      "metadata": {
        "id": "U98xIci8GdXK"
      },
      "source": [
        "### Getting a GPU Deep Learning Server"
      ]
    },
    {
      "cell_type": "markdown",
      "metadata": {
        "id": "KOtGntoxGdXK"
      },
      "source": [
        "To do nearly everything in this book, you'll need access to a computer with an NVIDIA GPU (unfortunately other brands of GPU are not fully supported by the main deep learning libraries). However, we don't recommend you buy one; in fact, even if you already have one, we don't suggest you use it just yet! Setting up a computer takes time and energy, and you want all your energy to focus on deep learning right now. Therefore, we instead suggest you rent access to a computer that already has everything you need preinstalled and ready to go. Costs can be as little as US$0.25 per hour while you're using it, and some options are even free."
      ]
    },
    {
      "cell_type": "markdown",
      "metadata": {
        "id": "UxrqQm89GdXK"
      },
      "source": [
        "> jargon: Graphics Processing Unit (GPU): Also known as a _graphics card_. A special kind of processor in your computer that can handle thousands of single tasks at the same time, especially designed for displaying 3D environments on a computer for playing games. These same basic tasks are very similar to what neural networks do, such that GPUs can run neural networks hundreds of times faster than regular CPUs. All modern computers contain a GPU, but few contain the right kind of GPU necessary for deep learning."
      ]
    },
    {
      "cell_type": "markdown",
      "metadata": {
        "id": "sMDsAlqgGdXK"
      },
      "source": [
        "The best choice of GPU servers to use with this book will change over time, as companies come and go and prices change. We maintain a list of our recommended options on the [book's website](https://book.fast.ai/), so go there now and follow the instructions to get connected to a GPU deep learning server. Don't worry, it only takes about two minutes to get set up on most platforms, and many don't even require any payment, or even a credit card, to get started.\n",
        "\n",
        "> A: My two cents: heed this advice! If you like computers you will be tempted to set up your own box. Beware! It is feasible but surprisingly involved and distracting. There is a good reason this book is not titled, _Everything You Ever Wanted to Know About Ubuntu System Administration, NVIDIA Driver Installation, apt-get, conda, pip, and Jupyter Notebook Configuration_. That would be a book of its own. Having designed and deployed our production machine learning infrastructure at work, I can testify it has its satisfactions, but it is as unrelated to modeling as maintaining an airplane is to flying one.\n",
        "\n",
        "Each option shown on the website includes a tutorial; after completing the tutorial, you will end up with a screen looking like <<notebook_init>>."
      ]
    },
    {
      "cell_type": "markdown",
      "metadata": {
        "id": "k54neDpCGdXL"
      },
      "source": [
        "<img alt=\"Initial view of Jupyter Notebook\" width=\"658\" caption=\"Initial view of Jupyter Notebook\" id=\"notebook_init\" src=\"https://github.com/timvandevyver/fastbook2/blob/master/images/att_00057.png?raw=1\">"
      ]
    },
    {
      "cell_type": "markdown",
      "metadata": {
        "id": "w4Ki4k3IGdXL"
      },
      "source": [
        "You are now ready to run your first Jupyter notebook!"
      ]
    },
    {
      "cell_type": "markdown",
      "metadata": {
        "id": "USX4c1oMGdXL"
      },
      "source": [
        "> jargon: Jupyter Notebook: A piece of software that allows you to include formatted text, code, images, videos, and much more, all within a single interactive document. Jupyter received the highest honor for software, the ACM Software System Award, thanks to its wide use and enormous impact in many academic fields and in industry. Jupyter Notebook is the software most widely used by data scientists for developing and interacting with deep learning models."
      ]
    },
    {
      "cell_type": "markdown",
      "metadata": {
        "id": "IZNgwfX6GdXL"
      },
      "source": [
        "### Running Your First Notebook"
      ]
    },
    {
      "cell_type": "markdown",
      "metadata": {
        "id": "MEVd4hHJGdXL"
      },
      "source": [
        "The notebooks are labeled by chapter and then by notebook number, so that they are in the same order as they are presented in this book. So, the very first notebook you will see listed is the notebook that you need to use now. You will be using this notebook to train a model that can recognize dog and cat photos. To do this, you'll be downloading a _dataset_ of dog and cat photos, and using that to _train a model_. A dataset is simply a bunch of data—it could be images, emails, financial indicators, sounds, or anything else. There are many datasets made freely available that are suitable for training models. Many of these datasets are created by academics to help advance research, many are made available for competitions (there are competitions where data scientists can compete to see who has the most accurate model!), and some are by-products of other processes (such as financial filings)."
      ]
    },
    {
      "cell_type": "markdown",
      "metadata": {
        "id": "aQW5Z8wTGdXL"
      },
      "source": [
        "> note: Full and Stripped Notebooks: There are two folders containing different versions of the notebooks. The _full_ folder contains the exact notebooks used to create the book you're reading now, with all the prose and outputs. The _stripped_ version has the same headings and code cells, but all outputs and prose have been removed. After reading a section of the book, we recommend working through the stripped notebooks, with the book closed, and seeing if you can figure out what each cell will show before you execute it. Also try to recall what the code is demonstrating."
      ]
    },
    {
      "cell_type": "markdown",
      "metadata": {
        "id": "SO8fQ-COGdXL"
      },
      "source": [
        "To open a notebook, just click on it. The notebook will open, and it will look something like <<jupyter>> (note that there may be slight differences in details across different platforms; you can ignore those differences)."
      ]
    },
    {
      "cell_type": "markdown",
      "metadata": {
        "id": "lRh3R3p0GdXL"
      },
      "source": [
        "<img alt=\"An example of notebook\" width=\"700\" caption=\"A Jupyter notebook\" src=\"https://github.com/timvandevyver/fastbook2/blob/master/images/0_jupyter.png?raw=1\" id=\"jupyter\"/>"
      ]
    },
    {
      "cell_type": "markdown",
      "metadata": {
        "id": "QoL1-NSvGdXL"
      },
      "source": [
        "A notebook consists of _cells_. There are two main types of cell:\n",
        "\n",
        "- Cells containing formatted text, images, and so forth. These use a format called *markdown*, which you will learn about soon.\n",
        "- Cells containing code that can be executed, and outputs will appear immediately underneath (which could be plain text, tables, images, animations, sounds, or even interactive applications).\n",
        "\n",
        "Jupyter notebooks can be in one of two modes: edit mode or command mode. In edit mode typing on your keyboard enters the letters into the cell in the usual way. However, in command mode, you will not see any flashing cursor, and the keys on your keyboard will each have a special function.\n",
        "\n",
        "Before continuing, press the Escape key on your keyboard to switch to command mode (if you are already in command mode, this does nothing, so press it now just in case). To see a complete list of all of the functions available, press H; press Escape to remove this help screen. Notice that in command mode, unlike most programs, commands do not require you to hold down Control, Alt, or similar—you simply press the required letter key.\n",
        "\n",
        "You can make a copy of a cell by pressing C (the cell needs to be selected first, indicated with an outline around it; if it is not already selected, click on it once). Then press V to paste a copy of it."
      ]
    },
    {
      "cell_type": "markdown",
      "metadata": {
        "id": "aLMFdVkAGdXL"
      },
      "source": [
        "Click on the cell that begins with the line \"# CLICK ME\" to select it. The first character in that line indicates that what follows is a comment in Python, so it is ignored when executing the cell. The rest of the cell is, believe it or not, a complete system for creating and training a state-of-the-art model for recognizing cats versus dogs. So, let's train it now! To do so, just press Shift-Enter on your keyboard, or press the Play button on the toolbar. Then wait a few minutes while the following things happen:\n",
        "\n",
        "1. A dataset called the [Oxford-IIIT Pet Dataset](http://www.robots.ox.ac.uk/~vgg/data/pets/) that contains 7,349 images of cats and dogs from 37 different breeds will be downloaded from the fast.ai datasets collection to the GPU server you are using, and will then be extracted.\n",
        "2. A *pretrained model* that has already been trained on 1.3 million images, using a competition-winning model will be downloaded from the internet.\n",
        "3. The pretrained model will be *fine-tuned* using the latest advances in transfer learning, to create a model that is specially customized for recognizing dogs and cats.\n",
        "\n",
        "The first two steps only need to be run once on your GPU server. If you run the cell again, it will use the dataset and model that have already been downloaded, rather than downloading them again. Let's take a look at the contents of the cell, and the results (<<first_training>>):"
      ]
    },
    {
      "cell_type": "code",
      "execution_count": 1,
      "metadata": {
        "id": "GD7XMhzZGdXL",
        "outputId": "9a34a6cc-021f-4d4d-be5f-81fe9fcf4b2f",
        "colab": {
          "base_uri": "https://localhost:8080/",
          "height": 199
        }
      },
      "outputs": [
        {
          "output_type": "display_data",
          "data": {
            "text/plain": [
              "<IPython.core.display.HTML object>"
            ],
            "text/html": [
              "\n",
              "<style>\n",
              "    /* Turns off some styling */\n",
              "    progress {\n",
              "        /* gets rid of default border in Firefox and Opera. */\n",
              "        border: none;\n",
              "        /* Needs to be in here for Safari polyfill so background images work as expected. */\n",
              "        background-size: auto;\n",
              "    }\n",
              "    progress:not([value]), progress:not([value])::-webkit-progress-bar {\n",
              "        background: repeating-linear-gradient(45deg, #7e7e7e, #7e7e7e 10px, #5c5c5c 10px, #5c5c5c 20px);\n",
              "    }\n",
              "    .progress-bar-interrupted, .progress-bar-interrupted::-webkit-progress-bar {\n",
              "        background: #F44336;\n",
              "    }\n",
              "</style>\n"
            ]
          },
          "metadata": {}
        },
        {
          "output_type": "display_data",
          "data": {
            "text/plain": [
              "<IPython.core.display.HTML object>"
            ],
            "text/html": [
              "\n",
              "    <div>\n",
              "      <progress value='811712512' class='' max='811706944' style='width:300px; height:20px; vertical-align: middle;'></progress>\n",
              "      100.00% [811712512/811706944 00:29&lt;00:00]\n",
              "    </div>\n",
              "    "
            ]
          },
          "metadata": {}
        },
        {
          "output_type": "stream",
          "name": "stderr",
          "text": [
            "Downloading: \"https://download.pytorch.org/models/resnet34-b627a593.pth\" to /root/.cache/torch/hub/checkpoints/resnet34-b627a593.pth\n",
            "100%|██████████| 83.3M/83.3M [00:00<00:00, 159MB/s]\n"
          ]
        },
        {
          "output_type": "display_data",
          "data": {
            "text/plain": [
              "<IPython.core.display.HTML object>"
            ],
            "text/html": [
              "\n",
              "<style>\n",
              "    /* Turns off some styling */\n",
              "    progress {\n",
              "        /* gets rid of default border in Firefox and Opera. */\n",
              "        border: none;\n",
              "        /* Needs to be in here for Safari polyfill so background images work as expected. */\n",
              "        background-size: auto;\n",
              "    }\n",
              "    progress:not([value]), progress:not([value])::-webkit-progress-bar {\n",
              "        background: repeating-linear-gradient(45deg, #7e7e7e, #7e7e7e 10px, #5c5c5c 10px, #5c5c5c 20px);\n",
              "    }\n",
              "    .progress-bar-interrupted, .progress-bar-interrupted::-webkit-progress-bar {\n",
              "        background: #F44336;\n",
              "    }\n",
              "</style>\n"
            ]
          },
          "metadata": {}
        },
        {
          "output_type": "display_data",
          "data": {
            "text/plain": [
              "<IPython.core.display.HTML object>"
            ],
            "text/html": [
              "<table border=\"1\" class=\"dataframe\">\n",
              "  <thead>\n",
              "    <tr style=\"text-align: left;\">\n",
              "      <th>epoch</th>\n",
              "      <th>train_loss</th>\n",
              "      <th>valid_loss</th>\n",
              "      <th>error_rate</th>\n",
              "      <th>time</th>\n",
              "    </tr>\n",
              "  </thead>\n",
              "  <tbody>\n",
              "    <tr>\n",
              "      <td>0</td>\n",
              "      <td>0.162438</td>\n",
              "      <td>0.033713</td>\n",
              "      <td>0.009472</td>\n",
              "      <td>00:49</td>\n",
              "    </tr>\n",
              "  </tbody>\n",
              "</table>"
            ]
          },
          "metadata": {}
        },
        {
          "output_type": "display_data",
          "data": {
            "text/plain": [
              "<IPython.core.display.HTML object>"
            ],
            "text/html": [
              "\n",
              "<style>\n",
              "    /* Turns off some styling */\n",
              "    progress {\n",
              "        /* gets rid of default border in Firefox and Opera. */\n",
              "        border: none;\n",
              "        /* Needs to be in here for Safari polyfill so background images work as expected. */\n",
              "        background-size: auto;\n",
              "    }\n",
              "    progress:not([value]), progress:not([value])::-webkit-progress-bar {\n",
              "        background: repeating-linear-gradient(45deg, #7e7e7e, #7e7e7e 10px, #5c5c5c 10px, #5c5c5c 20px);\n",
              "    }\n",
              "    .progress-bar-interrupted, .progress-bar-interrupted::-webkit-progress-bar {\n",
              "        background: #F44336;\n",
              "    }\n",
              "</style>\n"
            ]
          },
          "metadata": {}
        },
        {
          "output_type": "display_data",
          "data": {
            "text/plain": [
              "<IPython.core.display.HTML object>"
            ],
            "text/html": [
              "<table border=\"1\" class=\"dataframe\">\n",
              "  <thead>\n",
              "    <tr style=\"text-align: left;\">\n",
              "      <th>epoch</th>\n",
              "      <th>train_loss</th>\n",
              "      <th>valid_loss</th>\n",
              "      <th>error_rate</th>\n",
              "      <th>time</th>\n",
              "    </tr>\n",
              "  </thead>\n",
              "  <tbody>\n",
              "    <tr>\n",
              "      <td>0</td>\n",
              "      <td>0.069827</td>\n",
              "      <td>0.018184</td>\n",
              "      <td>0.006766</td>\n",
              "      <td>00:47</td>\n",
              "    </tr>\n",
              "  </tbody>\n",
              "</table>"
            ]
          },
          "metadata": {}
        }
      ],
      "source": [
        "#id first_training\n",
        "#caption Results from the first training\n",
        "# CLICK ME\n",
        "from fastai.vision.all import *\n",
        "path = untar_data(URLs.PETS)/'images'\n",
        "\n",
        "def is_cat(x): return x[0].isupper()\n",
        "dls = ImageDataLoaders.from_name_func(\n",
        "    path, get_image_files(path), valid_pct=0.2, seed=42,\n",
        "    label_func=is_cat, item_tfms=Resize(224))\n",
        "\n",
        "learn = vision_learner(dls, resnet34, metrics=error_rate)\n",
        "learn.fine_tune(1)"
      ]
    },
    {
      "cell_type": "markdown",
      "metadata": {
        "id": "PDnhFnfEGdXL"
      },
      "source": [
        "You will probably not see exactly the same results that are in the book. There are a lot of sources of small random variation involved in training models. We generally see an error rate of well less than 0.02 in this example, however."
      ]
    },
    {
      "cell_type": "markdown",
      "metadata": {
        "id": "JaJIusPhGdXL"
      },
      "source": [
        "> important: Training Time: Depending on your network speed, it might take a few minutes to download the pretrained model and dataset. Running `fine_tune` might take a minute or so. Often models in this book take a few minutes to train, as will your own models, so it's a good idea to come up with good techniques to make the most of this time. For instance, keep reading the next section while your model trains, or open up another notebook and use it for some coding experiments."
      ]
    },
    {
      "cell_type": "markdown",
      "metadata": {
        "id": "zjforXaiGdXL"
      },
      "source": [
        "### Sidebar: This Book Was Written in Jupyter Notebooks"
      ]
    },
    {
      "cell_type": "markdown",
      "metadata": {
        "id": "HUsm4MfHGdXL"
      },
      "source": [
        "We wrote this book using Jupyter notebooks, so for nearly every chart, table, and calculation in this book, we'll be showing you the exact code required to replicate it yourself. That's why very often in this book, you will see some code immediately followed by a table, a picture or just some text. If you go on the [book's website](https://book.fast.ai) you will find all the code, and you can try running and modifying every example yourself."
      ]
    },
    {
      "cell_type": "markdown",
      "metadata": {
        "id": "Ze3g6pN4GdXL"
      },
      "source": [
        "You just saw how a cell that outputs a table looks inside the book. Here is an example of a cell that outputs text:"
      ]
    },
    {
      "cell_type": "code",
      "execution_count": 2,
      "metadata": {
        "id": "-0pPGnPOGdXL",
        "outputId": "27a66379-cd0f-4249-9163-9237e91cd136",
        "colab": {
          "base_uri": "https://localhost:8080/"
        }
      },
      "outputs": [
        {
          "output_type": "execute_result",
          "data": {
            "text/plain": [
              "2"
            ]
          },
          "metadata": {},
          "execution_count": 2
        }
      ],
      "source": [
        "1+1"
      ]
    },
    {
      "cell_type": "markdown",
      "metadata": {
        "id": "2iOhnS7AGdXL"
      },
      "source": [
        "Jupyter will always print or show the result of the last line (if there is one). For instance, here is an example of a cell that outputs an image:"
      ]
    },
    {
      "cell_type": "code",
      "execution_count": 7,
      "metadata": {
        "id": "PdhK_InZGdXM",
        "outputId": "5f70d9f2-a589-49f0-ee11-c6851b561392",
        "colab": {
          "base_uri": "https://localhost:8080/",
          "height": 209
        }
      },
      "outputs": [
        {
          "output_type": "execute_result",
          "data": {
            "text/plain": [
              "<PIL.Image.Image image mode=RGB size=151x192>"
            ],
            "image/png": "[encoded data removed]",
            "image/jpeg": "[encoded data removed]"
          },
          "metadata": {},
          "execution_count": 7
        }
      ],
      "source": [
        "img = PILImage.create(image_cat())\n",
        "img.to_thumb(192)"
      ]
    },
    {
      "cell_type": "markdown",
      "metadata": {
        "id": "kcpvPKdLGdXM"
      },
      "source": [
        "### End sidebar"
      ]
    },
    {
      "cell_type": "markdown",
      "metadata": {
        "id": "TOi3TpqiGdXM"
      },
      "source": [
        "So, how do we know if this model is any good? In the last column of the table you can see the error rate, which is the proportion of images that were incorrectly identified. The error rate serves as our metric—our measure of model quality, chosen to be intuitive and comprehensible. As you can see, the model is nearly perfect, even though the training time was only a few seconds (not including the one-time downloading of the dataset and the pretrained model). In fact, the accuracy you've achieved already is far better than anybody had ever achieved just 10 years ago!\n",
        "\n",
        "Finally, let's check that this model actually works. Go and get a photo of a dog, or a cat; if you don't have one handy, just search Google Images and download an image that you find there. Now execute the cell with `uploader` defined. It will output a button you can click, so you can select the image you want to classify:"
      ]
    },
    {
      "cell_type": "code",
      "execution_count": 23,
      "metadata": {
        "id": "9_9brCHpGdXM",
        "outputId": "fff1e5c6-5068-4d73-f308-253d8301eadc",
        "colab": {
          "base_uri": "https://localhost:8080/",
          "height": 49,
          "referenced_widgets": [
            "98c86433adca4441acdfc3392a5728be",
            "d0c5b025da124c399d9cff43d8f349aa",
            "01f8da98ad964fc08fd004c546b885c5"
          ]
        }
      },
      "outputs": [
        {
          "output_type": "display_data",
          "data": {
            "text/plain": [
              "FileUpload(value={}, description='Upload')"
            ],
            "application/vnd.jupyter.widget-view+json": {
              "version_major": 2,
              "version_minor": 0,
              "model_id": "98c86433adca4441acdfc3392a5728be"
            }
          },
          "metadata": {}
        }
      ],
      "source": [
        "#hide_output\n",
        "uploader = widgets.FileUpload()\n",
        "uploader"
      ]
    },
    {
      "cell_type": "markdown",
      "metadata": {
        "id": "mWtPaL3zGdXM"
      },
      "source": [
        "\n",
        "\n",
        "```\n",
        "`# Dit is opgemaakt als code`\n",
        "```\n",
        "\n",
        "<img alt=\"An upload button\" width=\"159\" id=\"upload\" src=\"https://github.com/timvandevyver/fastbook2/blob/master/images/att_00008.png?raw=1\">"
      ]
    },
    {
      "cell_type": "markdown",
      "metadata": {
        "id": "NKRJloEpGdXM"
      },
      "source": [
        "Now you can pass the uploaded file to the model. Make sure that it is a clear photo of a single dog or a cat, and not a line drawing, cartoon, or similar. The notebook will tell you whether it thinks it is a dog or a cat, and how confident it is. Hopefully, you'll find that your model did a great job:"
      ]
    },
    {
      "cell_type": "code",
      "execution_count": 21,
      "metadata": {
        "hide_input": false,
        "collapsed": true,
        "id": "Ts6fenXoGdXM",
        "outputId": "76b931af-d879-480f-a8d3-524a741dad19",
        "colab": {
          "base_uri": "https://localhost:8080/"
        }
      },
      "outputs": [
        {
          "output_type": "execute_result",
          "data": {
            "text/plain": [
              "[b'\\xff\\xd8\\xff\\xe0\\x00\\x10JFIF\\x00\\x01\\x01\\x00\\x00\\x01\\x00\\x01\\x00\\x00\\xff\\xdb\\x00\\x84\\x00\\x03\\x03\\x03\\x03\\x03\\x03\\x04\\x04\\x04\\x04\\x05\\x05\\x05\\x05\\x05\\x07\\x07\\x06\\x06\\x07\\x07\\x0b\\x08\\t\\x08\\t\\x08\\x0b\\x11\\x0b\\x0c\\x0b\\x0b\\x0c\\x0b\\x11\\x0f\\x12\\x0f\\x0e\\x0f\\x12\\x0f\\x1b\\x15\\x13\\x13\\x15\\x1b\\x1f\\x1a\\x19\\x1a\\x1f&\"\"&0-0>>T\\x01\\x03\\x03\\x03\\x03\\x03\\x03\\x04\\x04\\x04\\x04\\x05\\x05\\x05\\x05\\x05\\x07\\x07\\x06\\x06\\x07\\x07\\x0b\\x08\\t\\x08\\t\\x08\\x0b\\x11\\x0b\\x0c\\x0b\\x0b\\x0c\\x0b\\x11\\x0f\\x12\\x0f\\x0e\\x0f\\x12\\x0f\\x1b\\x15\\x13\\x13\\x15\\x1b\\x1f\\x1a\\x19\\x1a\\x1f&\"\"&0-0>>T\\xff\\xc2\\x00\\x11\\x08\\x00\\xd8\\x01 \\x03\\x01\"\\x00\\x02\\x11\\x01\\x03\\x11\\x01\\xff\\xc4\\x00\\x1d\\x00\\x00\\x02\\x03\\x01\\x01\\x01\\x01\\x01\\x00\\x00\\x00\\x00\\x00\\x00\\x00\\x00\\x05\\x06\\x04\\x07\\x08\\x03\\x02\\t\\x01\\x00\\xff\\xda\\x00\\x08\\x01\\x01\\x00\\x00\\x00\\x00\\xc5\\x85\\x8b\\xf1\\x14\"I\\xc6\\xa62\\x1c\\x01/\\x8b\\x83!\\xe1\\x80\\x90d\\xd9\\xecn\\xc4D\\'\\xb5\\xba6@K\\\\rf\\xc1\\x9d\\'r\\xf3\\xe5\\x85\\x89\\x94\\xf4\\xb8@\\x01\\n\\x8b\\xe4\\xd9.i\\xc0?\\x882\\xb2\\x8e\\x87f\\xdaMp\\x11R\\x8e\\xbb\\xe1\\xfe\\x1dy\\xfa0\\xe4\\xc8\\xc37\\xf0H\\xd9\\xe6d\\xc9\\t<5\\x16\\x14\\x97\\t]}\\x1b\\x7f\\xb5X\\x86!\\xac\\x9fy\\xcb\\xe2\\x07sdni*Hd\\xad9\\xa3Z$x\\xed\\x04\\x7f\\xb4\\x9az\\xe2\\xcc\\xb8\\x88$\\xe2\\xacF\\xbb\\x8e\\x02X\\xd1\\xa5\\xd5\\x95\\xefomG?b-\\\\\\xf7\\xd5\\xf8k\\xc0\\xd9\\xfc\\x86\\xc7\\xf7\\x9f\\xe6\\\\u\\x06[\\xa7\\x94\\xcay\\xf3\\xc7\\x91\\xa2\\x1e\\x9e\\x17C\\x98\\xb0\\x8a\\xc8\\x10\\xbb\\xde\\xfb\\xbb\\xecy\\xf1\\xfd\\xc4\\x85\\x12L\\xaa\\xfb,i\\x01h~2\"\\x17\\x7f\\xc8\\xbdI\\xc8\\xfc\\xb1\\x87tfs3\\x156^\\xa0V\\xbb\\xf9\\xb1\\x9e\\xfe\\x07U\\x9as\\xfd\\x93\\x8d\\x8c\\x1bP\\xf6g0T\\x1e\\xbf\\x0bH\\x19\\x11\\x84\\x91\\xd7&rb\\x87\\xea\\x84\\x16\\\\\\x97~i\\x96NuF\\x0e\\xfe\\xdb\\x96\\x19Z2\\x9e\\xb0\\xd1\\xf8\\x1eh\\xcd\\xf9\\xe4\\xc9\\x99\\xc3\\x17\\xd7\\x9a\\xdc\\x1e\\x0e\\xc8\\tw< 1g\\xab\\xfbAv\\x91\\x9erh\\r9pXunq\\xbajn\\x85\\x8f\\xd34t\\xe2\\x9d\\xbc\\xfeQ\\xcd\\x8dM\\x93\\xfa\\r\\xd1\\xb6\\x12\\xb5\\xa8\\xef\\xfc\\x8c\\xd8HT\\xc2iD\\x0e\\xd3\\xb4\\xd11EI\\x03\\xca\\xe5\\x06\\xca.h\\xd6k\"`\\xdfa\\x03\\xaf]*\\xab\\xa0\\x80<\\xd0\\xdco(E\\x00\\xb04\\x80\\xa5k\\x9e\\xf3\\xe1\\t\\xcf@JG\\x0eM\\xbd\\xcb)\\xf9\\xf5\\xfb\\xc3\\xcc2[P\\xcd\\xc7\\x85\\x1a\\x96t\\x0e\\xa0\\x10D\\xbb?u\\xaaH\\x176e\\xbc\\xdfM3\\xcd\\xfd\\t5\\xfe\\xc2\\xc3\\xdey\\xc3\\xf1\\xeb\\xf7\\xd5\\xd5ui\\xacd\\x80\\xcf\\xad.n\\x1d\\x1c\\x9a\\x02\\xaf\\xaefig\\x18\\xb0\\x04s\\xa4\\xa3\\x0fv\\xb0\\x9d\\xbezC\\xe9/\\xa7.^m\\x1b\\xbf[e:<\\xde\\xc7\\xbb[C\\x926\\x93\\x1c&Bz\\x98\\xd1\\x81\\x02\\x1a!\\xda}\\x9c\\xf0\\xdf\\xf3\\xd4g\\xf4\\x8e\\xbdz\\xfbn3\\xb1i\\x9c\\xcdej\\x9b\\xbf\\xa1\\x8aZ\\xb6\\xd4R\\x81\\xd3\\xb5\\xdd\\x81r\\xe4<\\xa9<\\xc1\\xb3o\\xef\\xcd\\x98u{\\x8f\\xbf\\x12&\\xc1\\xe6_V\\xd6\\xb5u~\\xe7\\xadn_x\\xe5S\\xe9\\xba\\t\\x84J\\xc5#K\\x96\\xf9\\x9f\\x05\\xa0\\xc9&wGL\\x8a\\x06,~\\xddg\\x89\\xfc\\xf3\\xb6lL\\xebN\\xeb\\xfc\\xa35(\\xe5\\xe5\\xacU\\xd8+5\\xdf\\x16\\x15\\x93E\\xe2N\\xf3}\\xb0\\xbc\\xd8\\xf9\\x18\\x7f\\xe4~\\xbf\\xb3\\xb8\\xc1\\x85\\xf4\\x1a\\xb1\\'{VY\\x11jCf\\xd1r,~\\xbb\\xb0\\xb2f\\xa9f\\xae)\\x99\\xc94P\\xd7\\xab+\"{\\x9b\\x1f\\xcc\\xf2\\xd0\\xc1^w\\xaaMu\\xfc\\xd9\\xef>\\x86\\xda7\\xc7\\xb9)\\xce\\xc0r\\xb7\\xd2\\x08\\x11\\xd4\\x04\\x96Y\\xc6@\\\\3$\\xd9R\\xe3\\x11!\\r\\x7f\\xe8\\xa6\\x16\\xb1\\xb5 3k\\x90\\xeb\\xbd/g\\x8aN\\xa1\\xb4N?\\xb7\\xf5|\\xf9\\x03\\x13\\xd4Z&\"s\\xf9`FL\\xde\\x84\\xfb\\xc3\\x85\\x18\\xafmP\\xff\\x00cQ9\\x8e\\xf1\\xdc\\xfebW\\xcb\\x15u\\x0f\\xf4\\x1a\\xd4\\xf1\\x1f\\xda\\xe2\\x10\\xebhG\\x1f\\x8d\\x93d\\xf4,g\\xa8q\\xf2\\xda\\xe2]\\xba\\x8e\\xcbS\\xcd\\x97}\\xf7$\\xaf\\x8c\\xa7\\xf3\\x97\\xe8V\\x8d4=\\x98U/1!\\xc6\\xcc\\xad\\xbeC\\x14\\xe9\\x10\\xa9Ob\\xa2\\x94g\\xf1\\xbdnI\\xd1\\xa9\\x17Kp\\xa9O\\xcc\\xb1Pl\\x17x\\xb2\\x1b\\xa8\\xa8q\\xaa\\xae:a\\x03\\xe4\\x14\\xb90}\\xc8\\xe8?\\xbc\\xd3\\x85>\\xa00\\xf5R\\xc2\\xd6\\xbe\\xbdi\\x95\\xd79p\\xbe\\r\\xf1/\\xe7:\\xde5\\xa54+Fw\\xf8\\xc1\\x1f\\xbf\\xafq\\xbf;\\x92\\xfc\\xfdi\\xfa\\x92o\\xd5J\\x89\\x9e\\xf6\\xe5\\x82^\\xbb\\xa9\\xac\\xbbJGy4\\xe7+\\xde\\xbe\\xa8+\\x9d\\x04\\xf5\\xf1*7_\\xe9\\x1c\\xa2\\x1e(0\\x01o\\xaf-\\x95\\xedx\\xb3\\x814-\\xdf*\\xb9x\\xd3\\x04]\\xc7(V\\xcdV\\x8a\\xadsQ\\xe8G\\x1f\\x8a~;r\\xeb\\xe3\\x9b\\x81\\x00+|\\xfe\\xa1_\\xf5\\xfe}\\x93\\\\W\\x17\\xd5\\xd1V\\xff\\x00h\\x86FH\\x00\\xeb\\xb2w\\x1d_O(\\xe8\\xb7\\x1f\\xff\\xc4\\x00\\x1b\\x01\\x00\\x02\\x03\\x01\\x01\\x01\\x00\\x00\\x00\\x00\\x00\\x00\\x00\\x00\\x00\\x00\\x04\\x05\\x02\\x03\\x06\\x01\\x00\\x07\\xff\\xda\\x00\\n\\x02\\x02\\x10\\x03\\x10\\x00\\x00\\x00\\xf9\\xf7j\\x95\\xdc\\x07\\x8a\\xed\\x8f\\x8f\\xa0\\xca\\xa1:\\xef2\\xb9\\xf4\\x0b\\xb9\\xde\\xf8~B7q\\x8d7\\xfa\\xae\\xaa\\x90|8\\xbd\\x0fH\\xe4\\xa5U\\xde\\xf1\\xf4\\xd1B\\xefK\\xd4xh\\x95$\\xa3\\xdd\\n&\\x17\\x88\\x81\\xbfG|\\x8f\\xbd\\xa2\\xc1\\x0b\\xac\\x91\\x98J\\x86\\x98\\xfb\\x95Qlj\\xe4\\x17T\\x04j\\xf7\"\\xc3\\xe8\\xa7\\x93\\xea\\x19,Z\\xd8\\xa1\\xe9\\x82-xf\\xfb\\xba\\x1f\\x9b\\x91\\x93\\x1a\\x1d\\xad\\x97\\xb3\\xdc\\xa7\\xa58\\xab\\xea\\x0f\\xb37\\xc4k#i@\\xa2h\\x0b\\xf1\\x18\\xdb\\x168y\\xe0}M3\\xd3\\xd6\\x1c}\\xe2oS\\xf5\\'*\\x98\\xf1G\\x922 ++K\\xa8\\x19\\x83T\\x84|\\xb1T]\\x0c-\\x9a\\xfa{\\xef{\\xbeU\\xb7t\\xac\\xf1\\xd43\\xca?0 J\\x18\\xf5\\x9a\\x9dW\\xcc\\xa7\\x89Wi^\\xa2zXJ\\x11\\xf5^,\\x92\\\\\\x16M\\x14\\xe7\\x1a\\xca\\x19\\xf7cL\\xc9\\x98\\xb9\\xf7\\xce\\x14\\xc0;\\xd7\\xdb\\xab\\x84\\xab\\xef#\\xc3|\\x7f\\xd2\\x0c^0\\x93\\\\\\x95\\xb6\\x0b])6Yo:\\xb1\\x96n\\xf5y\\xd8\\xea\\xae\\x1e0\\x848\\xf5\\x8a\\xed1\\x8a;`\\xa5\\xe44k\\xcc\\xe1z$W\\x04!+\\xdb\\x18\\xaa\\xdc\\xb6\\x91\\x18\\xdd\\x1b\\xdc\\xe5\\xdc\\xa6\\xb5\\x9b\\xb9[Q\\xcd\\x14\\xacd1\\xafT\\xd7\\\\-L\\xf2\\x9b\\x8a\\x0fS\\xf2\\xc8v\\xbe\\xf3\\xdd\\xf5\\x15\\xd9\\xae\\xaf\\xa9\\xdeh3\\x86U\\x98\\xd5\\xbfA\\xee\\x06rW\\n\\x1e\\xe9r\\x8d\\xbey\\xefC\\xdc\\xf4o(ju\\x8a\\x19\\x93EP\\xb2\\xf5\\xad\\xdd#\\xb2\\xbc\\xe6\\x95\\x82\\xb4\\x1a]FT\\x8c\\'\\xb9\\x1f\\x0b\\xdf^\\xf0N\\xbe\\xcck\\xcd\\x0b\\xd5\\xd0Xg<A\\x0e\\xe7\\xf4g)C\\xa8\\xd5\\xe4\\x7f\\xff\\xc4\\x00!\\x10\\x00\\x02\\x02\\x03\\x00\\x02\\x03\\x01\\x01\\x00\\x00\\x00\\x00\\x00\\x00\\x00\\x02\\x03\\x01\\x04\\x00\\x05\\x06\\x11\\x12\\x07\\x13\\x14\\x10\\x15\\xff\\xda\\x00\\x08\\x01\\x01\\x00\\x01\\x02\\x01\\x13Q\\xfb\\x91\\xb0\\xe6\\x16\\tRT\\x01\\x0b0p1d%\\x88\\x14\\xe2\\xcb\\xee\\xb1bn\\xaf`\\x9b\\xf5\\xef\\x15\\x86\\xdb7\\xd5\\xc4,\\x10\\xf5> \\xea\\xba?\\x82p~\\xd3\\x91\\tZ\\xd2\\x85B\\xe0\\x19\\r\\xc3\\xc2\\x19\\x08\\x85\\xb2\\x1cvlX\\x92\\x82\\x17\"\\xf7\\xfa\\xac\\xd8\\x03\\xa9\\x1dl\\\\\\xd8\\x9b2\\xc3\\xaa\\xc5\\x9f\\xf3\\xec\\xfb \\x92\\xa5)K\\x00\\xc2#\\xc6\\xd3\\xa7\\xcd\\xb7\\x89\\x0f\\x8f\\xa7\\xe3k<=^\\x02\\xc7\\rn\\xa7\\x8f\\xc9\\x912Q\\x81\\x94\\x1a\\x8b\\x11i\\xf7-[\\xfb\\x10\\xca\\xec:\\x86\\x92\\x01\\x05VME\\xd6Z\\xa6\\x0c\\xa9/_\\xa5\\xab]j\\xf1\\x0c\\xc3/u\\x9e\\xdbJ\\xee&5\\x9d_\\xc6\\xf7u\\xfe\\xaa\\xc8\\xc5`\\xdd\\xfd\\xed\\xbb\\x0e\\t\\x03]\\x86!\\xa84*\\xba*&\\xb4*@\\xb2\\xc4\\xf2\\x94\\xa8\\x05q\\xcf\\xb60L\\xf0\\xb3\\xc9\\xc6\\xd1\\xdc\\xee\\xd0\\xedo\\xf4\\x96\\xfe;\\xda\\xf3\\xa0Pr^\\xf2j(1)i\\x83U5\\xd1M\\x15a\\x12\\xa6CKU\\xa9\\xb2\\xbd-13\\xc0\\x11\\x80\\xc7\\xbc\\x1b2%\\xd3Q\\xd6l#b\\xe7\\x1b\\xed+u\\xcf\\xc1\\xfbI`\\xe4\\x1c6Y6\\x0c\\xc7\\x11\\x08\\xcf\\x0c\\x9b,\\xd6iR\\xbd]S\\xb5Q\\xecr\\xc9\\xa4\\xe6?cSc\\xe6s\\xcfSF\\xad\\xa3cr\\x1a,\\xe99\\xaf0^\\x16\\xb2\\\\\\xc1\\x10Z\\x86\\xa0\\x93\\n\\x9fv\\xb6\\xa2!\\x96\\xacT~\\xc7\\xe4\\x1e_\\x7fV!\\xad-\\xa5\\xde\\x9b\\xb2\\xab\\xd8\\xf3\\xfb\\xd2zK\\xb8N\\xa2\\xc1\\x01:\\x1aM\\xa2\\xfe\\xcf\\x9e\\xc5\\x8a\\xbf\\x8c\\x19\\x00\\xb4\\x97\\xd7b\\x1a/\\x9b\\r\\xb3\\xcb\\xd6\\xb2v\\xcf\\xf13\\xe2\\xcek\\x8d\\xfb\\'\\x08\\xbaMU\\xce\\x1c8\\x0e_\\x90\\xfd\\xc9>\\xc8\\xeaB\\x9e\\xe6\\xe1\\x15\\\\\\xe8\\xb7b\\xbc_\\xf2B\\x10\"\\x9cCV\\xe9\\xb1\\x16[g\\x9a\\xb4\\xe9\\xb3\\x8aBe\\x9b\\x06m\\x91h\\xdcg^\\xb1\\x9d\\x8bI\\xa21\\xd5\\xcd\\x95A\\xfd@\\xa6\\r\\xeb\\xe5\"\\xb6bO\\x12\\x10\\x83\\x15\\xca\\xcc\\x1eO+\\'k\\x91\\xdc\\xa5\\xd3\\x9e\\xf46\\x12whiz\\x02\\xc0\\xc0d\\xcd:\\x82\\'\\x9d3-\\xa0\\x10\\x15Xccw\\xb5La\\tBM\\x04\\x9c2\\xf7\\x86\\xfe\\x9f\\xd76I\\xd5-\\xf3\\x9bRv\\xde\\xcb\\xefu\\x1bO\\x8fvZ\\xab\\x08\\xcf\\xd2\\xa6!C\\x8d\\xcb9\\xd5\\xa0Mr\\xb1\\xb9_\\x7f\\xb1N\\x06FL\\xb6P5\\xd3Y_d\\x9f\\xb1Ny\\xf6\\x12\\xe3\\xb6[\\x17\\xeb\\xf3x\\xfa\\xdd*v\\x9c\\xe4)/\\xa4\\x8a\\xc8\\x053b\\xe5\\x1e\\xe29\\xebW\\x1fF\\xed\\xac\\xd9[Q\\x03 \\x8d\\x81\\x95\\x15\\\\\\x14\\'\\x9ebs\\xd6G\\xd3\\xd7\\x8f\\x9e\\x9cu\\xc7\\xbd@jk#E\\x8b\\xb2\\xa9\"\\r\\x886\\xcbV[&_J\\xce\\xa5k\\x95v\\x15\\xa1\\x8bd7\\x10\\x15A+H5r\\x02\\x11\\x1e `$9\\xab\\x97\\xf6\\x9c\\xbe\\xefq\\xb5g_Gu\\xaa\\xd9C\\x97vg\\xa6\\x9e[\\xa8\\x83\\xd8\\x99E\\xdavV\\x9d\\xa5a\\xf9\\x03W\\x8a\\x90\\xc5\\xc2\\xa2\\xb9 \\xd6v\\xd7!\\xeb\\x01\\xea\\x03\\xeaX\\xdc\\xad\\x9c\\x92\\xf6\\\\U\\xeey\\xb3\\xaa\\xdb\\xe9\\xf7\\xe1\\xb4\\xb9\\xbf\\xe9\\xfaO\\x8f\\xa2\\xaa\\xef\\xd8Q\\xeco5\\xbdJ\\xb9\\x9b\\xbb\\xfdm\\xba\\xcb\\xc4\\xc0b\\x9a\\xa6\\xd74\\x9d\\xa9,\\x9c\\x82\\xc1\\xcf\\x1e =\\xbe:\\xa7\\xd0u\\xdd\\x17(\\xfa\\xbf\\x15\\xf1\\xbf\\xa8\\xfa\\xdd\\xc6\\xf0(pTk\\xd8\\xafZU\\xb6\\xad\\xa1\\xd4t\\xa7\\xc4\\xd5\\xda\\x0fC\\xce\\xb2\\xb8g\\xd9\\x0c\\xae\\xea\\xee\\xac\\xcb\\'\\x12Q9\\xe62 \\x80\\xb3\\xce\\xb5\\x1b\\'s\\xdd\\x826\\x1bN\\xaa5\\xcc\\x1a\\xec\\xab^\\xba\\xbc\\x85\\x84\\xce\\xce\\x15Ow\\x7f\\x98\\xd7\\xde\\xa8\\xca[\\x0ej><\\xd9|{\\xb1\\xd5(\\xaa\\x9d6\\x1bD\\xa2HF\\x04b\\x0e\\x1d\\x9f\\x1es\\xdb\\x1d\\xb54\\xfeQ\\x94\\x8e\\xd4.\\xca\\xeb\\xf1\\xfas\\xd6,T\\x8d\\xe6\\xfbAO}\\xd0q*\\xa3%\\x8c\\xafj\\x88\\x1elu\\x1b\\x9d\\x12\\tM\\x8c\\x1c\\x1c\\x88\\x88\\x0f\\xe1e\\xa8s/\\xec\\xf9\\x1d\\xbc\\xd6\\x9aj\\x0ba\\xae\\xd3\\xd6\\xb3\\xa3\\xd5[\\x14\\xd6\\xde\\xec\\xf5\\xb4,\\x1f_\\xb4\\xe7u\\xfa\\xe1%\\t\\x10l\\x15\\xf6U\\xb0\\xfaN\\xe6G\\x90\\x89\\x82\\x1c\\x82\\x08\\x80\\xf5((\\x88\\x8a\\xd0\\xbewn\\xa9\\xb5N\\xfe\\x9fv\\x9e\\x13[MO\\x06\\xd5~\\xa9\\xa1\\xbd\\xe99\\xba\\x1a\\xda\\n\\\\\\xcb\\x16pse)mV\\xbc\\x06pc \\x95\\x83\\x93,\\x9f+\\x85\\xc3c\\x95\\xd3\\xe9\\x92\\xf5>\\x8fU\\xa5\\xe65\\xa9L\\xd6\\x15\\xdbOX\\xdf^?\\x9bJJr\\xa2o+Yz\\xce>t\\xfb\\x0b\\xc9\\xf5\\x01\\x11\\x98\\xc4\\xcc\\x17\\xbb\\n18\\x12Y\\xc2Q\\xa0\\x83\\x83\\x8e\\xa9\\xfa\\x0b\\x00Q\\x0b\\xcb3\\xdaV\\xe2\\xf9\\xda\\xc8\\x05\\xb5cYh\\xed,\\xd3\\xd6\\xde\\x17\\x1dW\\xd5\\x9bK\\x18\\x89\\xc2\\xc1\\xc89?1\\x81+/\\x1a\\xc5V\\xc3\\x0b\\xf67\\x8d\\xe2oW`\\x940\\xcb\\xaaf\\x8e\\x120S5\\x89\\xd7%\\xa0\\x9d\\x8a]#:s\\xbe\\xaf\\x1e`\\xa3&\\'=\\x95\\x10\\xb9\\x80j\\x9b\\xa22\\x0f\\xbfu+\\xd3h\\xf7:\\xeb\\xeb\\xb86w\\xddb\\xed\\xeb\\xab\\xa5\\x988L\\xdb\\xdc\\xd5\\x02\\'f\\xbb\\xa9<\\xd2\\x93\\xc2r#\\xc4\\x7f\\'\\n\\x10\\xafF\\x8f\\xb2\\xdd\\xcd\\xb1\\xc0\\xd9\\xd9_\\xdc\\xed~\\xcd7_W\\xb0\\x1e\\xbf{W\\x87hB21\\x93\\xb3\\xb4\\x94\\xd7\\x05e\\xc7\\xec,\\xfdzj\\xcc\\x86\\x82\\xc2F3\\xd3\\xd7\\xebB\\xbe\\xab+\\x85\\x10|kzF\\xda6\\xa9U-\\xef9O\\xe3\\xed/=B\\xa7O\\x1c\\xadq\\xc4(\\xb3\\xc5\\xd0b\\xb5\\x90\\x11\\xb5]\\x8a\\xa3\\x9al0\\xff\\xc4\\x00@\\x10\\x00\\x01\\x03\\x03\\x02\\x03\\x05\\x05\\x07\\x01\\x07\\x03\\x05\\x00\\x00\\x00\\x01\\x00\\x02\\x03\\x04\\x11!\\x121\\x05AQ\\x10\\x13\"aq\\x06\\x142B\\x81 #Rb\\x91\\xa1\\xb1\\xd1\\x15$3r\\xc1\\xe1\\xf0%C\\xf10ES\\x92\\xa2\\xff\\xda\\x00\\x08\\x01\\x01\\x00\\x03?\\x017F\\xeb\\xcf\\xb0\\xa2\\xae\\xb3\\xf6w\\xec\\xb2+\\xc4\\xac7^h\\xf5@_+I\\xbd\\xd7\\x9a\\xf3Z\\x85\\xae\\xbc\\xd3\\x809N|\\x9b\\xa2F\\xea\\xe9\\xbaU\\x91\\x08\\xb5\\xe8\\xd9\\\\\\x84Q\\t\\xc9\\xc5a\\\\\\xf6g\\xb2\\xcb\\x1fkI\\xc2!y\\xab\\x04\\\\w\\xec\\xce\\x13\\x98\\x9c\\xdej\\xc3+\\xbcE\\xcf[!e\\x84\\x10B\\xfd\\x9bv\\xdb\\xb2\\xe8\\x97+,\\xab \\x82{\\xcf\\x84]V\\xe9\\xd4)\\xe5\\xd3m\\xf4\\x95\\xc78\\x83uAG+\\xc7\\xa5\\x97\\xb4\\xb1\\x7f\\xed\\xd2\\x9fL\\xafjf\\x00\\xb6\\x80\\x8b\\xfe\\'\\x00\\xbd\\xaai\\xc53?\\xfb\\x85\\xed]+I<9\\xef\\xb7\\xe0!\\xcb\\xda\\xca\\x98;\\xefr\\xee\\xaf\\xb3^\\xeb;\\xf4^\\xd3\\xb1\\xb29\\xd4\\x8e\\x0c`\\xf5\\'\\xd0*\\xaaG\\x96\\xcd\\x1b\\x9a\\xee\\x84\"o\\xfb\\xaa\\x96@\\xc9\\xfb\\xa7\\xf7r\\x1f\\x01\\xb6\\xfe\\x88\\xe7\\xcb\\xb4\\xf6d\\x0b\\xa0\\xd4\\xd07C\\xaa\\xb9\\xdd]\\xc8 mtG$Ge\\xcfe\\xd5\\x82\\xb1XV^\\xf3P\\xd6X\\x9b\\x95EN\\xf6\\x977$g\\x9a\\x83\\xba\\x0c\\r\\x1al\\x98\\xc0\\x03\\x1b\\xa4y/%\\x9bYZ\\xe6\\xd9W\\xca7@\\x9b8.\\x19\\xc4\\x83\\x99UL\\xc9\\x1bn\\x7f\\xd5{#\\x10cE\\x03\\x03\\x01\\xb9h&\\xce?\\x9b\\xaa\\xe1<B\\x08\\xda\\xfah\\xc8c4\\xb0Z\\xdaF\\xd8\\xe8\\x9b#{\\xde\\x1a\\xc8\\xd8\\x18<\\x10\\xb0`\\x7f\\xbf\\x99UT2h\\x9e\\'Fo\\xccY\\x1e\\xdd\"\\xe0\\xa759<\\x82\\x9c\\xf7o\\xdaZU\\xfbn\\xee\\xc2\\x15\\x82\\xb7e\\x94z]R\\xf6Z\\xdbe:\\xaepv\\xb2\\r\\x01\\x00\\x86\\xc8\\x995y+\\xf6\\r\\xd75\\xde1>\\x96i\\x1a~\\x86\\xc5w\\x8ftG%XX\\xe1p\\x8e9\\x1f\\xf7\\xa8\\xdd\\xab\\x93\\xd8lS\\x1c\\xe3\\xeeu\\xe3\\xfc\\xb2\\xb7\\xfdZ\\xab\\xb8+\\xbe\\xfbK\\xc1\\xf9\\x99{vc\\xb2\\xca\\xe1X\\xf6aX\\xa0\\x01A\\\\\\xec\\x85\\xd0\\xd2\\xad\\xc9c\\xb2\\xca\\xaf\\x8dVwpF\\xc7\\x86\\xfce\\xe6\\xcdhB\\x81\\xec\\xa1\\x82\\xdaX\\xc1p\\xdd\\xae\\x9d\\x04\\x03W\\xc4r\\xe5\\x9b]\\x10\\xcb\\xdd\\x125#\\x92\\x9cn\\xeb\\xe2\\xe5\\x16\\xf3Z\\x8f\\xc6\\x88\\xdfe\\xd1:\\xae\\x89\\xd2Gml\\xca\\xf7Z\\xe6\\xea\\xc5\\xf0\\x8b\\x80\\xceWx\\x05\\xf7E\\xb2\\x1c\\xdf<\\xc0PqJwS\\xce-\\xd1\\xc1T\\xf0y\\x7f\\x1cg\\xe1x\\xfbV\\x0b\\xcd\\x0b\\xee\\x83\\xae\\xaeP%\\x04\\x10XV\\xd9UqyF\\x90D_4\\x96\\xc0T\\xbc\\x1e\\x8cSR\\xb44s<\\xc9\\xf3N\\xaa\\xaf3\\xc9\\xd6\\xff\\x00\\xd1AM\\x16\\xf7\\xfe\\x17|I\\xd4,\\xb4\\xb7O\\x9a\\xfb\\xb0\\x84p\\xa6\\xb6\\x0b\\x13e\\x1b^\\xeb\\xbcY\\xb7\\xd5s\\x80\\xa9dku\\xb0\\xb6\\xe3\\xe2\\xb2kml\\xb4\\xa0\\x0e\\x10{H^\\xe5\\xc5\\x1a\\xf1\\xb1\\xce\\xc8\\xb9\\xad\\xe9\\xc9\\\\\\x1b\\xaf\\x1e\\x0e\\xcbE\\xb7\\xfdTS\\x02\\xc9E\\xd8\\xe1\\x90\\xec\\xaa\\x8a9\\x1dQO\\r\\xe0;\\x96\\x9b\\xdb\\xfa+o\\xd8U\\xc7aiD\\x95~j\\xf6Z\\xbb,\\xb0\\xb0\\x9fWW\\x1cm\\x17.+\\xddi\\xdb\\x13~Q\\xcb\\t\\xc7Q*::#)8\\xdc\\x9f%\\xc4x\\xbf\\x10\\x96\\x9a\\x86H\\xa3\\x820\\xedsJ\\xfe\\xea+7\\x90\\x00\\x15\\x1d\\\\a\\xa2F\\xf7\\x96\\xf1X\\xdc}\\x16\\xbf\\x1b\\xb3\\xeb\\xd8$a\\x07\\xa2lP\\xbe\\xee\\xf8ZW\\xb9\\xc7h\\x1d\\xde\\xcad\\xdb|\\xf2\\xfd\\x17\\x18\\xe0\\x8f\\xa6\\x9b\\x88T\\xd2\\xce\\xc9\\xf7};\\xcb\\xc4y\\xcb\\x1e\\x08\\xc7\\xd1Sq({\\xc8\\x0f\\xdc\\xc8.\\xd1\\xf8H\\xdc-\\x1e\\x8b\\x9ai\\x10\\xc8\\x07\\x8b?\\xb2\\x0e:\\x1cz\\xa3\\xa0\\xba\\xdb\\xaf\\xbdv\\xae\\x9c\\xd0\\xd7\\x85h\\xb5\\xb4\\x83\\xe4\\x9b+l\\xe1\\x8229(h\\xdf\\xeft\\x8c\\xd3\\x13\\xcf\\x89\\xa3\\xe5(\\xddc\\xec;R\\xca\\xbf`\\xb2hB\\xdb\\xa0\\x84t\\xd2U\\x1bk~\\x01\\xfc!Y\\xa3\\xd1\\x16Sj\\xdc\\x92\\x99\\xc4xtt\\xd3\\x07ZXE\\xecy\\xaa\\x819\\x11T:\\x08\\\\\\xfb\\xdbH#\\xe9t8P\\x8f\\xbd\\x94\\xbc\\x8f\\x8c\\xed\\x7f/\\xa2\\x00\\x065;\\xad\\xac\\x89i\\n\\xa6y\\x19g\\x91\\x13\\x8d\\x9c\\xb8\\x9dC\\xe5\\xd3\\xa5\\xc7Q\\xd2-\\x7f\\x08\\xfe\\xab\\x89\\xd5\\xb8E$\\x92\\xe9v\\xcd\\x11\\x91\\x7f\\xa9U~\\xcd<\\xf7UD\\xc2#\\xcc.\\xe6}Q{\\xadc\\x82\\x9c\\xcd=9 \\xf8)\\xba\\xf7\\xa5\\xb6\\xeb\\xa8/w\\xad\\x0c;_\\xf9@B\\xe6;ke\\x0e\\xfc\\xdc\\xe0+\\xe7VU\\xa9\\xf0\\x9c c\\x81\\xc9A\\xec4\\xf0\\xba\\xfe/\\x12\\xbb\\x96\\x95p\\xac\\xb5v89\\x10\\x11\\t\\xcb\\xcdy\\xa0\\xa4<-\\xd9\\xbf\\x8b\\x089\\xc6\\xf7A\\xe1\\xcc\\x1f+n\\x9d\\x15\\x1c/n\\xeck\\x7fd&\\x1d\\xf3\\xac\\xd8\\xc6\\xefv\\x05\\xfdU\\x14g\\x15\\x14\\xcdoR\\xf1s\\xf4U\\x06}0:\"\\xdb\\xf2 \\xdf\\xf4R\\xbf\\x0faV\\x08N\\xc2\\r\\x8d\\x93\\r\\x8d\\xb6\\t\\x91\\x8b\\xff\\x00+\\xbfv\\x96\\x0f\\xaa\\x0f\\x17\\xf9\\x80\\xc2\\xb3\\x00\\xfd\\x96\\xa8\\xa9\\x9aF\\xa3\\xdf\\x82\\x16\\x8e!(#b\\x8eM\\xf76\\xca\\x0fy6\\xfa\\x84t\\xdf|\\x0c\\xa6\\xe8 \\xfdP\\xe1\\xf4\\xc5\\xe7\\xe1\\xd2\\x05\\xbf1\\xd9\\x19ds\\xb9\\x92\\x80j7A\\x04\\xd3\\xc9\\x02B\\xb3\\xfb,\\x85\\x90\\xb6\\xe8\\xf5\\xecco\\x0c\\x8e\\xdf\\x00&\\xb8Z\\xf9\\x1b\\xadrNz5E\\x057\\xdel\\x180\\xb8mU_s<\\xe1\\xf3E}1\\x1f\\x85\\xa0~\\x11\\xb2\\xe1\\x12j{\\x99\\x17\\x996\\\\\\x0e\\xaag\\x9a7DH\\xe7\\t\\xb1\\x07\\xe8\\xaa\\x19_7\\x0f\\xab\\x94\\xbd\\xd1X\\xb1\\xe7\\xe6h\\xfe\\x8bV\\xdc\\xc2 \\x92\\xb40\\x8d\\xb7N\\x95\\xee\\x048\\xa6\\xe1\\xe4[<\\xd3Z\\xff\\x00Ug8_dc\\x86\\x95\\xf8\\xf0\\xd5\\xc5p\\x7f1\\xb2p\\xad\\x9d\\xce\\xf8\\xb5\\x9f\\xdd\\x16\\xb0\\x0c\\x1b\\xab\\x07xnm\\xc9w \\xfa+\\xdc\\x9d\\x91\\xaf\\xaa1\\xb1\\xdfw\\x1e\\x07\\x9f\\x9f\\xd8\\xd2S\\xba\\xf6\\x12B\\xf1v\\x1e\\xabO4\\xe3\\xcd]\\x12\\x9f\\x03\\xc1i\\xca\\x15\\xb01\\xc4\\xf8\\x86\\x1c\\x85\\xea\\xf9i\\xb5\\xd7s\\xc3\\x9f6\\x0b#{\\x0c\\x976\\x1a6M\\xa3\\xf6\\xb6\\x8aJ)\\xa5sf\\x05\\x92\\x00\\x0e\\x9b}w\\xb2\\xa9\\x1c\\x12\\xa1\\xb43\\xcad}F\\x8dW\\xf8A9Q\\xd3RI$\\xf5:\\xa6d\\xae\\x1d\\xdb\\xdd\\xb0\\xfa\\xee\\x9b\\xc4\\xb8\\x97}\\xa5\\xaf\\x81\\xba\\xdb\\xab}Nq\\x1b\\x1f+e\\x01J\\xcbtE\\xa6\\xc56\\xf6E\\xae\\xd4>\\xa9\\xfbn\\x02,\\xd2P\\xefo\\xb8>jI8UV\\x80\\x1c\\xed7i\\xbd\\xb22\\xa3\\xaf\\xa2\\xa7\\xae\\x1f\\xf7\\xe2c\\x8f\\xaf4\\xd2\\xed\\x1eXC\\xbbF\\\\\\x02\\x9fH\\xce\\xe5\\x87K\\xdd\\xff\\x00\\xe5\\xbf\\xee\\xb2\\xb1\\xd8,\\xbcH\\x97,\\xabY_\\xb0\\xa2\\x8a=\\x99N\\x87\\x8a\\xc3\\x11>\\x19\\r\\x97\\xf7>!7>_R\\xbd\\xeb\\x84\\xb6Y[\\xad\\xb2S\\xb4\\xbc~+\\xb7(\\xf0\\x9a\\xc9`\\x0e|\\x910\\xbb\\xb9\\xb8\\xc8\\x0e\\xe5\\x7f%%\\x04\\xa5\\xec`//u\\xbel\\x9f$\\xce)\\x1ba\\x9e\\xd1\\xc1\\x08\\xc4Q\\xb3\\xbb\\x0eq9y\\x03\\xaa\\xa5m\\x0cg\\xc0\\xd6\\x11\\x8blA6\\xbe\\x14\\x8c\\x07\\xf0\\xddJ|VN.\\x19\\xb2\\x92\\x12sp\\x81\\x00\\x95\\xa6$j\\\\\\x01\\xe5\\xf1\\x04]I3Y\\xa7\\xe1>kL3p\\xf7\\xb8\\x07F\\xf2\\xe6z8\\xe5:\\x96l\\x14\\xe9\\x9d\\xa4\\xd8(\\xc4\\x0es\\x8d\\x86\\xe7\\xe8\\x9f][,\\xee\\xdd\\xceV\\xec\\xba\\xb2\\xd6\\xf5\\x95e\\xb2 \\xa3~\\xcc\\xf6\\x94U\\xb8\\xfd(\\x03S\\xdcK@\\xe9~hQR\\x8amm\\x05\\xff\\x00y!vt\\xb7\\xa9M\\xfe\\xc7\\x80\\xeb:}\\xdd\\x84\\x122q\\xd1w\\xd3T\\x19lq\\xb5\\xb3\\xff\\x00\\x95)\\x96W\\xf7\\'\\xc7&\\x96t&\\xd7r\\xd6\\xd6\\x9d\\x0evr\\x01\\xe4\\r\\xac\\xa5\\x14l\\x00\\xe4Em/\\xdfP8\\xb9\\x1eI\\x8cyk\\xee<@g\\x9f\\xa7T\\xc7En\\xf8\\xb8g\\xe2\\xb5\\xff\\x00n\\x89\\xd0\\xc9\\x81\\xa9\\xaa\\x9c\\xbf\\xbb.\\xfd\\xf2\\xa1?\\x0b\\xb2\\x9c\\xea\\x87B\\xe1p\\x13\\xa0\\x94&\\xf8\\xee~ \\xa5\\xa6\\xae3\\xc1\\xbb_\\xbf\\x97E\\x17\\x13\\x89\\xae\\xd9\\xfc\\xdb\\xd1>\\x19\\xaeZo\\xb1RM\\xc3\\xea\\xa2g\\xc4\\xf8\\x88\\x17\\xcd\\xae\\x9fG;\\xd8\\xeeG(\\xdd]\\x15u\\xe2C\\n\\xc8\"\\x0f\\xdb\\x00*~\\x13\\xc6\\xa9\\xaa\\xe6k\\x9e\\xd6\\\\\\xe8\\x18\\xbe9\\x93\\xb0G\\xda^(\\xf7\\x12\\xf8\\xe9\\x99ydx\\xf8\\x83[\\x8b\\xff\\x00\\x9d\\xdf\\x0b?\\n\\x82\\xb3\\x82\\xebdm\\x8b\\xdd\\xdba\\x1bvh\\xf97\\xf2T\\xd4\\xc7\\xbc}\\xf4\\xb2\\xeeu\\xf3\\x9b\\xf3\\xf3U\\x1e\\xf2\\x1dO\\x03Y\\x10\\xdd\\xae7\\xd5\\xe6|\\xd5\\x1d{#\\xfb\\xa1\\x14\\x97p\\xdb\\xa8\\xde\\xea\\x82\\xd2^P\\xd7\\x9d-/\\x1f\\xc1\\xebc\\xb2\\x95\\xb1x\\x99\\xdei\\r\\x1a\\x80\\xbez\\xdb\\x92\\xa0p\\xf83\\xb9\\xb1;\\xf5D\\x83\\xbb@\\x18\\xca\\xfb\\x80\\xd8\\xa5\\x90JE\\xdaZ\\xe26\\xff\\x00U\\xc4\\xbd\\xe9\\xf4Ur\\xf7\\x86<\\xb5\\xc4\\xee<\\xd7{U\\x0c\\xbb]\\x80y\\xa6\\xc73F21\\xe6\\x8c\\xac\\xc2\\xfb\\xe7\\xb9\\x97\\xe7\\x8e\\xa9\\xd07\\xde v\\x922<\\xc1A\\xae\\xa7\\x86R\\x1a\\xf9\\x85\\x9a}\\x14M\\x88\\x82u\\xb9\\xdf\\x13\\x90\\x83D\\xd1\\xc5f\\x13\\x926V\\xec\\xb9\\xec\\xca\\xb5\\x93J\\x1b/\\x16\\xdd\\x83\\xecaj6A\\xad n~3\\xfe\\x8a(#\\xd0G\\x86\\xed|\\xbc\\x8b\\x85\\x8b\\xad\\xff\\x00:\\xa3\\x07\\x01|\\x8f\\x1a\\xa5\\xa9\\xd7!\\xf5\\x0b\\xdaN,X\\xc1\\x1fu\\x0f\\xc4un\\x7fE\\xc3\\xf8#\\xdd\\x14\\xd3w\\xd3\\xb7v\\x0e^\\xa9\\xc4\\xe3\\xc2\\x07!\\xc9T\\xc5+\"%\\xcf\\xef\\x1c\\x1a\\xc0\\x01s\\x8b\\x8e\\x00\\xd27R\\xd3\\xb2\\x16\\xbeW\\xe3\\xc1\\xa4\\xf5\\xbd\\x8f\\xfe\\x0f5O=\\xc6\\xb6\\x97\\x0f\\x8b\\xfe\\x7f*\\x96\\x18\\x8f\\x8d\\x8f\\xb0\\xcd\\xce\\x96\\xb7\\xcc\\x97tUU\\x14\\x82\\x9e\\x81\\xe6Hdq\\xd7W{\\xf7\\xa4\\x0c\\xc7\\xa7#\\nz\\xae+\\xa1\\xda\\xb0\\xc7X\\xfdv)\\xae\\x03P\\xff\\x00\\x0c\\x00|\\x93\\x9d\\xc4\\xa5\\x01\\xe4\\xb1\\xbbsW\\x8f\\x08\\xd2\\xbbS\\xd9\\x83\\xf3(\\xdc\\x1f\\x0f[\\x96\\xfa\\x15,0\\xd1\\xd4\\x0b\\x81k7\\xe8\\x8d\\x7f\\x06\\xa2\\x9d\\xdf\\x13\\xd9gcr\\xd3d\\xca\\xea\\x19`x\\xf8\\x9b\\x8fU-%D\\x90\\xca\\xd2\\xd7\\xb0\\x90AY@\\xa0\\x02hC\\xb3d5\\xf6c\\xecxQ\\x054\\x9c\\xed\\xcf\\xd0\"\\xedd\\xfc\\xcf\\xcf\\xd4*\\x9e\\'\\x05(\\xbf\\xcedq\\xfc,o\\xf5C\\xdf\\x9bGD\\x1b\\x15\\x1b$\\x02Z\\x8f\\x99\\xe0o\\xa7\\xa3P\\xe1\\xdcF^\\xe5\\xe5\\xf1I\\xe3nnF\\xaf5\\x14G:\\x8b\\xed\\xf0\\x86\\x92O\\xe8\\x85-l\\x9e\\xd1\\xf1X\\x9d\\x10\\xa3c\\xfd\\xd6\\x07\\xb6\\xcf\\x06\\xde)\\x1c=0\\xd0\\x84\\xae\\xf7\\xb8\\xa5&j\\x8a\\x99j\\'\\'\\xe1v\\xb3}:|\\x91,\\xd3\\r\\t/\\x07\\xe6.\\xb1\\\\S\\x8ch\\xa3-\\x11k~\\x86F\\xc6\\x91c\\xd0\\x9d\\xc8*>\\x1fA\\x1b\\x1b+f\\xbc\\xb1\\xb6X\\xc5\\xdbnz\\xf5r=\\x14t\\xd0Tq\\x0f\\xf1\\x1au\\x08\\x9d\\xd4_\\x17\\xf3RR\\xd1\\xb7>3\\x9c\\xf5*@\\xf7>@nI9\\xe4|\\xd4\\xc0meY,oc\\x88\\r7\\xcd\\x94\\x93\\x07O??\\x08\\xff\\x00+W{A_B\\xff\\x00\\x11\\x0c3\\xc0\\xdbZ\\xd6\\xf0\\xbc\\x0f\\xa6Q\\x8b\\x80p\\xd05htz\\x83\\xbf\\xcf\\x94\\xf8\\xd9\\xa7\\xe2\\x16\\xfd\\x15\\'\\xb4TL\\x99\\x842\\xb66X;mV\\xe4\\xe5-4\\xcf\\x8aV\\x16\\xbd\\x86\\xceiN\\t\\xdb\\x15n\\xcd\\x95\\xec\\xb5=]]Yc\\xb0\\xf6i\\x04uGK\\xad\\xb0m\\xcf\\xd1;\\xd9\\xce\\x04xL&\\xf3L\\xd6\\x9e#Q\\xf39\\xe4_\\xb8\\x8f\\xa3\\x19\\xb1\\xeaU5\\x14R\\xcd#F\\x05\\x9a\\x0f\\xec,\\xab_\\xc3`\\xa1\\x9e\\x82\\x1a\\xd2\\xd8\\xdc\\xd6jm\\xdc\\x01\\xcd\\xaeU5\\x04r\\xc9A\\xc3h8p\\xa8f\\xb7>Yu\\xbd\\xaf\\x19\\x05\\xa1\\xfc\\xfe\\xab\\x8e\\xd6T\\xbd\\xfd\\xeb\\x1f#Z<\\x11\\xba\\xed,\\x1dt\\xeft\\xdf\\x7fu\\xa0\\xee\\xc6\\xb9\\x0c\\x9a\\x8e\\x9c}z\\xde\\xd8CM\\x9f\\xe1h\\xd80x\\x9ev\\xddSP=\\xb2\\x06\\x1dSx{\\xd7H\\xed\\x7f\\x99\\xd7\\x00\\x86\\x90\\x9f\\xed\\rt\\x14\\xf0\\xbe|x_#\\xeeDp\\xb3l\\x7f\\xcc\\xa8(`\\x8a\\x9a\\x16\\xe8\\x89\\x80\\x00=\\x17y\\xbeCy&\\x8c\\x16\\x9clS\\x9e2\\xdf\\x08M\\xe2\\xb5B\\x8a\\x9d\\xd8nf=\\x07D\\xcax\\x80\\xe4\\x02e\\x7f\\xb5\\x14\\xb4\\x94\\xd6pf\\xb7H\\xe6\\x8b\\x9f\\x0br\\xd5\\xee\\xdc\"\\x18\\xc3\\x9e\\x1a\\t\\xd0\\x1d\\xc8\\x1eHL7\\xbf\\xf2\\xbb\\xa6\\xbfI\\xb9T\\\\V\\xb1\\xb2\\xd4\\xbd\\xf1?\\xe6s>e\\xc2\\x9f\\xf0\\xc9P\\x07\\xa8U\\x8d%\\xd4\\x931\\xe3\\xa3\\xb0U\\x7f\\x0c\\x93MLE\\xbd\\x0f\"\\x8a\\xd9l\\x89wm\\xfbq\\xd9\\x94\\xcfh8\\xe3_P?\\xe9\\xdc<\\xb6z\\xaf\\xce[\\xe2c\\x0f\\xe9s\\xe4\\xa1\\xfe\\xf3&\\xb6\\x8do\\x91\\xef\\x93\\x90\\xd4n\\xa98\\xdc\\x13\\xd46\\xf2?C\\xc3\\x1a\\xebx}\\x07T)\\xf4\\xea\\xa7!\\xf68n\\x07LY\\x07\\x1b6\"\\x1da\\x93\\x9d\\x7fS\\xcdN\\x05\\xe3k\\x89\\x01\\xaem\\x81\\xbbo\\xcc*\\xaaV\\xc7[$f.\\xed\\xe1\\x9a\\xc0\\xd3\\xf1\\xff\\x00+\\xbf\\x9c\\xe9a\\xb1s\\x8d\\x986\\xf4R=\\xcd\\x8d\\x91=\\xeeu\\xed\\xe07L\\xe1\\x94?}cQ1\\xd4\\xf2:\\xfe\\x1f\\xa2\\x06>\\xf3:\\x82c\\x18\\t\\xdf\\xf4Z\\xb2@\\x03\\xaa\\xf70\\xda:g\\x83<\\x9b[\\xe4\\x1dJ\\x8a\\x82\\x93]\\xee\\xe7e\\xef<\\xc9P\\xd1PN\\xe3\\xf8H\\x07\\xcd:Z\\xea\\xca\\xf3q\\x90\\xc1o\\xcd\\x97&{\\xb3-\\xd16YH\\x02\\xe8?\\x16\\xb1\\t\\xa5\\xdc\\xd4\\xd4\\xcf\\x0c}\\xf4y\\xa3%\\xf2\\x0f\\xd5A_\\x01\\x8ef\\x87\\xb7\\xa2\\x93\\x85\\xcem\\x1b\\xc4\\\\\\x89ZJ\\xb5\\x96{n\\x16{1\\xd8\\xed.-\\xde\\xd8^\\xcf\\xfb%\\xec\\r/\\xb8M\\xf75\\xb1\\xb1\\xc1\\xdf\\xf7*\\x1d \\xbb\\xdc|\\xff\\x00\\x80\\xa7\\xe2\\x0e\\xcf\\x821\\xf0\\xc6\\x0e=OR\\x85\\x05cX\\xf6\\xdd\\xaeP\\xb9\\xedtm\\x07:\\x9aKF\\n\\xaef\\x86\\xc7\\x13ZZ-\\xaa\\xdfU\\xc5 v\\xb7TB\\xc1wdoc\\xf4T\\xd5\\xf4\\xef\\xa5\\xa8\\xac3\\xb2]#\\xbb\\xf8n[\\xcf+\\x84\\xf0\\xcaGk\\xd1\\x1b\\x9d\\x83\\xad\\xc0\\xbc\\x9b\\xf3\\xb6\\xd6\\xbd\\x95+\\xab]\\x05\\x1ce\\xad\\xbd\\xb5s)\\xcc\\xb3\\xdfr\\xe4\\xd6\\xc6\\x1b\\xd7\\xcdF\\x1d\\xa8\\xe6\\xdc\\x91\\xa5\\xa6\\x91\\xcdh\\xc0\\xc7\\xf4SU\\xd5\\x89j.d\\x90\\xeaw\\xa7Eh\\x03\\x1aPi4\\xac\\x00\\x91\\xf3\\xeeM\\xf9\\x048o\\x0b\\xa5\\x87O\\xdeh\\xd5.>w\\xe4\\xa7\\x08\\x1b\\xaa\\xfb&\\x17]\\xa4\\xea\\x1c\\xd5\\xcd\\x89\\xca\\x06}$\\x9c\\xac\\xe9?\\xaat~\\x18\\xdd{&?\\xc3st\\x1c\\xdc\\x9b\\xae\\tP\\xedRS4\\xf5\\xd0t\\x7f\\x0b\\x81\\x97}\\xdd;\\xfd5\\x94o\\xda\\x02\\xb9C\\xb0 \\x9c\\xfd \\xb9\\xc47\\xe1\\x04\\xed\\xe8\\xae\\x9d\\x11\\x06\\xf6+\\xde\\xa0\\x11I\\'\\x8d\\xa3\\x9a\\xa8g\\x11\\x87\\xc4\\xe2\\xc7\\x9b9\\xbe\\xa8is~\\xa1j~\\xd6\\xe8UL\\x15\\x1e2\\xe7r\\xcat\\xe0\\xd4J/\\xa4\\x80\\xd2\\x83m\\xe8G\\xe8\\xb5\\xc9\\xb2\\x980\\xb86\\xe1:\\xb9\\xe0\\xbd\\x92\\xb6&f\\xce\\xc5\\xc8B\\x89\\xc5\\xf6M\\x8e\\x07\\x08\\xe6-x#\\r9\\t\\xfcc\\x8d\\xb6Gf(\\x1c$y\\xeaw\\x01\\x07\\x80\\xf7\\x84\\xf1\\x81\\xb8Z\\xe5\\x1e\\xb9E\\xd38\\xb7\\xe5!\\x1b\\xbb\\xf2\\xecP\\x9aS}\\xba\\xad\\x13\\x15\\xdd\\xcb\\x92\\x9bR\\xd4\\xe8\\x1eqpS\\x9a\\xe1\\xa7\\xff\\x00B\\xca\\xeb!X,\\xaa\\x8a\\xbaj\\xb9\\xe1e\\x9d\\x13n\\xcf\\xcc\\xe1\\xc96\\xbe\\x1ay\\x8bH6\\x17\\xf5\\x08\\x19-nI\\xae\\xc9\\x1dQ\\x920\\xe0\\x13(\\xe8!kG!t\\xd2:sY\\x06\\xeb?\\xc2h\\x84\\x809&QP\\xcd!\\xc6,\\xdf_!\\xcdUV\\xd4\\xe8c_$\\xafv\\x07\\xaa\\x1c.\\x9268\\rg\\xc4\\xf3\\xf9\\x8a\\x03KF\\xc4o\\xe8\\xb1\\xa8\"K\\x9e\\x06J:.F\\xe8\\xc0\\xd7\\xbc6\\xf6\\xcd\\xbc\\xb9\\xafz\\xbf \\xec\\x8f\\xf6N;\\xed\\xe5\\xba\\x8d\\x8f\\xd8\\x1c\\xf3Ze\\xd0\\xe1`\\x84\\xb1\\\\tO\\x16\\xf2\\xfb\\x16*\\xc3\\xb6\\xe7\\xb3+\\n\\xe5:\\x97\\x806g\\xefPK\\x87\\xa7$\\xc6\\x87i\\xea\\x81\\x92\\xe8*zj&\\x97\\x91\\xe2u\\x9a:\\xd9E-<ZM\\xc0\\r\\xfe\\x15\\xc5\\x82\\xd8\\xdd\\x0b\\xe5]\\x9b&\\n\\x19\\\\\\xf6ju\\xbc#\\xcc\\xa8\\xa0=\\xfc\\xcck\\xe5>V\\x03\\xd16\\xf6\\xc2i t\\x1f\\xca \\xe9\\x1eH\\xf7d\\x0ee\\x08\\x98\\xdb\\x9c\\xdb*G\\xd3EI\\x0e\\xf5\\x0f\\rw]\\x1c\\xff\\x00T\\xcah\\x98\\x08\\xc0B2y\\xf4A\\x8e%}\\xf3\\x1d\\xca\\xeb\\xbf\\xa6\\x1e\\x88\\xb6}7\\xc1\\xeb\\xd8\\x16\\x16U\\x95\\xbb\\twe\\x8ff\\xa5\\xdcp\\xca8\\xdb\\xb3a`\\xfd\\x95\\x9e\\xe1\\xd5e{\\xbc/q\\xd9\\xa1Wqz\\xc2\\xf7\\xb8\\xd9\\xb7\\xd29\\x00\\x9d\\x11\\xf7G\\xbe\\xfe\\x10\\xe6\\x1f%\\xa9\\x10.\\x89+O\\x9b\\x93\\x08\\r\\xb3\\\\\\xeb\\xf5\\xc8B6\\x8b3t0-k\\x8b\\x94\\x19\\xf4\\xfeP\\xb9v\\xeb>$3\\xd2\\xc6\\xe7\\xcb\\x9a\\x93\\x8a\\xf1WU\\xb0\\x1d7\\r\\x17\\xd8\\x0f%\\xaa\\x15\\xa2\\xfc\\x8a\\xbb\\xfc_\\xc2a\\x98\\x1c\\x0c\\xa6\\x18\\xfc7@\\xb88+,\\xf6g\\xb0\\xab-Y\\xec\\xb2\\xb3\\x96\\xce]\\xf7\\t\\xa3q\\xce\\xa8\\x1as\\xe8\\xbb\\xa3\\xad0\\x8b\\xa9\\xeaGw\\x1b|)\\xb1@K\\xf7y\\xfd\\x957\\xf6\\x84\\x84\\x91\\x105N\\x8e\\x17\\x1f\\xc2~\\x1f\\xd5\\\\4<\\xd9\\xe1uMh\\xbd\\xd4\\x1c\"\\x9c\\xbbF\\xa2v\\xbe\\x14\\xfc^6\\xcd%\\xbcN8\\xb6\\xc8\\xc3\\xa7s\\xe6\\x84m9\\xb9\\xe6Q{\\x05\\xb6\\xea\\x88\\x1aB\\x11\\xc6O;\\x7f*Y!0G\\x93!\\xf1g\\xe5\\x08\\xb4\\x82H\\xbe\\xf6\\x0b\\xee\\x05\\x93\\xa4\\xc2dw\\xd4\\xd4\\xd0\\xf1ne\\x10\\x07\\x84\\x8b\\x04\\xc9\\x1b\\xd9s\\xf6\\xbc*\\xc1Yeb\\xd7L\\xa8\\xe0<6V\\x9b\\x83L\\xcf\\xe1jaNe\\xecl\\xa6\\x82`\\xd66\\xfb\\\\\\x9d\\x80\\xddH\\xea\\x19\\xfb\\x96\\xba\\xfd\\xdb\\x83t\\xef\\x91\\xba\\xb6\\xb8\\xdd\\xb5\\xec\\xe0\\xb4R\\xc5\\x14\\xef.|b\\xc1\\xe4\\xe4\\x8e_P\\x9d-1\\x96\\x08\\xd99\\x1c\\xb5\\x16\\x95Q3@tb\\x9e\\xe6\\xda\\x8b.?UQ1\\xf7\\x87\\xf8\\x9d\\xcc\\x93pA@S\\xd4\\xc2\\xfb}\\xdc\\xb7\\xb7\\x93\\x90\\xd2\\xb6i@0\\x0b,\\xd8awQ\\xb44\\\\\\xba\\xe9\\xef.\\xd6\\xeb\\xea\\xdd1\\x87\\xbbi\\xb9)\\xd1\\xc3\\xf4L\\xdc\\x9d\\x942E\\xa4\\x1c\\xae\\xf1\\xf6\\xb0\\x19\\xe4\\x9e\\xc6\\x02\\xe7_\\x18Z\\x8ep\\x88F\\xca\\xc3\\xb0\\x9e\\xc78\\xa3l\\xab\\xaf\\tVYL\\xac\\xf6f\\x18\\x9b{\\xd1\\x9e\\xe4\\xf9\\xd8^\\xebSvN\\xbe\\xc8\\t\\xec\\xd7\\xb86\\xfb#->\\xb7\\x0b7\\x92\\xa5\\xaa\\x8bWr5\\x7f\\xf2[*\\xaa\\xa1\\xe0\\xf7\\x92\\x81n\\x81R\\xd0\\xd3\\xf74\\xc0Tg\\xc6y\\x03\\xcc\\x05\\xdc\\x8d\\x1e\\xed\\xa7\\xeb{\\x85\\xdc\\xc5\\x81\\x87\\x1c\\x84c\\xa429\\x87T\\xb2g\\xd0+\\xec\\x9c\\x08\\xc28\\x08\\xdf\\xe1>\\xa9\\xac\\x88\\xb8\\xb3<\\xb0\\xbb\\xb1\\xdeJt\\xado\\x16n/{\\xa7\\x08\\xf2\\n\\'\\xe1n\\xe8\\x8b\\x9d\\x93\\xd9 \\xcd\\xb2\\x8fwdC\\xf3\\xb2\\xff\\xc4\\x00#\\x10\\x01\\x00\\x03\\x00\\x02\\x02\\x02\\x02\\x03\\x01\\x00\\x00\\x00\\x00\\x00\\x00\\x01\\x00\\x11!1AQa\\x10q\\x81\\x91\\xa1\\xc1\\xd1\\xb1\\xff\\xda\\x00\\x08\\x01\\x01\\x00\\x01?\\x10\\x0f)A\\xb0\\xb0Z\\x8a\\xe2\\xd4`\\x83\\x18\\xdd\\xc5Q#\\x87YP\\x16\\xce\\xdba\\xf9f:bT]B\\xdc\\xb9\\xdc\\xe6:b\\xaf\\x82-3r;K\\xdd\\x9a\\x90\\xe2\\xc2\\x0e\\x99ib\\x97\\x17Y\\x98\\x81\\xa9D@\\xbf\\x00\\'\\x19y\\xb13\\xeeP\\x16\\xc5b\\xd8\\x9f\\n\\xa6ly\\x0b\\x13\\x15\\x04\\xe3\\x89\\x0ba_\\x089@\\x06U\\x19ZB[\\x02\\xb4\\x95,\\x19VO\\x04#\\xecw\\xa9{\\xad\\xc2t\\x8b\\x14\\xc7K\\x92\\x89\\x0c\\x10h\\x80*2Y\\x89\\xfd\\xe0\\x90\\xc8[\\x84e\\xf7(\\xad\\x82\\x9a\\x88@\\x06 \\xf1q/\\x04g\\t525\\x19\\x19)\\xddA\\x83\\x13\\ta\\x85\\x85n1\\xb5\\xb4AM\\x187\\xb2u\\xb0&\\xe8\\xb5\\xc6\\x00UD\\x96\\xe1\\xb3\\xd0\\xc8\\x17}V~\\x81\\xb9g2,g\\xfb\\xeb5\\xde\\xa7\\x97\\xe0\\xa7et\\x81\\x87\\t\\x81~\\x84\\xb5\\xc1B\\xba\\xabW\\xe4.\\x13\\r\\x8eT\\xfac\\x95\\x15\\xf7.mfA&\\xf2*\\x85\\x86\\x10\\xc5\\x8d\\x88(\\x10\\xab\\xde&\\t^\\\\\\xcb\\x08W\\x88\\x85\\xe4P\\xc8Md d\\xa4\\x94\\xd0O\\x83l\\xb8\\x822\\xb9\\x84\\xad\\xd3\\xec\\x96\\x13\\xc2\\xaa\\xec\\x86\\xd0\\x0c\\x05D\\x16\\x96\\xa8\\x8d\\xc2\\x15w\\x81\\x88l\\x02q\\x9b\\x11Aq\\x8d\\x81\\x8eS-\\x14\\x83\\xe0l(\\x1b,\\x07\\x1eB%j\\x00\\x840O\\x0c\\x18\\xfe\\x81h\\xff\\x00\\xd9\\xf7\\x07\\xe7\\xa8\\x06\\xb5| y\\x95#\\xa3D2\\x98y\\x9f\\xdc\\xd7\\x18V\\xddO+8\\x81\\x81\\xb6Ps\\xe2\\xb9b\\x01]\\xcb\\x03\\'A\\x1e\\x0e\\x08\\xd0`\\xb8%]\\xab\\xa2\\xfdB\\x93Gnu\\xf0\\xd7r\\xc6\\x84U\\xc4\\x9a\\x142\\xae\\x10\\xd9^e\\x14\\x82\\'\\x85d\\x0ejj[\\xf2\\xbc\\x81\\x92\\xc1\\x80\\xa9o$\\x1b\\x8b\\xfb\\x18\\xb70\\xa1\\xc7\\xe9\\x95R/\"\\x8b\\x0b\\x80\\x05\\xfb\\xa4\\x14\\xa6\\r*\\'L\\xf3K\\xc8\\x16\\xb0\\x92\\xc9]\\xa2\\x06\\xc1\\x04\\x8al#\\x0f\\xb4aR\\x14\\xe1\\t\\x1c \\x89\\xa8A\\x08;\\x0c\\'\\xc5\\xdfaP\\xfc\\xb6\\x1e\\x92\\xe8XXAl\\xf0tA\\x00\\x8b\\x1f\\xfa\\xdc\\xfb\\x1a\\x18G4\\x85s\\xf2\\x18-[{\\x19\\xac\\xd8\\xfb\\xeeR\\xd1WsQ\\x8a$\\x82\\x1ax\\'\\x0f&\\xe3\\xa5tn\\nU\\x01c\\rX>\\x1aS\\xfb\\x99\\xf8\\x96\\xd57\\xc2\\x1a\\x1c>\\xa3k\\xd5\\x83*\\x18\\xa4=\\xa5\\x91[\\t\\xcaql*\\xa6+a%pB\\xa5C.\\x10yF\\xa2\\x00\\x8b\\x84\\xd2\\x0b/E\\x98\\xbd=\\xb05c\\xab\\xdaS}\\xc5\\x919\\xea\\x18\\xda\\xa1\\xa8F\\xee,*\\x00^\\xd4\\x1e\\xe5\\xc1\\xdd\\x01\\x1d\\xf9\\xe3\\xea\\xe2\\xda\\xca\\xf3Q8\\xa2\\xd5\\x00qr\\x91+\\x05A\\xbfp*X)\\xbb\\x88\\x0eO\\xa81\\xb7f\\x9eb_\\x97C\\x8a\\x17F\\xb9\\xa9qj)\\x0f\\xe4\\x8a`\\xf9\\x11\\xadaoe+D\\x1ea4\\\\\\xb7\\xcb\\xfe\\xec\\xce\\xfd\\x02\\x91\\x9b\\xbdV-\\xf2;\\x03\\xb8\\x1b%\\x92\\xc3\\x98\\xa4\\xccLe\\xa1\\xf8Jr\\xe5\\x05!\\x96\\xa5\\xa0\\xdc\\xb7Q\\xac\"\\xa2\\xc6\\xaf\\n\\xbc\\xed\\x80\\xba\\xc2(\\x01\\x7f\\x10\\x86z\\xfd\\xc1]\\x8bhQ<\\xf0EW\\x1a\\xfd\\xb3j\\xbd\\x1a\\xb1\\xef\\x89\\xad\\xf2v\\xb2\\xc8\\xcf|\\x15\\x05\\xd7\\x01\\xccsZ\\xb4\\xbdsF\\x85\\x07{\\x1a\\xb6\\x15qQ\\xe9\\xd8\\xa5\\xfc\\x96\\xe78\\x14S\\xcd\\xe6\\xc1\\xa1;{\\xdb\\x9d\\x91\\x81n\\xa3\\xd8\\x1ey\\xb0\\xe2m\\xe6\\x97:\\xe4\\xc2\\xea\\xe0\\x17R\\xe2\\xb5?u/\\xa4R[\\x165\\x0cl\\x1b\\xc29>\\xdd\\x0b\\xfa\\x8d/4]\\xa7\\x86\\xe0&Sq\"\\x14\\x94\\xcbw\\x05d\\x015\\x87\\xb2\\xc2\\x87\\x98h\\xdb\\x82)\\x84\"0\\x02\\xd9\\xc9$\\x16#aql\\xa5\\xdc\\xa7\\xfbe3\\x9a\\xd2\\xc3t\\xfe\\x1c\\x97\\x89hT\\xf6\\xb8\\xd2\\xe0\\x88\\x0b\\xdf \\xbe\\t\\xcb\\x08\\xd1\\xb7X\\xea2F`\\x12\\xd0P)\\x91cE\\x91\\xe6\\xa8\\xa2\\xad\\xf4\\x84W\\x08\\x14\\xcb*D\\xb8+LUm\\xd34\\x12\\x88u,\\xbco\\'HK3_\\xf0\\xb0\\x83z\\x0b<\\x12\\xc1\\xa3c\\xc0O\\xf2>$\\xff\\x00\\x94:\\x10W\\xb7<1\\x18\\xa7\\x87\\x16K\\xea\\xe8x\\xa6\\xa5\\xc6\\x13\\x1c\\xff\\x00\\xa3\\x0b\\xccV\\xdf\\xe6\\xa0D\\xb2\\xf20\\xac\\xfb\\xec\\x97mc2\\x81+\\xed~\\t4\\xa5\\x90\\xb5\\x95\\x18-\\xda\\x94\\xc1+\\x1b\\x13\\x98\\xc3~-\\x9a\\xc0\\x05\\xbc1\\xc1\"\\x8cO> .8\\xa7\\xba\\xc9\\x9a\\xefXt\\x01\\x96\\xe4r\\xd1\\xecZ\\xb7\\xd4\\xa0ZP}\\x0eyC`\\xf4\\xde\\x0f\\x93\\x84;a\\xaa\\xc4\\xb6=\\x83\\xdd@MS\\x9d\\xe4\\xab\\xf6\\x8d\\xa4\\x1e\\xbf\\x07\\xf4\\x8e\\xf9\\xd6\\xbbTd\\x8a\\xb4\\xaa\\x15\\xa6\\x1c\\xae\\x9f$\\xb8zP\\xed\\x06\\xa5[\\xb7W\\xa4cjadV=\\xdc\\xba\\x9a4\\xd3\\xc5y\\x18\\xd1\\xa4 \\x8b\\xad\\xf3\\xeaV\\x90v\\xc1\\x9f\\x7f]1\\x0c\\x00\\x1bj\\x1a\\xfcG\\x86\\xa9_\\xbf\\x88\\x02\\x19\\xde`-\\xa801K\\x16C\\x7f\\xb8#\\x03s\\xbe\\x83\\xbc^j\\x13\\x9b\\x88U\\x15\\xf6\\x98\\x8d\\x07\\xb9\\xddK\\xfb\\x07\\x19z\\xd9\\xb6\\xe9oQH\\xb9\\xa0\\xc7\\x10\\xf1\\xff\\x00g\\x10\\x1a\\x06h\\xf3o5?Pp\\x98\\xdc\\xd0\\x9c\\x81U\\x01\\x17\\xcd\\xc1\\x85+g\\x8e\\xff\\x00r\\xd8\\xf6\\x89\\xe1\\x9a>\\xb0\\xdel\\x00\\xe9\\xb0T\\xad\\xb0k\\xf4\\xf75Wc\\xce2\\xe5Q\\xb0Tv\\xdc:\\x13#W\\xd4:\\xbeT\\x02(\\x07\\x8e\\x13%\\xb1\\t\\xb17R\\xc7\\xc60(\\x86@\\xf3?\\xc8\\xf8\\x17\\xcb\\x86s\\x1d\\xb5\\x05J\\x96\\x8d\\xf8\\x8b\\x8cb\\r\\x82_P\\xd2w5\\xec\\xa9\\xa3\\xf0\\x0b9y\\xc8D\\xa1\\xcc\\xc8\\xb8\\xb1\\x00\\x9d\\xc2D\\x97\\xde\\xf5\\x08+A\\xfd\\x12\\xd4\\xaeB\\xb0)W\\xa1H\\xe4\\xce\\x02\\xfb\\xee\\x94\\xc5\\xa4F\\xccF\\x8b\\xfb\\x8chn\\xaf\\x81O$Hm\\x95\\x84\\xa5\\xf4`\\xbc\\xb1\\x15\\xb4\\xf2\\xbb\\x8d8\\x05\\xa51V\\x8a\\x04(\\x87\\x01m\\x13\\xab\\xf7\\rBP8a:\\nS\\x19qe\\r\\xaaTp9X\\xa9\\x89\\x10|Fs*\\x1bH\\xc5\\xfab\\xc4\\x94\\x9d7\\x10m\\xb6\\xa8{ \\xa1\\x0b\\x1bO\\xea\\x17\\xa4\\xea\\x87l\\xa5\\xfb\\x93v\\xbe\\xe6%Q\\x18\\xa0\"\\xa1\\xe9\\x9a\\x88\\x16<\\xc1\\xfc\\x07\\xa9\\x96%\\x87\\xb9dL^\\xd5\\x10\\xa3`u7\\xad\\xa5\\xa0\\xd5\\xb8~\\x0e\\xe5\\x06+\\xe7\\x00V\\x98m\\x95e|>\\xa3\\x84\\xa5\\xee\\xac\\x15\\xd8\\xb1K\\xef\\xa8\\xe3\\xa2\\xe7\\'\\xb5\\x98\\x885\\xc3\\x1a^\\x1a\\xcc\\xb8\\xea\\r\\xe3*\\x02\\xf7w\\xeaV\\x8d\\x0e\\x92\\xca\\x0c\\xfd\\x87\\xf9+\\x82\\xfa{\\x8e\\x9elD\\xea{,t2\\xe9\\x89@\\x02\\xfc\\x90\\xd3\\x81\\xfc\\xdc\\xaf\\xd2\\xc0\\x9c\\x16\\x90\\xd3X\\x08\\r\\x81\\x05*Eo\\xa1y\\x1c\\xfdMt\\x04*u\\x0f\\x8b\\x86%\\x14\\xb9m&\\x06\\xa5\\xe2\\x88\\x04}\\xe4\\xef1\\xdce\\x0c\"5A\\x19\\xbd\\x97\\x0f\\xc6\\x87\\xd4j\\xfa&\\xa0 \\x00\\x0c\\x05\\xea\\xde\\xf9h\\x05\\x94\\x0b\\x1a\\xc3\\xe5\\xac){%\\xe2\\xa0\\x85\\xa9O\\x07j\\xaa\\xa2\\xb4\\xf5<\\x18\\x1e\\xc9Q\\x114y\\xd8\\xbbR\\xb7\\x88\\xf9(<\\x10\\xa2\\xe5j\\x184\"\\xd4c\\x94\\xe4f\\x94\\x8c\\\\=X\\x08&\\xa8\\xba\\xf6T\\x14\\x11p\\x1aHud?\\xc0\\x8d\\x8e\\x83\\xc3]\\x93r\\xe4\\xa0\\xcaH\\xb0\\x00>\\xa5?\\x9a\\xee$k}\\xa6\\xf9c\\xa6e\\x15\\x01\\x1bS+0\\x9a\\xb8\\xb29\\x0b\\xa1\\x83\\xedDZ\\x95\\xa9{\\x9e\\xb2f\\xb7`2\\nfX\\xe2\\x12\\x92\\xf0\\xa4wdW\\xa8\\xa6\\xc5\\x96\\x96\\xcb\\xd9f\\x8c\\x1dsU\\x988\\x02\\'\\xf5y\\xa1O\\x1d\\x8e\\x8b\\\\rPo\\xb4\\xd14\\xd7\\x93\\xaf1\\xcb\\xb1mU)c\\xb0\\xc7\\xbf$a\\x91\\xce\\x80\\x18Th\\x00\\xa4\\xd5\\xc8A\\xc7c\\xddz\\x97\\x82^\\xbe\\xc2\\xf1\\x00\\x84\\x1c\\xa7Y\\xb4Z;\\x80\\xd6\\xa1)\\rs\\x95_\\xd3\\x1a\\xebLi\\xcc\\xa6\\xcd\\xf0\\xaf\\xa2\\'\\xd0\\x83\\xac\"\\xc4\\x93H\\x9e\\xc8\\xf7\\xb7`\\xf3\\xb6-\\xdaZ\\x9e!\\xd3e\\xbb\\xae\\xe1\\x84X\\xb2\\xb2\\xc6\\xa4\\xe3,\\xb7]\\x04\\xec%\\xc7\\xa4\\xf8\\xb1b\\xc0\\xba\\x0f\\xb3\\xe8\\xe8\\x96|\\xc5!K\\xe6R\\xa2\\xcb\\x04\\x1a\\x95\\x96\\xa1@\\x82X\\x07\\x92\\t\\x98\\x02\\xec\\x8c\\x82\\xae.\\xdc\\x9eXQ\\xb1\\xe4\\x89.\\xff\\x00Z6\\x0fYl\\xd8\\xc2\\th\\x8d\\xe9@\\x01\\xed\\x1f\\xcbGt=G\\xa3\\x80\\xf0T\\x17\\xd9\\xa2\\xbb\\xf4\\xce\\x84\\xe2\\x01O\\x8b\\xda_\\x82\\xf41\\x14;\\xd2\\x14\\xad1]\\xb4V\\xf8\\x86\\xee\\x95\\xee\\xe8\\x0f\\r_\\xd5\\n\\'+\\xa6\\xe7g\\xb3\\xa5J\\xef\\x83H6\\x0b\\x00\\t\\xfa`\\xcaq\\x82\\xb3\\xa4\\x11~n\\xd8\\xb9)\\xebC\\xc3zcH\\'p\\xb7.\\xc6$\\xc0\\x0c\\x08m\\'W*\\x1c\\xef/\\xf5\\x1a\\x19\"\\xc7\\x06\\xf3\\xf5\\x06)k\\xc2\\x1a\\xff\\x00\\xb8\\xc5\\x17\\x80\\xdb\\xd9\\xbe\\xb9\\x8c}\\xdd\\xcaX7\\xf3PoS}:0FM\\xe8\\x95,I\\x83\\x05\\xa6 [\\x1fU1)\\x97\\xbd\\xa6L\\'\\x89S\\x84Bs\\xb3\\x9f\\x13j8\\nB`\\xf3\\xfed\\x0c\\xb6\\xf8\\x1e\\xc2%1qm\\x7f;\\xf8\\x90\\xa3\\t\\xb8\\xf57\\xd5\\xe4\\xd4\\x8c\\x8c\\xbd[\\xad\\x83!F\\x04\\xebU\\x84X\\xa4j\\xdb\\x93\\xd0\\xa5\\xe0\\xbe\\xe5\\xf6\\x13>\\xb0\\xbd\\xc5\\xc0W8\\xeb\\xb0TN\\xbdB\\xabm1E\\x0e[\\x8d\\x1f\\x03/n[\\x07\\xa9S\\x99|\\xea\\x1c4T\\x02X\\xf8yF\\x84j\\x15\\xcf\\xbek\\x01\\xeeI\\xd7\\x90\\xf9\\x95\\x81T\\xcb\\xe2[FV\\xf2:\\x9a\\xea-|\\x94\\x1f\\x98\\x95G\\xd8^D;\\xe3\\xf8Ki\\x19\\xa6*^>\\xd9V*\\xfeJ#qq\\x0f\\x8f\\xf51\\xdb4\\x8aD\\x89r\\x08YL\\xe2\\\\\\xa5\\x05\\x8fb\\xe1)Tn\"\\x94\\xa2\\xb00\\n!n\\x17\\xe2~J\\x96\\xfa%\\x0b\\xa4x\\xc3W\\x17\\xda4\\xbb\\xf7\\x83\\xb7sd1\\x92\\xa3\\x05\\xa3\\x0fw\\xae\\xe0\\xe9\\xa5\\x16K|I\\xa1\\x08tG\\x1eC\\x80\\x06P\\x02%\\x05\\xe2\\\\R\\xe0$\\xc3\\xdc\\x0b\\xfc\\x00\\xa5*\\x8f\\x01\\xcc\\xa2e%\\xa7D\\xd9\\x00\\xf3\\r\\x87\\xdc \\x86\\xc1U\\x05\\xb1H@?\\xd3q\\xc3\\xad{C\\xd2!_\\xfdA\\x00w3\\xed(,\\x85Y\\xd7\\xdc4\\xb1e\\xb7\\x14\\x03@O\\xab\\x87+0y\\xcb\\xba\\xa0\\x87\\x81$\\x9b\\x02k\\x8d\\xd3\\t\\xe3\\x9eB\\xaf\\xf5\\x9br^m\\xa14V\\x9c\\xd8\\xc5\\xc8\\x001\\x83\\x8b\\xbe\\x18\\x18\\xf5f\\xeb\\x96\\xddy|\\xbc0|\\x9fC\\x04\\x9f\\x08R\\xc9r\\x80\\x11\\x86\\nF\\xb2lh\\xf2\\xb9\\xdaP\"\\xd1\\xdb+snp\\xe5?\\r\\x87\\xc2\\x1e\\xc2\\xab]/\\xdb{\\xa2eG\\x809\\xa5n\\x11\\xcb\\x12\\xd1\\x9a(t\\xd4/\\xc1\\x19\\x8cs\\xa4_Vre~lT\\x15\\xb4J\\xb7v\\x16\\x82\\xc5\\nV7\\xe6\\x01YsT\\x17\\xcb\\xaf\\x03\\x16\\xb6\\x8e3\\xdf\\x14AT:\\xb5\\xa5+\\xf0\\x12\\xe4E\\t9\\x98\\x80\\x83h\\x1a\\x87T\\xbf\\xccL\\xc7l\\xb3\\xb5\\x8f\\xe2\\x02uW;\\xcc_\\xb8\\xbcZ\\xd8\\xbc0\\x86uN\\xf1\\xb5Q\\x11\\x96\\xaa\\xc2%C\\xc6\\x8c6\\xef\\xc9,f\\xa0\\xb7\\x15R\\xb0\\xcf\\x8f\\x04\\x81\\xb8\\x8b\\x94\\xa3H\\xbc/\\xe9\\x88\\xeb\\x9c\\xca},\\xc2\\x87p\\xcbn\\t\\xac\\x96\\x11\\x08\\x12\\xeb,\\xd4\\xa2\\x16U=\\xf56\\x90>\\t\\xf0<\\x92\\xbc\\x10C5\\xb7j!\\xf2\\x7f,Q\\xef\\xa1\\xbe\\x17\\xa4g\\x0c\\x85\\x03\\xd3\\x9c\\x1c\\xb5\\xd1\\x05x!\\x144\\x0b\\xf6\\x90i}\\xdb\\x1e\\xb0\\xf0z\\x82(J\\xc2nZ\\nk4\\xaa0\\x00Y\\xe0d,\\xaa\\xb4\\x16^\\xfd\\x1e\\x08\\xe2ps\\xa1\\xf4J\\xcb\\x94\\xd8\\xaf$\\x14\\x7f^\\x95\\xb5\\xe8T\\xae0\\xb2\\xf08\\xdfP\\xe9j\\x03\\xd4\\x0e\\xbe]\\x9f\\tL\\x14\\xc25e\\x1fG\\x11]\\x05\\x10\\xd1\\\\\\x1d\\x18\\xed@\\x0f\\xa5\\x96\\xed8WL\\x16\\xfa\\x9a\\x90\\x14\\x03V\\xdf5(j2$*:\\xddE\\xfbK\\xb2\\x95\\xf2R\\x1bA\\xa6\\x98!\\xa3\\x825\\x80Ke\\x8f \\x08\\x88\\xf1\\xb8\\xa0\\xee\\x88![@\\xf0,c\\x90\\x02\\xc9\\xe4\\xe4\\x86\\xf0\\xd28Y\\x12K\"*\\x06,\\xfa\\x97\\xf9\\x88Q\\xeem\\r\\x8a\\x07&\\\\[\\x98\\xb6Q\\x9cbkX>m\\xc1\\xe1\\x936\\xc8$5\\xef\\xb8\\xd3\\x15\\xa8\\xe4\\x07\\xa9\\x1a\\xd4\\xbe\\x0f>\\x889\\\\\\xaa\\'Vx\\x9a\\xe3hV\\xaf\\xed\\xeb(\\xc1\\xe0\\xfc\\xf3\\x01\\xc4[\\x0e\\x92 \\xc2\\x9e\\x8eJ\\x81\\x9b@\\xce\\xef\\x99\\xa2\\xe6\\xaf\\x90\\x80\\x9a\\xa3^\\xd1\\x97Mv\\x9f\\xeb\\x04\\xd0\\x05\\xe3\\xa9C\\x05\\xce\\x8b?p~\\x8b\\x8ah\\x0b\\xb8\\r\\xfcB\\x92\\xe7b\\xb8\\xc0!%\\x115\\x177\\xc2\\x87\\xea+\\xad\\x9al\\x15P\\xd1[\\xf2LO8\\x94\\x89\\xb8O\\x16+\\xfc\\xc7K7\\xac\\xf2Q\\x04@\\xbd\\xfbgd]\\xf9j0\\xaeO\\xe0\\xc2\\xac].\\x8f\\xe22\\x0431\\x06f\\xe9\\x94^\\x85\\xda\\xab\\x806\\x15\\xd2\\xb0\\x0e\\xd7\\xe8#\\xf6\\x1b\\xe5\\xf2\\xc4K\\xa4\\xc7\\\\\\xaa \\x1fP\\xb3\\xf1(\\xa1P\\x12\\xa47C\\xf5\\x1c\\x17Y\\xd8.\\r E\\xaeX\\xf7\\x00oC\\x17\\x1f\\xa3\\x10\\x9a\\x85ZW\\x11p\\x03\\xb8\\xc5\\x0b\\xd5TV\\x93\\x97\\x05\\x91Ues\\x1e\"0\\x0f\\x83c3\\xe0\\xb2\\xc3\\xa4\\x12\\xef\\xd2\\rN0\\xec\\x01\\x1a\\xe7kw\\x10\\\\\\xe2T\\x1c\\xa8d\\tv\\x16\\x94\\x95 \\x08~\\xa0\\xfb\\x08\\xe9`\\xba\\xac\\xb9\\xb2\\xc5y\\xaa\\x83\\x97.3\\x98\\x0f\\xef\\x9ca\\x80E\\r;T\\xfa6\\xb64\\xaa\\r_l\\x08\\x19_\\x1cxC!\\xc8%%\\xa45 \\xd8Z\\xdf\\x84\\r\\x8b\\xc0P\\x04\\x7f\\x0e\\x10\\x88\\x82S\\\\J\\xe0\\xa2ju\\x03\\xc3\\xe6aP\\x1ez>\\xe6\\xe2\\xdb\\xe5\\x1f\\x9a\\xe8\\x1c!u\\x05\\x9d\\xc2\\x98\\x17\\x92(U\\x06\\x9f\\x8b*\\xfc\\x05\\xedK\\xa01J!\\x03\\xae9\\\\JL\\xda\\\\\\xb9\\xa7|z\\x9d\\xbaO\\xdaF\\xd4j1\\xb7\\xb5<\\x93\\x04\\xa6U9\\xa4 \\x153e{\\x7fPM\\x83FEz}\\xf0>!\\x0e^J\\xc6\\xa6W\\xd0\\x11\\xa58\\x19\\xedNQ|\\x1b\\xc4k\\xa8K\\x8d\\xbd\\x81\\xd0\\xe0j\\x89\\xacm\\xd4\\x1c\\xa1\\x0e\\xea\\xe9\\x0b\\x822\\x87\\x8e\\x19ef\\xef\\x8cN\\x00\\xc2\\xec\\xab\\x0f\\xa9\\xad#\\xb2\\x10\\x9b{s)i`\\xe6U\\x85`\\x0cP\\x8a\\x98J\\xbf\\x85\\x9c@\\xbb\\x80\"\\xb2iO&\\xf9B\\xf5\\x19en\\xba\\x8a\\x92hU\\xa2\\x19e\\xdb^|\\x98\\xe6M5\\x14\\xf2z\\xc5}\\xc7\\xcd \\xdf\\x9a\\xaf\\xd3\\x0e\\xfa{\\x83\\x10\\n\\xf3\\xcc\\xe9\\x01YK`\\x9e\\x8c\\xd2\\x08\\xf4\\\\\\xcfQC}\\te4/\\xde\\xc7\\xa9.\\x7f\\xc4\\x07L\\xbb\\xa9h\\xb9\\x0f\\xcf&t\\xba\\x0b\\x14\\xdd\\xa7L\\x1f\\x8b\\tP(\\xea\\x1bd:c\\xb9\\xa6\\xde\\x1eIBp\\xac\\xbe\\x98\\x9e\\xd5\\x05,\\x12\\xc0)y1-9\\x92\\xe4\\xb3e\\xc2\\xe1x\\x8e@\\xb1VTJ\\xe4\\x9e$\\xa8\\xbe\\x08+$krT\\x1cUt\\xf2R \\x17\\xa8\\x93\\xc4q\\xd4M\\x17\\x1b\\xfc\\xd3\\xf7\\xd17\\xe9KA\\xa2\\x87\\xa2W-\\xb3\\xc0N\\x91\\x8bS\\x90\\x14\\xf2\\xcb\\xcf\\xc1\\xd1\\x98-\\x96\\xa2\\rz\\\\\\x1a\\xaa\\xbb\\\\\\xb3\\x15\\x95>+]k\\xec\\x9e\\x00\\x12\\xc0\\xe0\\x84t\"\\x8b\\x1dz\\xc4Ij5\\xd4Q)\\xfa\\xeb\\xbf\\xee\\xa0z{\\x1f\\x10\\x1a\\xcb\\xa3\\xb2\\xb3\\x87\\xc1\\xa8\\xe8mle\\xce\\xa1\\xe7\\xc0\\xff\\x00!\\xf9\\xa5#\\x01\\xd0\\xee\\xf8bIIS\\x909cpA\\xbcDV\\x8c^D\\x809`\\xcd8%\\xc4r\\x88\\x89\\xb2Q`\\xa6\\x1b\\x7f{\\xa0\\xff\\x00\\xb4jWu,G\\x98\\xd8\\x9dAd\\x05O\\x99v\\x044[\\xbfl\\x03D\\x94`\\xff\\x00&\\xc5w\\xa1B\\xbe\\xd8\\x92\\x8c\\xb9z\\xc8y\\xde\\xe2\\xb0\\x15\\xb3\\xa7\\xc9\\x02\\x82\\xca_\\xf7\\xd42M\\x0f<L%@\\xd7dl\\xbdu\\xeaWh\\xe0q\\xd4o7\\x1c\\x11a\\x9a\\xe9\\xb5\\\\\\xf0\\xf8\\xd0\\x1a\\x9e2\\x03*u#P\\x94\\x8aI\\x1a\\xbb\\x0f\\xd8\\x8e\\x85\\xb3\\xae\\x99DU\\x8f\\x06\\xc4\\xbb\\x07\\xbb\\x81\\x90\\xbd\\xbd\\xcf\\xff\\xc4\\x00-\\x11\\x00\\x02\\x02\\x01\\x04\\x01\\x03\\x04\\x02\\x00\\x07\\x00\\x00\\x00\\x00\\x00\\x01\\x02\\x00\\x03\\x11\\x04\\x12!1\\x05\\x13AQ\"2Ba\\x14\\x81\\x06#3q\\x91\\xa1\\xb1\\xff\\xda\\x00\\x08\\x01\\x02\\x01\\x01?\\x00(\\x08\\x8bVL\\xc0Q/s\\x1c\\xfc\\xc5\\'<J\\xb7\\x91\\xc8\\x81[\\xe2=nOPi\\x9c\\x9f\\xb4\\xca\\xf4D\\xfbK4$\\x0e\\xa5\\x9aR\\xad\\xd4\\x14\\xb4\\xf4\\x88\\x07\\x89eg\\x1dJ\\xeb-\\xc1\\x13\\xd0\"%\\xaa\\xd1\\x02\\xcbl\\\\`K\\x9b\\x13\\x97\\x94\\xd3] =\\x87\\x83\\xc0\\x94i\\xe9\\x0b\\x9e\\xe2\\xa5\\x04\\xf4c\\xa5\\n8\\x10_@!@\\x19\\xf9\\x87]E_vF\"\\x15\\xb5\\x03\\x8c\\x10Fe\\xb4\\xa3K)(`\\xa8\\x11-\\xd3\\x83\\x9cJ\\xeb\\xda\\xd0V\\xac\"\\x92\\x0c\\x17\\x901,\\xb4\\x98\\xf66f\\x8d\\r\\x8f\\xd4T\\xfe^\\xac)\\x18\\xae\\xa8\\x96\\xa6\\xd3\\xb7\\xa1\\x05\\x8e\\xf8\\xdc;\\x8f\\xa9\\tVXs\\x05\\xa2\\xc3\\x99\\xaa\\xd3\\x8dMLFw\\t\\xa4\\xf2\\x16Q\\xa7599S\\xc4\\x7f/u$a\\xb2=\\xc4\\xd3\\xebi\\xd6 \\x19\\xc3C\\xf4\\xf0c\\xb7\\xc1\\x81Gsv\\xdee\\xb4\\xec\\x8cy\\x84\\x99U{\\xec\\x00\\xcb\\xad\\x1ad\\xd9X\\xc3\\x1e\\xcc\\xf1\\xba{\\xaf\\xafe+\\x97a\\x9c\\xfe\\xccCbb\\xa7\\x1bl\\x04\\x86\\x9b\\xf1Q\\x1d\\x9081\\xd2\\xedk\\xaaT\\x80\\x93\\x81\\x9f\\x89\\xa8\\xd1\\xdf\\xa0\\xd8\\xb7\\x81\\xce\\x06\\xe0%6\\x8d\\xff\\x00\\xa3\\xdc\\xd7\\x8d\\xba\\xb6\\x02[\\xd4\\xa1\\x99[*\\xd8\"i5\\xbf\\xc8P\\xa7\\xb09\\x96\\xfd\\x18#\\xde\\x7f \\xc1py\\xaa\\xa90e\\xb5s=3(\\xa7n\\xe6\\xf7\\x1dGBY\\xce\\'\\x8b\\xb2\\xed>\\xe4V\\xfb\\xb9\\xc6;\\x8dA\\xdc\\xeeA,\\xdd\\x9cK\\xb6\\xa8\\xec\\xf1\\xdc\\xf1\\xda\\x9b4\\xd6\\xb0M\\xbbO8#3\\xc9y#e\\x1b\\x0e\\xc0\\x1b\\xf1\\x02T.\\x04\\xb3\\x9e\\xfa\\x9a\\xd6/q\\x7f\\x9e\\xe1;\\x861*\\xa9\\xb34\\xc9\\xe8\\xa1\\x7fx.\\xf5\\xac\\xc6c&\\x0cc\\xb6X\\x85\\xc4m\\x1b>8\\x83BGb.\\x93\\x15\\x91\\x8e\\xc4t\\xda\\x08n\\xc3O\\x1f\\xb8\\xa1\\xd8\\xb9m\\xa4\\xe7\\x1f\\x10\\xbd\\xbf\\xc7k[\\xa0q\\xf4\\xcdi\\x16 a\\xf1\\xcc\\xae\\xd0\\x18\\xe0\\xf3+OP\\x8d\\xf9<\\xcb\\xc0Q\\xc7\\xb4\\xb8\\x12\\x8cq\\xd3J\\x882\\xaa\\xcd\\xa5UG&j\\xc0\\xacm\\x11\\x18\\xab\\x0cJ\\xd42\\x02e\\xf5|AP3\\x01&\\xe5\\x98_\\x99\\xac\\xa7v\\xa5\\x10\\x0f\\xbcO\\x1d\\xa7\\xc6\\x98(\\'\\x9c\\x82eTzy\\xd8\\xc4\\x03\\xd8\\x9eGI\\xdf\\xeeY\\xa4J\\xac\\xc8\\xe4\\x19I\\xc1\\x1bH2\\xfb\\xcb_\\x9f\\xc7\\xa3\\x0bWau\\x1e\\xf0\\xa3#O\\x17X(\\xc4\\xf7\\x8e&\\xabM\\x9e`\\xd2a\\xb2Lg\\xdb\\x80!\\xb2%\\xf8\\x10\\xdd\\xba\\x16\\xe2\\x06b\\xdd\\xf5+\\xda\\\\Y\\xf9\\x01\\x80f\\x89\\xac\\xb1\\x9e\\xba\\xf2B\\xb9\\x8ds+\\xedA\\xd7fjm.\\xbfP\\xecK\\xabr\\xc4\\x01\\x9c\\xf0\\x04\\xb3\\xc6\\x1at\\x8fs\\xb6\\xd6P\\x0c\\xd4\\xb8J]\\x8f\\xe6\\xc3l\\xa9\\x90.\\xe34\\x15.\\xaa\\xe4\\xa8\\xf6\\xc0\\xc5\\xb5\\xf4\\xf7u\\xf6\\x12\\x0f\\xf5\\x1f\\x16.GFZ\\x088\\xc4\\xba\\xbb\\x00\\xce#\\xday\\x13i\\x11f\\xe8\\x83\\x04\\xfe\\xe5*L\\xa2\\x81UV\\xaa6\\xd3k\\x96w\\xeb\\x1f\\x13O\\xa5\\xb0\\xe9\\xf9\\r\\xc7d\\xe0f>\\x92\\xc7$\\x13\\x81\\xc0\\x03\\x83\\xff\\x00\\x93O\\xa3\\xa9X\\x129\\x06\\x7f\\x8au\\xd5UX\\xa2\\xbce\\x8eZ=\\x9e\\xa6\\xd5o\\xb5G\\x10\\xd5\\x80\\x19s\\xfa\\x13\\xc6\\xad\\xb5jQ\\xf1\\x80\\x14\\x96\\xfd(\\x9a\\xba\\x96\\xc3k\\xd7\\x92\\x1d\\xb7\\x02x\\xeeh\\xfc\\x81\\xa4\\n\\xef\\'n0\\x0f\\xc4M^\\x92\\xdf\\x7f\\xf9\\x12\\xc4V^0A\\x9a\\xfd8Q\\xb9\\x04u\\x00N\\x8f1\\xa2\\x13\\xbah\\xf6-ma\\xc1\\xd8:\\xf93_f\\xa1\\xe8_\\xad\\x80\\x0c\\xa5\\x94{\\x89_\\x9a\\xd20\\xe3?\\xf5\\x0f\\x99\\xa1\\x18a\\xb1\\x9f\\xdc\\xd5y\\xd1\\xa7V\\xf4\\xd4[\\x91\\xf3\\x8c\\x13/7j\\xcd\\x9a\\x8b\\xfbi\\xb1Qr\\xdf\\xd0\\x8bx[w\\x01\\xb8\\xa7_\\xef4\\xe2\\xda<S\\xdbw\\xfa\\xb7\\x90\\x07\\xe9{\\x96\\x1fR\\x9a\\xce\\x07B[B<\\xb5\\xcd-\\xb5\\x86q4\\xfa\\x87U;\\t+\\x8eFz\\x87WQ\\x18l\\x8f\\xd1\\x8f\\xb4\\xc22e\\x8cDC\\x99\\xea2\\x0e%WX\\xeeT\\x9c\\x89\\xae\\xd0\\x10\\xc9m\\'\\x86\\xb0+\\x8f\\x835\\x1a,gh\\xeb\\xa8\\x8en\\xad*#\\xea\\xdd\\xc9\\x97\\xe9\\x0b\\xd2\\xa0bj<G\\xf9f\\xc0\\xed\\xc7\\xb4\\xf0^(^\\xefu\\xaf\\xb5ko\\x7fyq\\x1a\\xcb\\xc1\\x00zI\\xc2\\x8f\\x9cK\\xc6\\xd2\\x00\\xea\\x1a\\x8a\\xd7\\xea\\x1e\\x8fb^\\xebr\\x02;\\x06h\\xed\\x15\\xde\\x15\\x8e\\x15\\x8f3]F\\xd6\\xe3\\xae\\xc1\\x96;\\x13\\x11\\xb91\\x90\\x13\\x11\\x00\\x8e\\xb9\\x18\\x95&\\xd71\\xb1\\x94\\x12\\xfb}\\x05f1[e\\x8bx=\\x9e\\xa5V-\\xbc\\xc6\\x02\\xca\\x8a\\xe3\\x02=\\xa6\\x8bZ\\x80p\\xac\\xdc\\x89\\xa7U\\xad7\\x1cs*J\\xed\\xbb\\x91\\xc1\\x9ekSZ\\xe9}:\\xf1\\xf5q\\x1e\\x9fOO\\x9cw\\x18}@\\xfe\\xe3\\xaf\\xaf\\xa0F\\xfc\\x80\\xe4\\xc0\\xd0\\x9e\\xe6\\xe8\\xee\\x11D\\xae\\xcd\\xc6\\n\\xb2e\\xb5\\x95\\xeb\\xdb\\xa9\\xaa/\\xaaM\\x85\\xb6\\xf3\\xc8\\xc7s\\xc7h\\xa9\\xba\\x97[\\x03c\\xa0b.\\xafD\\xfe\\x99\\x1b\\x97\\xd9\\xa6\\xa7]b\\r\\x9fl\\xa2\\xa5{\\r\\xacI \\xca\\x83\\xde\\tc\\x80\\x04g\\xf4jr\\xa4\\xf5.-s\\xee<\\x05\\xe0\\t\\xa8\\xc1\\xa1A\\xc8\\xc0\\x12\\xd0\\x03\\xf1<x+\\xa2\\x01\\x87p\\x92\\x07\\xf7\\x018\\x9b\\x8c\\xd4X\\xdc\\t\\xa7s\\xbaRrD\\xb3\\x1cMy\\xf4\\xec\\xca\\xfc\\xc4\\xb5\\xd2\\x9f\\xa7\\x8c.f\\x9a\\xebuX\\xf5\\x1c\\x99\\xe6PV+\\xc4\\xd27\\xd0?r\\x8f\\xa5\\x0c\\xb8\\x91[\\x9f\\xd4\\xb0\\xec\\xb9\\x14\\x01\\x8cfk\\xb8\\xa5G\\xc8\\x96pg\\x8e;\\xb4K\\x9fi\\xff\\xc4\\x00.\\x11\\x00\\x02\\x02\\x02\\x01\\x03\\x02\\x05\\x03\\x05\\x01\\x01\\x00\\x00\\x00\\x00\\x01\\x02\\x00\\x03\\x04\\x11!\\x05\\x121\\x13A\\x06\\x102Qa\\x14\"B\\x15 #q\\x81R\\x91\\xff\\xda\\x00\\x08\\x01\\x03\\x01\\x01?\\x00\\x0egy\\x9b\\x9a\\x8b\\xc4f\\xd4wXl\\x1b\\xf3\\x12\\xc5\\x06\\x0b\\x93\\xef\\r\\x9c\\xc5\\xb0\\x1fx\\xa7\\xb8q\\xf2&w\\x1d\\xc6i\\xe6x\\x9b\\x82\\x03\\x0bja\\xe0d\\xf5\\x02E^\\x00\\xd9\\x8f\\xd2\\x05m\\xa7\\xb0\\x99\\xfd&\\xa3\\xcfsE\\xe9u7\\xbb\\x7f\\xf6\\x7fF\\xa9F\\xfb\\xda/A\\xbd\\xce\\xd1\\xc1_2\\xdc\\x16\\xad\\x8a\\x9f\"\\x05\\xf4L6\\x82g\\x99\\xdaf\\xa0^a\\xe6{\\xcd\\xc2\\xda\\x8b\\xbb\\x9c\"\\x8d\\x931\\xb1W\\xa4\\xf4\\xc4\\xd1\\x06\\xcb\\x04\\xb6\\xb7\\xef\\x1d\\xc7\\x93\\x15\\x15\\x03h\\x8d\\xc5\\xc7-n\\x90\\xee\\x1aJ\\xf0|\\xce\\x9f\\x93\\xfal\\x85W\\xd7cN\\xa3\\xd3k\\xb3$Z\\x80v\\xb0\\xdc_\\x87\\xf12\\xc1\\xefNG\\x82\\x0e\\xa7V\\xe8\\x99\\x1d:\\xcd\\xaa\\xb1\\xaf\\xef\\xf6\\x88`0\\xb0\\x1b\\x82\\xc8XM\\xc0a\\x0c\\xc5Uw\\xb2@\\x9d\\x0b\\xa1U\\x8e\\xbd\\xec;\\x9c\\xf9&u;\\xe8\\xae\\xee\\xeb\\xdf\\xb6\\xb4!To\\xd8G\\xa6\\xb7\\xd5\\xaav\\x9a\\x05`\\xa0\\xb5\\xc3\\xd9w\\xb3)Z0\\xebknr\\x14s\\xfe\\xe5w\\xd1\\x9c\\x1a\\xccv%y%w-\\xac\\xf6o\\xed\\xe2t\\xf6\\xf5\\xba}l\\xc3gZ\\x98\\xca9\\xd4\\xc9\\xa5\\x1dt\\xca\\x08o3\\xaet3\\x84^\\xfa\\xbe\\x8f%`\\xb0\\x91\\x19\\x81\\xfe\\xde\\x82\\xa8\\xfdJ\\xbe\\xe1\\xbf=\\xb3\\x1d\\xc2\\n\\xc4\\xeaKM\\xef\\xdc\\xeb\\xc2\\x93\\xa3\\xb8\\xb6\\xedU\\x06\\x80_\\xa4\\x13\\x141 \\x107\\xb9\\x9dUWR\\xbe\\xa0m\\x8fq\\xc4\\xc2\\xc4J\\xed,\\x8a\\xdb\\x1f\\xc8\\x9fii\\xa8\\x80\\xab\\xff\\x00gI\\xd2c\\x04\\x1evu)A[7\\xd8\\xcbn\\x1b\\x03\\xf3>(\\xea\\x04\\x0f\\xd3\\xa1\\x04\\xb7\\xd5\\xf8\\x11\\xd0\\xa8\\xd8\\x9eb\\xac\\x7f?<\\\\\\x96\\xc4\\xbd.\\x1f\\xc0\\x82f&J\\xdc\\x82\\xc4\\xe40\\xd8\\xfcG\\x14\\xaa\\xf7\\xbb)=\\xc1u\\xbey\\xf7\\x12\\xb1\\x8e\\xd9\\x8b\\x8e\\xa4\\xb0+\\xb2X\\xf1+\\x0bU\\xee\\x8aAUm\\rK+\\xdar8\\x96\\xb7\\xa6\\x0fi\\x03bP\\xc5\\x88\\xdf\\xbc\\xe9\\xd6*0_\\xb8\\x973 \\x99\\xd9\\xb5\\xe0\\xe3\\xbd\\xf67\\n<}\\xcf\\xb0\\x96\\xe5\\xdb\\x97s\\xdc\\xe7\\xf79\\xd9\\x9b\\xdc?V\\xa0?\\xdb\\xf0\\xfd\\xe2\\x9e\\x97\\x93c\\xb7\\x08N\\xbf\\x1cL\\xbb\\xff\\x00\\xce_\\x8d\\xf0Dl\\x9b-\\x01_Fa\\xdd\\xec=\\xa5yl\\xf5\\xf6\\xf8\\x97\\xf3\\xf5q\\xb9M\\x01i\\x1f\\x7f\"R\\xed@\\xad\\xfe\\xc6\\x07\\xa6\\xfav5\\xe2|]c\\xee\\xaa\\xc7\\xd0\\t$\\xc0\\xda<OS\\x88\\xbf\\xbaj0\\xfd\\xdf\\xd9^M\\xcbKP\\x0f\\xf8\\xd9\\x81#\\xeeDL{.Z\\x9b\\xb3l\\xc9?\\xa6\\xb5I\\xbbHV>\\xd2\\xba\\xcdM\\xe7r\\xab\\x14\\x8f:\\xd7\\x98\\xb9\\xa9~JT\\x8aX\\x1d\\x82L\\xc5Se\\x8a\\xa3\\xf8!\\xdct\\xb1\\x9b\\xb1fE\\xcf\\x85\\x8c\\xce\\x0f\\x02gc&~;\\xa8<\\xd8\\x9d\\xcb\\x1d\\rn\\xcax*tg\\xe6!\\x1f\\'\\x1f\\xba\\x11\\xf3\\x1ef\\x0e#\\xe3\\xe0\\xd2\\xf9+\\xd8\\xde\\x80\\xed\\x1eH\\x07\\xdc\\xcb\\xb31\\xa9*;\\x83\\x92>\\xe4\\xcb_\\x1e\\xa6\\xf5\\x14\\x8b\\x0b\\xa8\\xdf\\x91\\xdb.\\xca\\xb0\\xedG\\xb8\\xf6\\x13\\xe1\\xec\\'\\xb2\\xc3soH4%u\\xfaA\\xca\\x8eX\\xccw&\\xdd\\x10\\x00\\x00\\xed\\xa7R\\xb12iz\\xc1\\xf2@O\\xc92\\x8b}3Z\\xd8\\x06\\xd1B\\x909\\xf1:\\xbfC\\\\\\xe1\\xebb\\x85\\x16o\\x91\\xe3r\\xdf\\x87\\xba\\xa5#~\\x90p?\\xf2w,\\xa9\\xe9%\\\\\\x10\\xc3\\xc8\\x88\\xde\\xc7\\xe4|M|\\xbaV-YY\\x8a.\\xb1k\\xadyfc\\xa0\\x00\\x99_\\x11\\xd1\\x93\\xd4^\\xbaWt\\x1d\\xa8s\\xe5\\x8f\\x80e\\x94^\\x18woqq\\xaea\\xe3\\x7f\\xf2U\\xd2\\xcd\\xfd\\xac\\xd6v\\x9d\\xf2\\x00\\x94=x\\xc1)\\xab\\xc0\\xf3\\x03;\\xb9U\\xff\\x00\\xa6[\\x8f\\xd9@\\xaf\\xc7y\\xdb\\x1f\\xc4\"\\x9b\\xba\\x9a\\xa5:\\xf4\\xe8\\x05\\x89\\xd7\\x96\\xf1\\x13U\\xddb\\xef|\\x99U\\xf6#y\\xf1(\\xd5\\xe8\\x1b\\x80gU\\xe9\\x95gil\\xedG\\xf6}F\\xf8[;g\\xd3\\xb2\\xb6\\x00\\xf9\\xe6\\x03\\xf2\\n!]|\\x9b\\x8eG\\x99\\xd1\\xb3=LE\\\\\\x84\\xd9\\xec%X\\xfb\\x89FP\\x07\\x9fyhJT\\xda\\x0f\\x04q)\\xcb\\tk\\x13\\xb31z\\xb7m\\xa1J\\x8e\\x7f\\x96\\xe7X\\xeal\\xb5WU`\\xb5\\x96/\\x9f\\xb4\\xafXX\\xe5\\x01\\xdd\\x8f\\xcb\\x99I\\xde\\xcf\\xbc[C[\\xe9\\x8f#\\x81)\\xad\\xe9r\\x0f\\x82&e\\x06\\xda{\\x80\\xdb\\x010o\\x0e9\\xf28\"\\x01\\xf2\\x06\\x1ef\\xb8\\x8c\\xa4\\xeaR\\xa51\\xfbG\\xb2\\x89Uf\\xd7\\n<\\x99m\\x0f\\xfaoH\\xfb\\x08\\xe0\\xa1\\x88J\\xb8\"SP\\xb3\\x19o\\xd7\\xeeQ\\xa0e\\xcc\\xefgo\\xdaYe\\x95\\xd5\\xf9\\x13\\xa1c9\\xcb\\xf5m\\xf0\\x83\\xb8\\xeeW\\x90n\\xbd\\xb6y\\xdf\\x88\\xba5\\x91\\xf8\\x95\\xb0\\xc7\\xcfe?I\\x87\\xe4b\\xf2aP\\x04\\xd9\\x06Q`d\\x1c\\xf0\\xc0J+\\xfd5\\x9d\\xea\\x9d\\xdcL\\xdc\\xeb\\xabu?\\x9eD#\\x1f(w\\xa9\\xd3k\\x910\\xbar\\xdbgv\\xf7\\xafi\\x92\\xefZz\\x00\\x005.\\x0bA\\x1a\\x1b$\\xc5\\xaf\\xd7\\xb1?\\xdc\\xa9V\\x8aMk\\xc9m\\x12f(e\\xbd\\x98h\\xec\\x99\\x8e\\xccSd\\x1f\\xcc\\xcf*\\xd9\\x8cA\\xf1\\x08\\xe7\\xe7X\\xe6[\\xf4\\x88\\xd3\\r\\x8bR\\xbb\\xfbL\\x01\\xea\\r7\\xfecS[\\xe4\\x95a\\xb1\\xdeD\\xca\\xa2\\x9cbEH\\x04\\xe8l_#\\x93\\xed3F\\xed;>\\x0c\\xc8\\xfd\\xce%\\n\\r\\xa8?\"\\'\\xee\\xc5v\\'\\x9d\\x99\\xd3y\\xb9\\xbf\\xdc\\xa7\\x9e\\x0c\\xea\\n\\x175\\xb5\\xeeg\\xff\\xd9']"
            ]
          },
          "metadata": {},
          "execution_count": 21
        }
      ],
      "source": [
        "uploader.data"
      ]
    },
    {
      "cell_type": "code",
      "execution_count": 24,
      "metadata": {
        "id": "ULikTj-1GdXM",
        "outputId": "3d598b76-a828-4d82-aa54-f14d263bb29c",
        "colab": {
          "base_uri": "https://localhost:8080/",
          "height": 52
        }
      },
      "outputs": [
        {
          "output_type": "display_data",
          "data": {
            "text/plain": [
              "<IPython.core.display.HTML object>"
            ],
            "text/html": [
              "\n",
              "<style>\n",
              "    /* Turns off some styling */\n",
              "    progress {\n",
              "        /* gets rid of default border in Firefox and Opera. */\n",
              "        border: none;\n",
              "        /* Needs to be in here for Safari polyfill so background images work as expected. */\n",
              "        background-size: auto;\n",
              "    }\n",
              "    progress:not([value]), progress:not([value])::-webkit-progress-bar {\n",
              "        background: repeating-linear-gradient(45deg, #7e7e7e, #7e7e7e 10px, #5c5c5c 10px, #5c5c5c 20px);\n",
              "    }\n",
              "    .progress-bar-interrupted, .progress-bar-interrupted::-webkit-progress-bar {\n",
              "        background: #F44336;\n",
              "    }\n",
              "</style>\n"
            ]
          },
          "metadata": {}
        },
        {
          "output_type": "display_data",
          "data": {
            "text/plain": [
              "<IPython.core.display.HTML object>"
            ],
            "text/html": []
          },
          "metadata": {}
        },
        {
          "output_type": "stream",
          "name": "stdout",
          "text": [
            "Is this a cat?: True.\n",
            "Probability it's a cat: 1.000000\n"
          ]
        }
      ],
      "source": [
        "img = PILImage.create(uploader.data[0])\n",
        "is_cat,_,probs = learn.predict(img)\n",
        "print(f\"Is this a cat?: {is_cat}.\")\n",
        "print(f\"Probability it's a cat: {probs[1].item():.6f}\")"
      ]
    },
    {
      "cell_type": "markdown",
      "metadata": {
        "id": "b-qdXHUuGdXM"
      },
      "source": [
        "Congratulations on your first classifier!\n",
        "\n",
        "But what does this mean? What did you actually do? In order to explain this, let's zoom out again to take in the big picture."
      ]
    },
    {
      "cell_type": "markdown",
      "metadata": {
        "id": "5QKKOJdVGdXM"
      },
      "source": [
        "### What Is Machine Learning?"
      ]
    },
    {
      "cell_type": "markdown",
      "metadata": {
        "id": "hJi4BP2TGdXM"
      },
      "source": [
        "Your classifier is a deep learning model. As was already mentioned, deep learning models use neural networks, which originally date from the 1950s and have become powerful very recently thanks to recent advancements.\n",
        "\n",
        "Another key piece of context is that deep learning is just a modern area in the more general discipline of *machine learning*. To understand the essence of what you did when you trained your own classification model, you don't need to understand deep learning. It is enough to see how your model and your training process are examples of the concepts that apply to machine learning in general.\n",
        "\n",
        "So in this section, we will describe what machine learning is. We will look at the key concepts, and show how they can be traced back to the original essay that introduced them.\n",
        "\n",
        "*Machine learning* is, like regular programming, a way to get computers to complete a specific task. But how would we use regular programming to do what we just did in the last section: recognize dogs versus cats in photos? We would have to write down for the computer the exact steps necessary to complete the task.\n",
        "\n",
        "Normally, it's easy enough for us to write down the steps to complete a task when we're writing a program. We just think about the steps we'd take if we had to do the task by hand, and then we translate them into code. For instance, we can write a function that sorts a list. In general, we'd write a function that looks something like <<basic_program>> (where *inputs* might be an unsorted list, and *results* a sorted list)."
      ]
    },
    {
      "cell_type": "code",
      "execution_count": 25,
      "metadata": {
        "hide_input": false,
        "id": "i846R6n9GdXM",
        "outputId": "1ffa70b3-d809-45ba-d270-5d19fa40984f",
        "colab": {
          "base_uri": "https://localhost:8080/",
          "height": 99
        }
      },
      "outputs": [
        {
          "output_type": "execute_result",
          "data": {
            "image/svg+xml": "<?xml version=\"1.0\" encoding=\"UTF-8\" standalone=\"no\"?>\n<!DOCTYPE svg PUBLIC \"-//W3C//DTD SVG 1.1//EN\"\n \"http://www.w3.org/Graphics/SVG/1.1/DTD/svg11.dtd\">\n<!-- Generated by graphviz version 2.43.0 (0)\n -->\n<!-- Title: G Pages: 1 -->\n<svg width=\"285pt\" height=\"58pt\"\n viewBox=\"0.00 0.00 284.59 58.00\" xmlns=\"http://www.w3.org/2000/svg\" xmlns:xlink=\"http://www.w3.org/1999/xlink\">\n<g id=\"graph0\" class=\"graph\" transform=\"scale(1 1) rotate(0) translate(4 54)\">\n<title>G</title>\n<polygon fill=\"white\" stroke=\"transparent\" points=\"-4,4 -4,-54 280.59,-54 280.59,4 -4,4\"/>\n<!-- program -->\n<g id=\"node1\" class=\"node\">\n<title>program</title>\n<polygon fill=\"none\" stroke=\"black\" points=\"172.99,-50 104.99,-50 100.99,-46 100.99,0 168.99,0 172.99,-4 172.99,-50\"/>\n<polyline fill=\"none\" stroke=\"black\" points=\"168.99,-46 100.99,-46 \"/>\n<polyline fill=\"none\" stroke=\"black\" points=\"168.99,-46 168.99,0 \"/>\n<polyline fill=\"none\" stroke=\"black\" points=\"168.99,-46 172.99,-50 \"/>\n<text text-anchor=\"middle\" x=\"136.99\" y=\"-21.3\" font-family=\"Times,serif\" font-size=\"14.00\">program</text>\n</g>\n<!-- results -->\n<g id=\"node3\" class=\"node\">\n<title>results</title>\n<ellipse fill=\"none\" stroke=\"black\" cx=\"242.79\" cy=\"-25\" rx=\"33.6\" ry=\"18\"/>\n<text text-anchor=\"middle\" x=\"242.79\" y=\"-21.3\" font-family=\"Times,serif\" font-size=\"14.00\">results</text>\n</g>\n<!-- program&#45;&gt;results -->\n<g id=\"edge2\" class=\"edge\">\n<title>program&#45;&gt;results</title>\n<path fill=\"none\" stroke=\"black\" d=\"M173.14,-25C181.33,-25 190.15,-25 198.65,-25\"/>\n<polygon fill=\"black\" stroke=\"black\" points=\"198.79,-28.5 208.79,-25 198.79,-21.5 198.79,-28.5\"/>\n</g>\n<!-- inputs -->\n<g id=\"node2\" class=\"node\">\n<title>inputs</title>\n<ellipse fill=\"none\" stroke=\"black\" cx=\"32.5\" cy=\"-25\" rx=\"32.49\" ry=\"18\"/>\n<text text-anchor=\"middle\" x=\"32.5\" y=\"-21.3\" font-family=\"Times,serif\" font-size=\"14.00\">inputs</text>\n</g>\n<!-- inputs&#45;&gt;program -->\n<g id=\"edge1\" class=\"edge\">\n<title>inputs&#45;&gt;program</title>\n<path fill=\"none\" stroke=\"black\" d=\"M65.09,-25C73.11,-25 81.9,-25 90.47,-25\"/>\n<polygon fill=\"black\" stroke=\"black\" points=\"90.76,-28.5 100.76,-25 90.76,-21.5 90.76,-28.5\"/>\n</g>\n</g>\n</svg>\n",
            "text/plain": [
              "<graphviz.sources.Source at 0x7cc3f5f90490>"
            ]
          },
          "metadata": {},
          "execution_count": 25
        }
      ],
      "source": [
        "#hide_input\n",
        "#caption A traditional program\n",
        "#id basic_program\n",
        "#alt Pipeline inputs, program, results\n",
        "gv('''program[shape=box3d width=1 height=0.7]\n",
        "inputs->program->results''')"
      ]
    },
    {
      "cell_type": "markdown",
      "metadata": {
        "id": "If0CIZi9GdXM"
      },
      "source": [
        "But for recognizing objects in a photo that's a bit tricky; what *are* the steps we take when we recognize an object in a picture? We really don't know, since it all happens in our brain without us being consciously aware of it!\n",
        "\n",
        "Right back at the dawn of computing, in 1949, an IBM researcher named Arthur Samuel started working on a different way to get computers to complete tasks, which he called *machine learning*. In his classic 1962 essay \"Artificial Intelligence: A Frontier of Automation\", he wrote:"
      ]
    },
    {
      "cell_type": "markdown",
      "metadata": {
        "id": "BOjsGGMdGdXM"
      },
      "source": [
        "> : Programming a computer for such computations is, at best, a difficult task, not primarily because of any inherent complexity in the computer itself but, rather, because of the need to spell out every minute step of the process in the most exasperating detail. Computers, as any programmer will tell you, are giant morons, not giant brains."
      ]
    },
    {
      "cell_type": "markdown",
      "metadata": {
        "id": "QL47EkXaGdXM"
      },
      "source": [
        "His basic idea was this: instead of telling the computer the exact steps required to solve a problem, show it examples of the problem to solve, and let it figure out how to solve it itself. This turned out to be very effective: by 1961 his checkers-playing program had learned so much that it beat the Connecticut state champion! Here's how he described his idea (from the same essay as above):"
      ]
    },
    {
      "cell_type": "markdown",
      "metadata": {
        "id": "8ueCszY4GdXM"
      },
      "source": [
        "> : Suppose we arrange for some automatic means of testing the effectiveness of any current weight assignment in terms of actual performance and provide a mechanism for altering the weight assignment so as to maximize the performance. We need not go into the details of such a procedure to see that it could be made entirely automatic and to see that a machine so programmed would \"learn\" from its experience."
      ]
    },
    {
      "cell_type": "markdown",
      "metadata": {
        "id": "MaMQ0C4DGdXM"
      },
      "source": [
        "There are a number of powerful concepts embedded in this short statement:\n",
        "\n",
        "- The idea of a \"weight assignment\"\n",
        "- The fact that every weight assignment has some \"actual performance\"\n",
        "- The requirement that there be an \"automatic means\" of testing that performance,  \n",
        "- The need for a \"mechanism\" (i.e., another automatic process) for improving the performance by changing the weight assignments\n",
        "\n",
        "Let us take these concepts one by one, in order to understand how they fit together in practice. First, we need to understand what Samuel means by a *weight assignment*.\n",
        "\n",
        "Weights are just variables, and a weight assignment is a particular choice of values for those variables. The program's inputs are values that it processes in order to produce its results—for instance, taking image pixels as inputs, and returning the classification \"dog\" as a result. The program's weight assignments are other values that define how the program will operate.\n",
        "\n",
        "Since they will affect the program they are in a sense another kind of input, so we will update our basic picture in <<basic_program>> and replace it with <<weight_assignment>> in order to take this into account."
      ]
    },
    {
      "cell_type": "code",
      "execution_count": 26,
      "metadata": {
        "hide_input": true,
        "id": "IX-DAHQLGdXM",
        "outputId": "6cc5bc29-dcc1-4ebb-9863-000d2a9294a2",
        "colab": {
          "base_uri": "https://localhost:8080/",
          "height": 152
        }
      },
      "outputs": [
        {
          "output_type": "execute_result",
          "data": {
            "image/svg+xml": "<?xml version=\"1.0\" encoding=\"UTF-8\" standalone=\"no\"?>\n<!DOCTYPE svg PUBLIC \"-//W3C//DTD SVG 1.1//EN\"\n \"http://www.w3.org/Graphics/SVG/1.1/DTD/svg11.dtd\">\n<!-- Generated by graphviz version 2.43.0 (0)\n -->\n<!-- Title: G Pages: 1 -->\n<svg width=\"296pt\" height=\"98pt\"\n viewBox=\"0.00 0.00 296.29 98.00\" xmlns=\"http://www.w3.org/2000/svg\" xmlns:xlink=\"http://www.w3.org/1999/xlink\">\n<g id=\"graph0\" class=\"graph\" transform=\"scale(1 1) rotate(0) translate(4 94)\">\n<title>G</title>\n<polygon fill=\"white\" stroke=\"transparent\" points=\"-4,4 -4,-94 292.29,-94 292.29,4 -4,4\"/>\n<!-- model -->\n<g id=\"node1\" class=\"node\">\n<title>model</title>\n<polygon fill=\"none\" stroke=\"black\" points=\"184.69,-70 116.69,-70 112.69,-66 112.69,-20 180.69,-20 184.69,-24 184.69,-70\"/>\n<polyline fill=\"none\" stroke=\"black\" points=\"180.69,-66 112.69,-66 \"/>\n<polyline fill=\"none\" stroke=\"black\" points=\"180.69,-66 180.69,-20 \"/>\n<polyline fill=\"none\" stroke=\"black\" points=\"180.69,-66 184.69,-70 \"/>\n<text text-anchor=\"middle\" x=\"148.69\" y=\"-41.3\" font-family=\"Times,serif\" font-size=\"14.00\">model</text>\n</g>\n<!-- results -->\n<g id=\"node3\" class=\"node\">\n<title>results</title>\n<ellipse fill=\"none\" stroke=\"black\" cx=\"254.49\" cy=\"-45\" rx=\"33.6\" ry=\"18\"/>\n<text text-anchor=\"middle\" x=\"254.49\" y=\"-41.3\" font-family=\"Times,serif\" font-size=\"14.00\">results</text>\n</g>\n<!-- model&#45;&gt;results -->\n<g id=\"edge2\" class=\"edge\">\n<title>model&#45;&gt;results</title>\n<path fill=\"none\" stroke=\"black\" d=\"M184.83,-45C193.03,-45 201.85,-45 210.35,-45\"/>\n<polygon fill=\"black\" stroke=\"black\" points=\"210.49,-48.5 220.49,-45 210.49,-41.5 210.49,-48.5\"/>\n</g>\n<!-- inputs -->\n<g id=\"node2\" class=\"node\">\n<title>inputs</title>\n<ellipse fill=\"none\" stroke=\"black\" cx=\"38.35\" cy=\"-72\" rx=\"32.49\" ry=\"18\"/>\n<text text-anchor=\"middle\" x=\"38.35\" y=\"-68.3\" font-family=\"Times,serif\" font-size=\"14.00\">inputs</text>\n</g>\n<!-- inputs&#45;&gt;model -->\n<g id=\"edge1\" class=\"edge\">\n<title>inputs&#45;&gt;model</title>\n<path fill=\"none\" stroke=\"black\" d=\"M68.38,-64.76C78.85,-62.15 90.94,-59.14 102.46,-56.27\"/>\n<polygon fill=\"black\" stroke=\"black\" points=\"103.54,-59.61 112.39,-53.8 101.84,-52.82 103.54,-59.61\"/>\n</g>\n<!-- weights -->\n<g id=\"node4\" class=\"node\">\n<title>weights</title>\n<ellipse fill=\"none\" stroke=\"black\" cx=\"38.35\" cy=\"-18\" rx=\"38.19\" ry=\"18\"/>\n<text text-anchor=\"middle\" x=\"38.35\" y=\"-14.3\" font-family=\"Times,serif\" font-size=\"14.00\">weights</text>\n</g>\n<!-- weights&#45;&gt;model -->\n<g id=\"edge3\" class=\"edge\">\n<title>weights&#45;&gt;model</title>\n<path fill=\"none\" stroke=\"black\" d=\"M72.44,-26.25C81.96,-28.62 92.51,-31.25 102.63,-33.77\"/>\n<polygon fill=\"black\" stroke=\"black\" points=\"101.99,-37.22 112.54,-36.24 103.69,-30.43 101.99,-37.22\"/>\n</g>\n</g>\n</svg>\n",
            "text/plain": [
              "<graphviz.sources.Source at 0x7cc3f5dcc7c0>"
            ]
          },
          "metadata": {},
          "execution_count": 26
        }
      ],
      "source": [
        "#hide_input\n",
        "#caption A program using weight assignment\n",
        "#id weight_assignment\n",
        "gv('''model[shape=box3d width=1 height=0.7]\n",
        "inputs->model->results; weights->model''')"
      ]
    },
    {
      "cell_type": "markdown",
      "metadata": {
        "id": "46R9gcXuGdXN"
      },
      "source": [
        "We've changed the name of our box from *program* to *model*. This is to follow modern terminology and to reflect that the *model* is a special kind of program: it's one that can do *many different things*, depending on the *weights*. It can be implemented in many different ways. For instance, in Samuel's checkers program, different values of the weights would result in different checkers-playing strategies.\n",
        "\n",
        "(By the way, what Samuel called \"weights\" are most generally referred to as model *parameters* these days, in case you have encountered that term. The term *weights* is reserved for a particular type of model parameter.)\n",
        "\n",
        "Next, Samuel said we need an *automatic means of testing the effectiveness of any current weight assignment in terms of actual performance*. In the case of his checkers program, the \"actual performance\" of a model would be how well it plays. And you could automatically test the performance of two models by setting them to play against each other, and seeing which one usually wins.\n",
        "\n",
        "Finally, he says we need *a mechanism for altering the weight assignment so as to maximize the performance*. For instance, we could look at the difference in weights between the winning model and the losing model, and adjust the weights a little further in the winning direction.\n",
        "\n",
        "We can now see why he said that such a procedure *could be made entirely automatic and... a machine so programmed would \"learn\" from its experience*. Learning would become entirely automatic when the adjustment of the weights was also automatic—when instead of us improving a model by adjusting its weights manually, we relied on an automated mechanism that produced adjustments based on performance.\n",
        "\n",
        "<<training_loop>> shows the full picture of Samuel's idea of training a machine learning model."
      ]
    },
    {
      "cell_type": "code",
      "execution_count": 27,
      "metadata": {
        "hide_input": true,
        "id": "bwuTPmYgGdXN",
        "outputId": "913c31a5-7e1e-4d39-9d8d-4bdb37db6d37",
        "colab": {
          "base_uri": "https://localhost:8080/",
          "height": 152
        }
      },
      "outputs": [
        {
          "output_type": "execute_result",
          "data": {
            "image/svg+xml": "<?xml version=\"1.0\" encoding=\"UTF-8\" standalone=\"no\"?>\n<!DOCTYPE svg PUBLIC \"-//W3C//DTD SVG 1.1//EN\"\n \"http://www.w3.org/Graphics/SVG/1.1/DTD/svg11.dtd\">\n<!-- Generated by graphviz version 2.43.0 (0)\n -->\n<!-- Title: G Pages: 1 -->\n<svg width=\"483pt\" height=\"98pt\"\n viewBox=\"0.00 0.00 483.08 98.00\" xmlns=\"http://www.w3.org/2000/svg\" xmlns:xlink=\"http://www.w3.org/1999/xlink\">\n<g id=\"graph0\" class=\"graph\" transform=\"scale(1 1) rotate(0) translate(4 94)\">\n<title>G</title>\n<polygon fill=\"white\" stroke=\"transparent\" points=\"-4,4 -4,-94 479.08,-94 479.08,4 -4,4\"/>\n<!-- model -->\n<g id=\"node1\" class=\"node\">\n<title>model</title>\n<polygon fill=\"none\" stroke=\"black\" points=\"185.69,-77 117.69,-77 113.69,-73 113.69,-27 181.69,-27 185.69,-31 185.69,-77\"/>\n<polyline fill=\"none\" stroke=\"black\" points=\"181.69,-73 113.69,-73 \"/>\n<polyline fill=\"none\" stroke=\"black\" points=\"181.69,-73 181.69,-27 \"/>\n<polyline fill=\"none\" stroke=\"black\" points=\"181.69,-73 185.69,-77 \"/>\n<text text-anchor=\"middle\" x=\"149.69\" y=\"-48.3\" font-family=\"Times,serif\" font-size=\"14.00\">model</text>\n</g>\n<!-- results -->\n<g id=\"node3\" class=\"node\">\n<title>results</title>\n<ellipse fill=\"none\" stroke=\"black\" cx=\"292.49\" cy=\"-52\" rx=\"33.6\" ry=\"18\"/>\n<text text-anchor=\"middle\" x=\"292.49\" y=\"-48.3\" font-family=\"Times,serif\" font-size=\"14.00\">results</text>\n</g>\n<!-- model&#45;&gt;results -->\n<g id=\"edge2\" class=\"edge\">\n<title>model&#45;&gt;results</title>\n<path fill=\"none\" stroke=\"black\" d=\"M185.86,-52C204.73,-52 228.14,-52 248.13,-52\"/>\n<polygon fill=\"black\" stroke=\"black\" points=\"248.22,-55.5 258.22,-52 248.22,-48.5 248.22,-55.5\"/>\n</g>\n<!-- inputs -->\n<g id=\"node2\" class=\"node\">\n<title>inputs</title>\n<ellipse fill=\"none\" stroke=\"black\" cx=\"38.35\" cy=\"-72\" rx=\"32.49\" ry=\"18\"/>\n<text text-anchor=\"middle\" x=\"38.35\" y=\"-68.3\" font-family=\"Times,serif\" font-size=\"14.00\">inputs</text>\n</g>\n<!-- inputs&#45;&gt;model -->\n<g id=\"edge1\" class=\"edge\">\n<title>inputs&#45;&gt;model</title>\n<path fill=\"none\" stroke=\"black\" d=\"M69.52,-66.48C80.08,-64.55 92.18,-62.34 103.68,-60.23\"/>\n<polygon fill=\"black\" stroke=\"black\" points=\"104.39,-63.66 113.59,-58.42 103.13,-56.78 104.39,-63.66\"/>\n</g>\n<!-- performance -->\n<g id=\"node5\" class=\"node\">\n<title>performance</title>\n<ellipse fill=\"none\" stroke=\"black\" cx=\"419.18\" cy=\"-52\" rx=\"55.79\" ry=\"18\"/>\n<text text-anchor=\"middle\" x=\"419.18\" y=\"-48.3\" font-family=\"Times,serif\" font-size=\"14.00\">performance</text>\n</g>\n<!-- results&#45;&gt;performance -->\n<g id=\"edge4\" class=\"edge\">\n<title>results&#45;&gt;performance</title>\n<path fill=\"none\" stroke=\"black\" d=\"M326.58,-52C334.84,-52 344,-52 353.23,-52\"/>\n<polygon fill=\"black\" stroke=\"black\" points=\"353.23,-55.5 363.23,-52 353.23,-48.5 353.23,-55.5\"/>\n</g>\n<!-- weights -->\n<g id=\"node4\" class=\"node\">\n<title>weights</title>\n<ellipse fill=\"none\" stroke=\"black\" cx=\"38.35\" cy=\"-18\" rx=\"38.19\" ry=\"18\"/>\n<text text-anchor=\"middle\" x=\"38.35\" y=\"-14.3\" font-family=\"Times,serif\" font-size=\"14.00\">weights</text>\n</g>\n<!-- weights&#45;&gt;model -->\n<g id=\"edge3\" class=\"edge\">\n<title>weights&#45;&gt;model</title>\n<path fill=\"none\" stroke=\"black\" d=\"M70.68,-27.74C81.03,-30.96 92.75,-34.61 103.9,-38.07\"/>\n<polygon fill=\"black\" stroke=\"black\" points=\"102.92,-41.43 113.51,-41.06 105,-34.75 102.92,-41.43\"/>\n</g>\n<!-- performance&#45;&gt;weights -->\n<g id=\"edge5\" class=\"edge\">\n<title>performance&#45;&gt;weights</title>\n<path fill=\"none\" stroke=\"black\" d=\"M380.65,-38.79C364.18,-33.57 344.49,-28.08 326.29,-25 242.8,-10.86 143.72,-12.41 86.54,-15.05\"/>\n<polygon fill=\"black\" stroke=\"black\" points=\"86.17,-11.56 76.36,-15.55 86.52,-18.55 86.17,-11.56\"/>\n<text text-anchor=\"middle\" x=\"222.19\" y=\"-19.8\" font-family=\"Times,serif\" font-size=\"14.00\">update</text>\n</g>\n</g>\n</svg>\n",
            "text/plain": [
              "<graphviz.sources.Source at 0x7cc3f5f91c60>"
            ]
          },
          "metadata": {},
          "execution_count": 27
        }
      ],
      "source": [
        "#hide_input\n",
        "#caption Training a machine learning model\n",
        "#id training_loop\n",
        "#alt The basic training loop\n",
        "gv('''ordering=in\n",
        "model[shape=box3d width=1 height=0.7]\n",
        "inputs->model->results; weights->model; results->performance\n",
        "performance->weights[constraint=false label=update]''')"
      ]
    },
    {
      "cell_type": "markdown",
      "metadata": {
        "id": "7pmV1IhDGdXN"
      },
      "source": [
        "Notice the distinction between the model's *results*  (e.g., the moves in a checkers game) and its *performance* (e.g., whether it wins the game, or how quickly it wins).\n",
        "\n",
        "Also note that once the model is trained—that is, once we've chosen our final, best, favorite weight assignment—then we can think of the weights as being *part of the model*, since we're not varying them any more.\n",
        "\n",
        "Therefore, actually *using* a model after it's trained looks like <<using_model>>."
      ]
    },
    {
      "cell_type": "code",
      "execution_count": 28,
      "metadata": {
        "hide_input": true,
        "id": "8lnpbKR2GdXN",
        "outputId": "6d00967c-d334-4fa4-a73c-b01e5599c59d",
        "colab": {
          "base_uri": "https://localhost:8080/",
          "height": 99
        }
      },
      "outputs": [
        {
          "output_type": "execute_result",
          "data": {
            "image/svg+xml": "<?xml version=\"1.0\" encoding=\"UTF-8\" standalone=\"no\"?>\n<!DOCTYPE svg PUBLIC \"-//W3C//DTD SVG 1.1//EN\"\n \"http://www.w3.org/Graphics/SVG/1.1/DTD/svg11.dtd\">\n<!-- Generated by graphviz version 2.43.0 (0)\n -->\n<!-- Title: G Pages: 1 -->\n<svg width=\"285pt\" height=\"58pt\"\n viewBox=\"0.00 0.00 284.59 58.00\" xmlns=\"http://www.w3.org/2000/svg\" xmlns:xlink=\"http://www.w3.org/1999/xlink\">\n<g id=\"graph0\" class=\"graph\" transform=\"scale(1 1) rotate(0) translate(4 54)\">\n<title>G</title>\n<polygon fill=\"white\" stroke=\"transparent\" points=\"-4,4 -4,-54 280.59,-54 280.59,4 -4,4\"/>\n<!-- model -->\n<g id=\"node1\" class=\"node\">\n<title>model</title>\n<polygon fill=\"none\" stroke=\"black\" points=\"172.99,-50 104.99,-50 100.99,-46 100.99,0 168.99,0 172.99,-4 172.99,-50\"/>\n<polyline fill=\"none\" stroke=\"black\" points=\"168.99,-46 100.99,-46 \"/>\n<polyline fill=\"none\" stroke=\"black\" points=\"168.99,-46 168.99,0 \"/>\n<polyline fill=\"none\" stroke=\"black\" points=\"168.99,-46 172.99,-50 \"/>\n<text text-anchor=\"middle\" x=\"136.99\" y=\"-21.3\" font-family=\"Times,serif\" font-size=\"14.00\">model</text>\n</g>\n<!-- results -->\n<g id=\"node3\" class=\"node\">\n<title>results</title>\n<ellipse fill=\"none\" stroke=\"black\" cx=\"242.79\" cy=\"-25\" rx=\"33.6\" ry=\"18\"/>\n<text text-anchor=\"middle\" x=\"242.79\" y=\"-21.3\" font-family=\"Times,serif\" font-size=\"14.00\">results</text>\n</g>\n<!-- model&#45;&gt;results -->\n<g id=\"edge2\" class=\"edge\">\n<title>model&#45;&gt;results</title>\n<path fill=\"none\" stroke=\"black\" d=\"M173.14,-25C181.33,-25 190.15,-25 198.65,-25\"/>\n<polygon fill=\"black\" stroke=\"black\" points=\"198.79,-28.5 208.79,-25 198.79,-21.5 198.79,-28.5\"/>\n</g>\n<!-- inputs -->\n<g id=\"node2\" class=\"node\">\n<title>inputs</title>\n<ellipse fill=\"none\" stroke=\"black\" cx=\"32.5\" cy=\"-25\" rx=\"32.49\" ry=\"18\"/>\n<text text-anchor=\"middle\" x=\"32.5\" y=\"-21.3\" font-family=\"Times,serif\" font-size=\"14.00\">inputs</text>\n</g>\n<!-- inputs&#45;&gt;model -->\n<g id=\"edge1\" class=\"edge\">\n<title>inputs&#45;&gt;model</title>\n<path fill=\"none\" stroke=\"black\" d=\"M65.09,-25C73.11,-25 81.9,-25 90.47,-25\"/>\n<polygon fill=\"black\" stroke=\"black\" points=\"90.76,-28.5 100.76,-25 90.76,-21.5 90.76,-28.5\"/>\n</g>\n</g>\n</svg>\n",
            "text/plain": [
              "<graphviz.sources.Source at 0x7cc3f5dccf40>"
            ]
          },
          "metadata": {},
          "execution_count": 28
        }
      ],
      "source": [
        "#hide_input\n",
        "#caption Using a trained model as a program\n",
        "#id using_model\n",
        "gv('''model[shape=box3d width=1 height=0.7]\n",
        "inputs->model->results''')"
      ]
    },
    {
      "cell_type": "markdown",
      "metadata": {
        "id": "p3_TLWcfGdXN"
      },
      "source": [
        "This looks identical to our original diagram in <<basic_program>>, just with the word *program* replaced with *model*. This is an important insight: *a trained model can be treated just like a regular computer program*."
      ]
    },
    {
      "cell_type": "markdown",
      "metadata": {
        "id": "SvFSyf1xGdXN"
      },
      "source": [
        "> jargon: Machine Learning: The training of programs developed by allowing a computer to learn from its experience, rather than through manually coding the individual steps."
      ]
    },
    {
      "cell_type": "markdown",
      "metadata": {
        "id": "7ZXNvrhZGdXN"
      },
      "source": [
        "### What Is a Neural Network?"
      ]
    },
    {
      "cell_type": "markdown",
      "metadata": {
        "id": "GJN8lsJoGdXN"
      },
      "source": [
        "It's not too hard to imagine what the model might look like for a checkers program. There might be a range of checkers strategies encoded, and some kind of search mechanism, and then the weights could vary how strategies are selected, what parts of the board are focused on during a search, and so forth. But it's not at all obvious what the model might look like for an image recognition program, or for understanding text, or for many other interesting problems we might imagine.\n",
        "\n",
        "What we would like is some kind of function that is so flexible that it could be used to solve any given problem, just by varying its weights. Amazingly enough, this function actually exists! It's the neural network, which we already discussed. That is, if you regard a neural network as a mathematical function, it turns out to be a function which is extremely flexible depending on its weights. A mathematical proof called the *universal approximation theorem* shows that this function can solve any problem to any level of accuracy, in theory. The fact that neural networks are so flexible means that, in practice, they are often a suitable kind of model, and you can focus your effort on the process of training them—that is, of finding good weight assignments.\n",
        "\n",
        "But what about that process?  One could imagine that you might need to find a new \"mechanism\" for automatically updating weights for every problem. This would be laborious. What we'd like here as well is a completely general way to update the weights of a neural network, to make it improve at any given task. Conveniently, this also exists!\n",
        "\n",
        "This is called *stochastic gradient descent* (SGD). We'll see how neural networks and SGD work in detail in <<chapter_mnist_basics>>, as well as explaining the universal approximation theorem. For now, however, we will instead use Samuel's own words: *We need not go into the details of such a procedure to see that it could be made entirely automatic and to see that a machine so programmed would \"learn\" from its experience.*"
      ]
    },
    {
      "cell_type": "markdown",
      "metadata": {
        "id": "8-L7xnSZGdXN"
      },
      "source": [
        "> J: Don't worry, neither SGD nor neural nets are mathematically complex. Both nearly entirely rely on addition and multiplication to do their work (but they do a _lot_ of addition and multiplication!). The main reaction we hear from students when they see the details is: \"Is that all it is?\""
      ]
    },
    {
      "cell_type": "markdown",
      "metadata": {
        "id": "UIw6xV2dGdXN"
      },
      "source": [
        "In other words, to recap, a neural network is a particular kind of machine learning model, which fits right in to Samuel's original conception. Neural networks are special because they are highly flexible, which means they can solve an unusually wide range of problems just by finding the right weights. This is powerful, because stochastic gradient descent provides us a way to find those weight values automatically.\n",
        "\n",
        "Having zoomed out, let's now zoom back in and revisit our image classification problem using Samuel's framework.\n",
        "\n",
        "Our inputs are the images. Our weights are the weights in the neural net. Our model is a neural net. Our results are the values that are calculated by the neural net, like \"dog\" or \"cat.\"\n",
        "\n",
        "What about the next piece, an *automatic means of testing the effectiveness of any current weight assignment in terms of actual performance*? Determining \"actual performance\" is easy enough: we can simply define our model's performance as its accuracy at predicting the correct answers.\n",
        "\n",
        "Putting this all together, and assuming that SGD is our mechanism for updating the weight assignments, we can see how our image classifier is a machine learning model, much like Samuel envisioned."
      ]
    },
    {
      "cell_type": "markdown",
      "metadata": {
        "id": "Jksr4CudGdXN"
      },
      "source": [
        "### A Bit of Deep Learning Jargon"
      ]
    },
    {
      "cell_type": "markdown",
      "metadata": {
        "id": "1nCnQ_VCGdXN"
      },
      "source": [
        "Samuel was working in the 1960s, and since then terminology has changed. Here is the modern deep learning terminology for all the pieces we have discussed:\n",
        "\n",
        "- The functional form of the *model* is called its *architecture* (but be careful—sometimes people use *model* as a synonym of *architecture*, so this can get confusing).\n",
        "- The *weights* are called *parameters*.\n",
        "- The *predictions* are calculated from the *independent variable*, which is the *data* not including the *labels*.\n",
        "- The *results* of the model are called *predictions*.\n",
        "- The measure of *performance* is called the *loss*.\n",
        "- The loss depends not only on the predictions, but also the correct *labels* (also known as *targets* or the *dependent variable*); e.g., \"dog\" or \"cat.\"\n",
        "\n",
        "After making these changes, our diagram in <<training_loop>> looks like <<detailed_loop>>."
      ]
    },
    {
      "cell_type": "code",
      "execution_count": 29,
      "metadata": {
        "hide_input": true,
        "id": "K5luF_GPGdXN",
        "outputId": "eb6319f8-c716-4644-d729-03b36c7b4910",
        "colab": {
          "base_uri": "https://localhost:8080/",
          "height": 200
        }
      },
      "outputs": [
        {
          "output_type": "execute_result",
          "data": {
            "image/svg+xml": "<?xml version=\"1.0\" encoding=\"UTF-8\" standalone=\"no\"?>\n<!DOCTYPE svg PUBLIC \"-//W3C//DTD SVG 1.1//EN\"\n \"http://www.w3.org/Graphics/SVG/1.1/DTD/svg11.dtd\">\n<!-- Generated by graphviz version 2.43.0 (0)\n -->\n<!-- Title: G Pages: 1 -->\n<svg width=\"489pt\" height=\"134pt\"\n viewBox=\"0.00 0.00 489.18 134.36\" xmlns=\"http://www.w3.org/2000/svg\" xmlns:xlink=\"http://www.w3.org/1999/xlink\">\n<g id=\"graph0\" class=\"graph\" transform=\"scale(1 1) rotate(0) translate(4 130.36)\">\n<title>G</title>\n<polygon fill=\"white\" stroke=\"transparent\" points=\"-4,4 -4,-130.36 485.18,-130.36 485.18,4 -4,4\"/>\n<!-- model -->\n<g id=\"node1\" class=\"node\">\n<title>model</title>\n<polygon fill=\"none\" stroke=\"black\" points=\"217.09,-79.36 141.09,-79.36 137.09,-75.36 137.09,-29.36 213.09,-29.36 217.09,-33.36 217.09,-79.36\"/>\n<polyline fill=\"none\" stroke=\"black\" points=\"213.09,-75.36 137.09,-75.36 \"/>\n<polyline fill=\"none\" stroke=\"black\" points=\"213.09,-75.36 213.09,-29.36 \"/>\n<polyline fill=\"none\" stroke=\"black\" points=\"213.09,-75.36 217.09,-79.36 \"/>\n<text text-anchor=\"middle\" x=\"177.09\" y=\"-50.66\" font-family=\"Times,serif\" font-size=\"14.00\">architecture</text>\n</g>\n<!-- predictions -->\n<g id=\"node3\" class=\"node\">\n<title>predictions</title>\n<ellipse fill=\"none\" stroke=\"black\" cx=\"340.14\" cy=\"-54.36\" rx=\"50.09\" ry=\"18\"/>\n<text text-anchor=\"middle\" x=\"340.14\" y=\"-50.66\" font-family=\"Times,serif\" font-size=\"14.00\">predictions</text>\n</g>\n<!-- model&#45;&gt;predictions -->\n<g id=\"edge2\" class=\"edge\">\n<title>model&#45;&gt;predictions</title>\n<path fill=\"none\" stroke=\"black\" d=\"M217.49,-54.36C236.29,-54.36 259.19,-54.36 280.02,-54.36\"/>\n<polygon fill=\"black\" stroke=\"black\" points=\"280.06,-57.86 290.06,-54.36 280.06,-50.86 280.06,-57.86\"/>\n</g>\n<!-- inputs -->\n<g id=\"node2\" class=\"node\">\n<title>inputs</title>\n<ellipse fill=\"none\" stroke=\"black\" cx=\"50.05\" cy=\"-74.36\" rx=\"32.49\" ry=\"18\"/>\n<text text-anchor=\"middle\" x=\"50.05\" y=\"-70.66\" font-family=\"Times,serif\" font-size=\"14.00\">inputs</text>\n</g>\n<!-- inputs&#45;&gt;model -->\n<g id=\"edge1\" class=\"edge\">\n<title>inputs&#45;&gt;model</title>\n<path fill=\"none\" stroke=\"black\" d=\"M81.64,-69.47C95.15,-67.31 111.38,-64.71 126.54,-62.28\"/>\n<polygon fill=\"black\" stroke=\"black\" points=\"127.51,-65.67 136.83,-60.64 126.4,-58.76 127.51,-65.67\"/>\n</g>\n<!-- loss -->\n<g id=\"node6\" class=\"node\">\n<title>loss</title>\n<ellipse fill=\"none\" stroke=\"black\" cx=\"454.18\" cy=\"-83.36\" rx=\"27\" ry=\"18\"/>\n<text text-anchor=\"middle\" x=\"454.18\" y=\"-79.66\" font-family=\"Times,serif\" font-size=\"14.00\">loss</text>\n</g>\n<!-- predictions&#45;&gt;loss -->\n<g id=\"edge5\" class=\"edge\">\n<title>predictions&#45;&gt;loss</title>\n<path fill=\"none\" stroke=\"black\" d=\"M381.27,-64.75C393.51,-67.91 406.85,-71.37 418.68,-74.43\"/>\n<polygon fill=\"black\" stroke=\"black\" points=\"418.07,-77.89 428.63,-77 419.82,-71.11 418.07,-77.89\"/>\n</g>\n<!-- parameters -->\n<g id=\"node4\" class=\"node\">\n<title>parameters</title>\n<ellipse fill=\"none\" stroke=\"black\" cx=\"50.05\" cy=\"-20.36\" rx=\"50.09\" ry=\"18\"/>\n<text text-anchor=\"middle\" x=\"50.05\" y=\"-16.66\" font-family=\"Times,serif\" font-size=\"14.00\">parameters</text>\n</g>\n<!-- parameters&#45;&gt;model -->\n<g id=\"edge3\" class=\"edge\">\n<title>parameters&#45;&gt;model</title>\n<path fill=\"none\" stroke=\"black\" d=\"M90.61,-31.12C102.13,-34.25 114.85,-37.71 126.88,-40.98\"/>\n<polygon fill=\"black\" stroke=\"black\" points=\"126.22,-44.42 136.78,-43.67 128.05,-37.67 126.22,-44.42\"/>\n</g>\n<!-- labels -->\n<g id=\"node5\" class=\"node\">\n<title>labels</title>\n<ellipse fill=\"none\" stroke=\"black\" cx=\"340.14\" cy=\"-108.36\" rx=\"31.4\" ry=\"18\"/>\n<text text-anchor=\"middle\" x=\"340.14\" y=\"-104.66\" font-family=\"Times,serif\" font-size=\"14.00\">labels</text>\n</g>\n<!-- labels&#45;&gt;loss -->\n<g id=\"edge4\" class=\"edge\">\n<title>labels&#45;&gt;loss</title>\n<path fill=\"none\" stroke=\"black\" d=\"M369.41,-102.05C384.3,-98.73 402.69,-94.63 418.44,-91.11\"/>\n<polygon fill=\"black\" stroke=\"black\" points=\"419.35,-94.49 428.35,-88.9 417.83,-87.66 419.35,-94.49\"/>\n</g>\n<!-- loss&#45;&gt;parameters -->\n<g id=\"edge6\" class=\"edge\">\n<title>loss&#45;&gt;parameters</title>\n<path fill=\"none\" stroke=\"black\" d=\"M440.88,-67.53C429.39,-54.1 410.95,-35.74 390.18,-27.36 295.38,10.89 173.21,0.49 104.38,-10.18\"/>\n<polygon fill=\"black\" stroke=\"black\" points=\"103.53,-6.77 94.21,-11.81 104.64,-13.68 103.53,-6.77\"/>\n<text text-anchor=\"middle\" x=\"253.59\" y=\"-6.16\" font-family=\"Times,serif\" font-size=\"14.00\">update</text>\n</g>\n</g>\n</svg>\n",
            "text/plain": [
              "<graphviz.sources.Source at 0x7cc3f5dcdde0>"
            ]
          },
          "metadata": {},
          "execution_count": 29
        }
      ],
      "source": [
        "#hide_input\n",
        "#caption Detailed training loop\n",
        "#id detailed_loop\n",
        "gv('''ordering=in\n",
        "model[shape=box3d width=1 height=0.7 label=architecture]\n",
        "inputs->model->predictions; parameters->model; labels->loss; predictions->loss\n",
        "loss->parameters[constraint=false label=update]''')"
      ]
    },
    {
      "cell_type": "markdown",
      "metadata": {
        "id": "IlL45o-jGdXN"
      },
      "source": [
        "### Limitations Inherent To Machine Learning\n",
        "\n",
        "From this picture we can now see some fundamental things about training a deep learning model:\n",
        "\n",
        "- A model cannot be created without data.\n",
        "- A model can only learn to operate on the patterns seen in the input data used to train it.\n",
        "- This learning approach only creates *predictions*, not recommended *actions*.\n",
        "- It's not enough to just have examples of input data; we need *labels* for that data too (e.g., pictures of dogs and cats aren't enough to train a model; we need a label for each one, saying which ones are dogs, and which are cats).\n",
        "\n",
        "Generally speaking, we've seen that most organizations that say they don't have enough data, actually mean they don't have enough *labeled* data. If any organization is interested in doing something in practice with a model, then presumably they have some inputs they plan to run their model against. And presumably they've been doing that some other way for a while (e.g., manually, or with some heuristic program), so they have data from those processes! For instance, a radiology practice will almost certainly have an archive of medical scans (since they need to be able to check how their patients are progressing over time), but those scans may not have structured labels containing a list of diagnoses or interventions (since radiologists generally create free-text natural language reports, not structured data). We'll be discussing labeling approaches a lot in this book, because it's such an important issue in practice.\n",
        "\n",
        "Since these kinds of machine learning models can only make *predictions* (i.e., attempt to replicate labels), this can result in a significant gap between organizational goals and model capabilities. For instance, in this book you'll learn how to create a *recommendation system* that can predict what products a user might purchase. This is often used in e-commerce, such as to customize products shown on a home page by showing the highest-ranked items. But such a model is generally created by looking at a user and their buying history (*inputs*) and what they went on to buy or look at (*labels*), which means that the model is likely to tell you about products the user already has or already knows about, rather than new products that they are most likely to be interested in hearing about. That's very different to what, say, an expert at your local bookseller might do, where they ask questions to figure out your taste, and then tell you about authors or series that you've never heard of before."
      ]
    },
    {
      "cell_type": "markdown",
      "metadata": {
        "id": "w_csoySLGdXN"
      },
      "source": [
        "Another critical insight comes from considering how a model interacts with its environment. This can create *feedback loops*, as described here:\n",
        "\n",
        "- A *predictive policing* model is created based on where arrests have been made in the past. In practice, this is not actually predicting crime, but rather predicting arrests, and is therefore partially simply reflecting biases in existing policing processes.\n",
        "- Law enforcement officers then might use that model to decide where to focus their police activity, resulting in increased arrests in those areas.\n",
        "- Data on these additional arrests would then be fed back in to retrain future versions of the model.\n",
        "\n",
        "This is a *positive feedback loop*, where the more the model is used, the more biased the data becomes, making the model even more biased, and so forth.\n",
        "\n",
        "Feedback loops can also create problems in commercial settings. For instance, a video recommendation system might be biased toward recommending content consumed by the biggest watchers of video (e.g., conspiracy theorists and extremists tend to watch more online video content than the average), resulting in those users increasing their video consumption, resulting in more of those kinds of videos being recommended. We'll consider this topic more in detail in <<chapter_ethics>>."
      ]
    },
    {
      "cell_type": "markdown",
      "metadata": {
        "id": "ZtbmHo7-GdXN"
      },
      "source": [
        "Now that you have seen the base of the theory, let's go back to our code example and see in detail how the code corresponds to the process we just described."
      ]
    },
    {
      "cell_type": "markdown",
      "metadata": {
        "id": "uyf0MOXqGdXN"
      },
      "source": [
        "### How Our Image Recognizer Works"
      ]
    },
    {
      "cell_type": "markdown",
      "metadata": {
        "id": "idVzlQqwGdXO"
      },
      "source": [
        "Let's see just how our image recognizer code maps to these ideas. We'll put each line into a separate cell, and look at what each one is doing (we won't explain every detail of every parameter yet, but will give a description of the important bits; full details will come later in the book)."
      ]
    },
    {
      "cell_type": "markdown",
      "metadata": {
        "id": "DYKbmH_4GdXO"
      },
      "source": [
        "The first line imports all of the fastai.vision library.\n",
        "\n",
        "```python\n",
        "from fastai.vision.all import *\n",
        "```\n",
        "\n",
        "This gives us all of the functions and classes we will need to create a wide variety of computer vision models."
      ]
    },
    {
      "cell_type": "markdown",
      "metadata": {
        "id": "Hw1-6cfAGdXO"
      },
      "source": [
        "> J: A lot of Python coders recommend avoiding importing a whole library like this (using the `import *` syntax), because in large software projects it can cause problems. However, for interactive work such as in a Jupyter notebook, it works great. The fastai library is specially designed to support this kind of interactive use, and it will only import the necessary pieces into your environment."
      ]
    },
    {
      "cell_type": "markdown",
      "metadata": {
        "id": "19T0THWyGdXO"
      },
      "source": [
        "The second line downloads a standard dataset from the [fast.ai datasets collection](https://docs.fast.ai/data.external.html#datasets) (if not previously downloaded) to your server, extracts it (if not previously extracted), and returns a `Path` object with the extracted location:\n",
        "\n",
        "```python\n",
        "path = untar_data(URLs.PETS)/'images'\n",
        "```\n",
        "\n",
        "> S: Throughout my time studying at fast.ai, and even still today, I've learned a lot about productive coding practices. The fastai library and fast.ai notebooks are full of great little tips that have helped make me a better programmer. For instance, notice that the fastai library doesn't just return a string containing the path to the dataset, but a `Path` object. This is a really useful class from the Python 3 standard library that makes accessing files and directories much easier. If you haven't come across it before, be sure to check out its documentation or a tutorial and try it out. Note that the https://book.fast.ai[website] contains links to recommended tutorials for each chapter. I'll keep letting you know about little coding tips I've found useful as we come across them."
      ]
    },
    {
      "cell_type": "markdown",
      "metadata": {
        "id": "Uk42vD2NGdXO"
      },
      "source": [
        "In the third line we define a function, `is_cat`, which labels cats based on a filename rule provided by the dataset creators:\n",
        "```python\n",
        "def is_cat(x): return x[0].isupper()\n",
        "```"
      ]
    },
    {
      "cell_type": "markdown",
      "metadata": {
        "id": "ZPYdOeV3GdXO"
      },
      "source": [
        "We use that function in the fourth line, which tells fastai what kind of dataset we have and how it is structured:\n",
        "\n",
        "```python\n",
        "dls = ImageDataLoaders.from_name_func(\n",
        "    path, get_image_files(path), valid_pct=0.2, seed=42,\n",
        "    label_func=is_cat, item_tfms=Resize(224))\n",
        "```\n",
        "\n",
        "There are various different classes for different kinds of deep learning datasets and problems—here we're using `ImageDataLoaders`. The first part of the class name will generally be the type of data you have, such as image, or text.\n",
        "\n",
        "The other important piece of information that we have to tell fastai is how to get the labels from the dataset. Computer vision datasets are normally structured in such a way that the label for an image is part of the filename, or path—most commonly the parent folder name. fastai comes with a number of standardized labeling methods, and ways to write your own. Here we're telling fastai to use the `is_cat` function we just defined.\n",
        "\n",
        "Finally, we define the `Transform`s that we need. A `Transform` contains code that is applied automatically during training; fastai includes many predefined `Transform`s, and adding new ones is as simple as creating a Python function. There are two kinds: `item_tfms` are applied to each item (in this case, each item is resized to a 224-pixel square), while `batch_tfms` are applied to a *batch* of items at a time using the GPU, so they're particularly fast (we'll see many examples of these throughout this book).\n",
        "\n",
        "Why 224 pixels? This is the standard size for historical reasons (old pretrained models require this size exactly), but you can pass pretty much anything. If you increase the size, you'll often get a model with better results (since it will be able to focus on more details), but at the price of speed and memory consumption; the opposite is true if you decrease the size."
      ]
    },
    {
      "cell_type": "markdown",
      "metadata": {
        "id": "BX3DliLNGdXO"
      },
      "source": [
        "> Note: Classification and Regression: _classification_ and _regression_ have very specific meanings in machine learning. These are the two main types of model that we will be investigating in this book. A classification model is one which attempts to predict a class, or category. That is, it's predicting from a number of discrete possibilities, such as \"dog\" or \"cat.\" A regression model is one which attempts to predict one or more numeric quantities, such as a temperature or a location. Sometimes people use the word _regression_ to refer to a particular kind of model called a _linear regression model_; this is a bad practice, and we won't be using that terminology in this book!"
      ]
    },
    {
      "cell_type": "markdown",
      "metadata": {
        "id": "yUnzwajxGdXO"
      },
      "source": [
        "The Pet dataset contains 7,390 pictures of dogs and cats, consisting of 37 different breeds. Each image is labeled using its filename: for instance the file *great\\_pyrenees\\_173.jpg* is the 173rd example of an image of a Great Pyrenees breed dog in the dataset. The filenames start with an uppercase letter if the image is a cat, and a lowercase letter otherwise. We have to tell fastai how to get labels from the filenames, which we do by calling `from_name_func` (which means that labels can be extracted using a function applied to the filename), and passing `is_cat`, which returns `x[0].isupper()`, which evaluates to `True` if the first letter is uppercase (i.e., it's a cat).\n",
        "\n",
        "The most important parameter to mention here is `valid_pct=0.2`. This tells fastai to hold out 20% of the data and *not use it for training the model at all*. This 20% of the data is called the *validation set*; the remaining 80% is called the *training set*. The validation set is used to measure the accuracy of the model. By default, the 20% that is held out is selected randomly. The parameter `seed=42` sets the *random seed* to the same value every time we run this code, which means we get the same validation set every time we run it—this way, if we change our model and retrain it, we know that any differences are due to the changes to the model, not due to having a different random validation set.\n",
        "\n",
        "fastai will *always* show you your model's accuracy using *only* the validation set, *never* the training set. This is absolutely critical, because if you train a large enough model for a long enough time, it will eventually memorize the label of every item in your dataset! The result will not actually be a useful model, because what we care about is how well our model works on *previously unseen images*. That is always our goal when creating a model: for it to be useful on data that the model only sees in the future, after it has been trained.\n",
        "\n",
        "Even when your model has not fully memorized all your data, earlier on in training it may have memorized certain parts of it. As a result, the longer you train for, the better your accuracy will get on the training set; the validation set accuracy will also improve for a while, but eventually it will start getting worse as the model starts to memorize the training set, rather than finding generalizable underlying patterns in the data. When this happens, we say that the model is *overfitting*.\n",
        "\n",
        "<<img_overfit>> shows what happens when you overfit, using a simplified example where we have just one parameter, and some randomly generated data based on the function `x**2`. As you can see, although the predictions in the overfit model are accurate for data near the observed data points, they are way off when outside of that range."
      ]
    },
    {
      "cell_type": "markdown",
      "metadata": {
        "id": "f0MiIgCKGdXO"
      },
      "source": [
        "<img src=\"https://github.com/timvandevyver/fastbook2/blob/master/images/att_00000.png?raw=1\" alt=\"Example of overfitting\" caption=\"Example of overfitting\" id=\"img_overfit\" width=\"700\">"
      ]
    },
    {
      "cell_type": "markdown",
      "metadata": {
        "id": "QDjI_1uxGdXO"
      },
      "source": [
        "**Overfitting is the single most important and challenging issue** when training for all machine learning practitioners, and all algorithms. As you will see, it is very easy to create a model that does a great job at making predictions on the exact data it has been trained on, but it is much harder to make accurate predictions on data the model has never seen before. And of course, this is the data that will actually matter in practice. For instance, if you create a handwritten digit classifier (as we will very soon!) and use it to recognize numbers written on checks, then you are never going to see any of the numbers that the model was trained on—checks will have slightly different variations of writing to deal with. You will learn many methods to avoid overfitting in this book. However, you should only use those methods after you have confirmed that overfitting is actually occurring (i.e., you have actually observed the validation accuracy getting worse during training). We often see practitioners using over-fitting avoidance techniques even when they have enough data that they didn't need to do so, ending up with a model that may be less accurate than what they could have achieved."
      ]
    },
    {
      "cell_type": "markdown",
      "metadata": {
        "id": "zSV2FqjQGdXO"
      },
      "source": [
        "> important: Validation Set: When you train a model, you must _always_ have both a training set and a validation set, and must measure the accuracy of your model only on the validation set. If you train for too long, with not enough data, you will see the accuracy of your model start to get worse; this is called _overfitting_. fastai defaults `valid_pct` to `0.2`, so even if you forget, fastai will create a validation set for you!"
      ]
    },
    {
      "cell_type": "markdown",
      "metadata": {
        "id": "2jEI4aRlGdXO"
      },
      "source": [
        "The fifth line of the code training our image recognizer tells fastai to create a *convolutional neural network* (CNN) and specifies what *architecture* to use (i.e. what kind of model to create), what data we want to train it on, and what *metric* to use:\n",
        "\n",
        "```python\n",
        "learn = vision_learner(dls, resnet34, metrics=error_rate)\n",
        "```\n",
        "\n",
        "Why a CNN? It's the current state-of-the-art approach to creating computer vision models. We'll be learning all about how CNNs work in this book. Their structure is inspired by how the human vision system works.\n",
        "\n",
        "There are many different architectures in fastai, which we will introduce in this book (as well as discussing how to create your own). Most of the time, however, picking an architecture isn't a very important part of the deep learning process. It's something that academics love to talk about, but in practice it is unlikely to be something you need to spend much time on. There are some standard architectures that work most of the time, and in this case we're using one called _ResNet_ that we'll be talking a lot about during the book; it is both fast and accurate for many datasets and problems. The `34` in `resnet34` refers to the number of layers in this variant of the architecture (other options are `18`, `50`, `101`, and `152`). Models using architectures with more layers take longer to train, and are more prone to overfitting (i.e. you can't train them for as many epochs before the accuracy on the validation set starts getting worse). On the other hand, when using more data, they can be quite a bit more accurate.\n",
        "\n",
        "What is a metric? A *metric* is a function that measures the quality of the model's predictions using the validation set, and will be printed at the end of each *epoch*. In this case, we're using `error_rate`, which is a function provided by fastai that does just what it says: tells you what percentage of images in the validation set are being classified incorrectly. Another common metric for classification is `accuracy` (which is just `1.0 - error_rate`). fastai provides many more, which will be discussed throughout this book.\n",
        "\n",
        "The concept of a metric may remind you of *loss*, but there is an important distinction. The entire purpose of loss is to define a \"measure of performance\" that the training system can use to update weights automatically. In other words, a good choice for loss is a choice that is easy for stochastic gradient descent to use. But a metric is defined for human consumption, so a good metric is one that is easy for you to understand, and that hews as closely as possible to what you want the model to do. At times, you might decide that the loss function is a suitable metric, but that is not necessarily the case."
      ]
    },
    {
      "cell_type": "markdown",
      "metadata": {
        "id": "Mcoel9hMGdXO"
      },
      "source": [
        "`vision_learner` also has a parameter `pretrained`, which defaults to `True` (so it's used in this case, even though we haven't specified it), which sets the weights in your model to values that have already been trained by experts to recognize a thousand different categories across 1.3 million photos (using the famous [*ImageNet* dataset](http://www.image-net.org/)). A model that has weights that have already been trained on some other dataset is called a *pretrained model*. You should nearly always use a pretrained model, because it means that your model, before you've even shown it any of your data, is already very capable. And, as you'll see, in a deep learning model many of these capabilities are things you'll need, almost regardless of the details of your project. For instance, parts of pretrained models will handle edge, gradient, and color detection, which are needed for many tasks.\n",
        "\n",
        "When using a pretrained model, `vision_learner` will remove the last layer, since that is always specifically customized to the original training task (i.e. ImageNet dataset classification), and replace it with one or more new layers with randomized weights, of an appropriate size for the dataset you are working with. This last part of the model is known as the *head*.\n",
        "\n",
        "Using pretrained models is the *most* important method we have to allow us to train more accurate models, more quickly, with less data, and less time and money. You might think that would mean that using pretrained models would be the most studied area in academic deep learning... but you'd be very, very wrong! The importance of pretrained models is generally not recognized or discussed in most courses, books, or software library features, and is rarely considered in academic papers. As we write this at the start of 2020, things are just starting to change, but it's likely to take a while. So be careful: most people you speak to will probably greatly underestimate what you can do in deep learning with few resources, because they probably won't deeply understand how to use pretrained models.\n",
        "\n",
        "Using a pretrained model for a task different to what it was originally trained for is known as *transfer learning*. Unfortunately, because transfer learning is so under-studied, few domains have pretrained models available. For instance, there are currently few pretrained models available in medicine, making transfer learning challenging to use in that domain. In addition, it is not yet well understood how to use transfer learning for tasks such as time series analysis."
      ]
    },
    {
      "cell_type": "markdown",
      "metadata": {
        "id": "Bl4m4CwLGdXO"
      },
      "source": [
        "> jargon: Transfer learning: Using a pretrained model for a task different to what it was originally trained for."
      ]
    },
    {
      "cell_type": "markdown",
      "metadata": {
        "id": "KzGF0CybGdXO"
      },
      "source": [
        "The sixth line of our code tells fastai how to *fit* the model:\n",
        "\n",
        "```python\n",
        "learn.fine_tune(1)\n",
        "```\n",
        "\n",
        "As we've discussed, the architecture only describes a *template* for a mathematical function; it doesn't actually do anything until we provide values for the millions of parameters it contains.\n",
        "\n",
        "This is the key to deep learning—determining how to fit the parameters of a model to get it to solve your problem. In order to fit a model, we have to provide at least one piece of information: how many times to look at each image (known as number of *epochs*). The number of epochs you select will largely depend on how much time you have available, and how long you find it takes in practice to fit your model. If you select a number that is too small, you can always train for more epochs later.\n",
        "\n",
        "But why is the method called `fine_tune`, and not `fit`? fastai actually *does* have a method called `fit`, which does indeed fit a model (i.e. look at images in the training set multiple times, each time updating the parameters to make the predictions closer and closer to the target labels). But in this case, we've started with a pretrained model, and we don't want to throw away all those capabilities that it already has. As you'll learn in this book, there are some important tricks to adapt a pretrained model for a new dataset—a process called *fine-tuning*."
      ]
    },
    {
      "cell_type": "markdown",
      "metadata": {
        "id": "tRKKvGY9GdXO"
      },
      "source": [
        "> jargon: Fine-tuning: A transfer learning technique where the parameters of a pretrained model are updated by training for additional epochs using a different task to that used for pretraining."
      ]
    },
    {
      "cell_type": "markdown",
      "metadata": {
        "id": "Bx8kMwkmGdXO"
      },
      "source": [
        "When you use the `fine_tune` method, fastai will use these tricks for you. There are a few parameters you can set (which we'll discuss later), but in the default form shown here, it does two steps:\n",
        "\n",
        "1. Use one epoch to fit just those parts of the model necessary to get the new random head to work correctly with your dataset.\n",
        "1. Use the number of epochs requested when calling the method to fit the entire model, updating the weights of the later layers (especially the head) faster than the earlier layers (which, as we'll see, generally don't require many changes from the pretrained weights).\n",
        "\n",
        "The *head* of a model is the part that is newly added to be specific to the new dataset. An *epoch* is one complete pass through the dataset. After calling `fit`, the results after each epoch are printed, showing the epoch number, the training and validation set losses (the \"measure of performance\" used for training the model), and any *metrics* you've requested (error rate, in this case)."
      ]
    },
    {
      "cell_type": "markdown",
      "metadata": {
        "id": "5ohUXqtPGdXO"
      },
      "source": [
        "So, with all this code our model learned to recognize cats and dogs just from labeled examples. But how did it do it?"
      ]
    },
    {
      "cell_type": "markdown",
      "metadata": {
        "id": "XeN5MT4lGdXO"
      },
      "source": [
        "### What Our Image Recognizer Learned"
      ]
    },
    {
      "cell_type": "markdown",
      "metadata": {
        "id": "6hl2xWwtGdXO"
      },
      "source": [
        "At this stage we have an image recognizer that is working very well, but we have no idea what it is actually doing! Although many people complain that deep learning results in impenetrable \"black box\" models (that is, something that gives predictions but that no one can understand), this really couldn't be further from the truth. There is a vast body of research showing how to deeply inspect deep learning models, and get rich insights from them. Having said that, all kinds of machine learning models (including deep learning, and traditional statistical models) can be challenging to fully understand, especially when considering how they will behave when coming across data that is very different to the data used to train them. We'll be discussing this issue throughout this book.\n",
        "\n",
        "In 2013 a PhD student, Matt Zeiler, and his supervisor, Rob Fergus, published the paper [\"Visualizing and Understanding Convolutional Networks\"](https://arxiv.org/pdf/1311.2901.pdf), which showed how to visualize the neural network weights learned in each layer of a model. They carefully analyzed the model that won the 2012 ImageNet competition, and used this analysis to greatly improve the model, such that they were able to go on to win the 2013 competition! <<img_layer1>> is the picture that they published of the first layer's weights."
      ]
    },
    {
      "cell_type": "markdown",
      "metadata": {
        "id": "h_BDYam3GdXP"
      },
      "source": [
        "<img src=\"https://github.com/timvandevyver/fastbook2/blob/master/images/layer1.png?raw=1\" alt=\"Activations of the first layer of a CNN\" width=\"300\" caption=\"Activations of the first layer of a CNN (courtesy of Matthew D. Zeiler and Rob Fergus)\" id=\"img_layer1\">"
      ]
    },
    {
      "cell_type": "markdown",
      "metadata": {
        "id": "VvglPUgPGdXP"
      },
      "source": [
        "This picture requires some explanation. For each layer, the image part with the light gray background shows the reconstructed weights pictures, and the larger section at the bottom shows the parts of the training images that most strongly matched each set of weights. For layer 1, what we can see is that the model has discovered weights that represent diagonal, horizontal, and vertical edges, as well as various different gradients. (Note that for each layer only a subset of the features are shown; in practice there are thousands across all of the layers.) These are the basic building blocks that the model has learned for computer vision. They have been widely analyzed by neuroscientists and computer vision researchers, and it turns out that these learned building blocks are very similar to the basic visual machinery in the human eye, as well as the handcrafted computer vision features that were developed prior to the days of deep learning. The next layer is represented in <<img_layer2>>."
      ]
    },
    {
      "cell_type": "markdown",
      "metadata": {
        "id": "6eSHJXMlGdXP"
      },
      "source": [
        "<img src=\"https://github.com/timvandevyver/fastbook2/blob/master/images/layer2.png?raw=1\" alt=\"Activations of the second layer of a CNN\" width=\"800\" caption=\"Activations of the second layer of a CNN (courtesy of Matthew D. Zeiler and Rob Fergus)\" id=\"img_layer2\">"
      ]
    },
    {
      "cell_type": "markdown",
      "metadata": {
        "id": "2TKPu8zEGdXP"
      },
      "source": [
        "For layer 2, there are nine examples of weight reconstructions for each of the features found by the model. We can see that the model has learned to create feature detectors that look for corners, repeating lines, circles, and other simple patterns. These are built from the basic building blocks developed in the first layer. For each of these, the right-hand side of the picture shows small patches from actual images which these features most closely match. For instance, the particular pattern in row 2, column 1 matches the gradients and textures associated with sunsets.\n",
        "\n",
        "<<img_layer3>> shows the image from the paper showing the results of reconstructing the features of layer 3."
      ]
    },
    {
      "cell_type": "markdown",
      "metadata": {
        "id": "L8osqk3nGdXP"
      },
      "source": [
        "<img src=\"https://github.com/timvandevyver/fastbook2/blob/master/images/chapter2_layer3.PNG?raw=1\" alt=\"Activations of the third layer of a CNN\" width=\"800\" caption=\"Activations of the third layer of a CNN (courtesy of Matthew D. Zeiler and Rob Fergus)\" id=\"img_layer3\">"
      ]
    },
    {
      "cell_type": "markdown",
      "metadata": {
        "id": "E4dPz7b6GdXP"
      },
      "source": [
        "As you can see by looking at the righthand side of this picture, the features are now able to identify and match with higher-level semantic components, such as car wheels, text, and flower petals. Using these components, layers four and five can identify even higher-level concepts, as shown in <<img_layer4>>."
      ]
    },
    {
      "cell_type": "markdown",
      "metadata": {
        "id": "MCOJN8KSGdXP"
      },
      "source": [
        "<img src=\"https://github.com/timvandevyver/fastbook2/blob/master/images/chapter2_layer4and5.PNG?raw=1\" alt=\"Activations of layers 4 and 5 of a CNN\" width=\"800\" caption=\"Activations of layers 4 and 5 of a CNN (courtesy of Matthew D. Zeiler and Rob Fergus)\" id=\"img_layer4\">"
      ]
    },
    {
      "cell_type": "markdown",
      "metadata": {
        "id": "_8GVbcQ9GdXP"
      },
      "source": [
        "This article was studying an older model called *AlexNet* that only contained five layers. Networks developed since then can have hundreds of layers—so you can imagine how rich the features developed by these models can be!\n",
        "\n",
        "When we fine-tuned our pretrained model earlier, we adapted what those last layers focus on (flowers, humans, animals) to specialize on the cats versus dogs problem. More generally, we could specialize such a pretrained model on many different tasks. Let's have a look at some examples."
      ]
    },
    {
      "cell_type": "markdown",
      "metadata": {
        "id": "LRSV2VtAGdXP"
      },
      "source": [
        "### Image Recognizers Can Tackle Non-Image Tasks"
      ]
    },
    {
      "cell_type": "markdown",
      "metadata": {
        "id": "Bb9GwORjGdXP"
      },
      "source": [
        "An image recognizer can, as its name suggests, only recognize images. But a lot of things can be represented as images, which means that an image recogniser can learn to complete many tasks.\n",
        "\n",
        "For instance, a sound can be converted to a spectrogram, which is a chart that shows the amount of each frequency at each time in an audio file. Fast.ai student Ethan Sutin used this approach to easily beat the published accuracy of a state-of-the-art [environmental sound detection model](https://medium.com/@etown/great-results-on-audio-classification-with-fastai-library-ccaf906c5f52) using a dataset of 8,732 urban sounds. fastai's `show_batch` clearly shows how each different sound has a quite distinctive spectrogram, as you can see in <<img_spect>>."
      ]
    },
    {
      "cell_type": "markdown",
      "metadata": {
        "id": "5DolNKH7GdXP"
      },
      "source": [
        "<img alt=\"show_batch with spectrograms of sounds\" width=\"400\" caption=\"show_batch with spectrograms of sounds\" id=\"img_spect\" src=\"https://github.com/timvandevyver/fastbook2/blob/master/images/att_00012.png?raw=1\">"
      ]
    },
    {
      "cell_type": "markdown",
      "metadata": {
        "id": "TMYLYPONGdXP"
      },
      "source": [
        "A time series can easily be converted into an image by simply plotting the time series on a graph. However, it is often a good idea to try to represent your data in a way that makes it as easy as possible to pull out the most important components. In a time series, things like seasonality and anomalies are most likely to be of interest. There are various transformations available for time series data. For instance, fast.ai student Ignacio Oguiza created images from a time series dataset for olive oil classification, using a technique called Gramian Angular Difference Field (GADF); you can see the result in <<ts_image>>. He then fed those images to an image classification model just like the one you see in this chapter. His results, despite having only 30 training set images, were well over 90% accurate, and close to the state of the art."
      ]
    },
    {
      "cell_type": "markdown",
      "metadata": {
        "id": "CA9EIOUSGdXP"
      },
      "source": [
        "<img alt=\"Converting a time series into an image\" width=\"700\" caption=\"Converting a time series into an image\" id=\"ts_image\" src=\"https://github.com/timvandevyver/fastbook2/blob/master/images/att_00013.png?raw=1\">"
      ]
    },
    {
      "cell_type": "markdown",
      "metadata": {
        "id": "3NTbF4suGdXP"
      },
      "source": [
        "Another interesting fast.ai student project example comes from Gleb Esman. He was working on fraud detection at Splunk, using a dataset of users' mouse movements and mouse clicks. He turned these into pictures by drawing an image where the position, speed, and acceleration of the mouse pointer was displayed using coloured lines, and the clicks were displayed using [small colored circles](https://www.splunk.com/en_us/blog/security/deep-learning-with-splunk-and-tensorflow-for-security-catching-the-fraudster-in-neural-networks-with-behavioral-biometrics.html), as shown in <<splunk>>. He then fed this into an image recognition model just like the one we've used in this chapter, and it worked so well that it led to a patent for this approach to fraud analytics!"
      ]
    },
    {
      "cell_type": "markdown",
      "metadata": {
        "id": "KYhpylSSGdXP"
      },
      "source": [
        "<img alt=\"Converting computer mouse behavior to an image\" width=\"450\" caption=\"Converting computer mouse behavior to an image\" id=\"splunk\" src=\"https://github.com/timvandevyver/fastbook2/blob/master/images/att_00014.png?raw=1\">"
      ]
    },
    {
      "cell_type": "markdown",
      "metadata": {
        "id": "EcWDmaUEGdXP"
      },
      "source": [
        "Another example comes from the paper [\"Malware Classification with Deep Convolutional Neural Networks\"](https://ieeexplore.ieee.org/abstract/document/8328749) by Mahmoud Kalash et al., which explains that \"the malware binary file is divided into 8-bit sequences which are then converted to equivalent decimal values. This decimal vector is reshaped and a gray-scale image is generated that represents the malware sample,\" like in <<malware_proc>>."
      ]
    },
    {
      "cell_type": "markdown",
      "metadata": {
        "id": "PVjNg8IrGdXP"
      },
      "source": [
        "<img alt=\"Malware classification process\" width=\"623\" caption=\"Malware classification process\" id=\"malware_proc\" src=\"https://github.com/timvandevyver/fastbook2/blob/master/images/att_00055.png?raw=1\">"
      ]
    },
    {
      "cell_type": "markdown",
      "metadata": {
        "id": "dRvROVOOGdXP"
      },
      "source": [
        "The authors then show \"pictures\" generated through this process of malware in different categories, as shown in <<malware_eg>>."
      ]
    },
    {
      "cell_type": "markdown",
      "metadata": {
        "id": "YJFWDOsCGdXP"
      },
      "source": [
        "<img alt=\"Malware examples\" width=\"650\" caption=\"Malware examples\" id=\"malware_eg\" src=\"https://github.com/timvandevyver/fastbook2/blob/master/images/att_00056.png?raw=1\">"
      ]
    },
    {
      "cell_type": "markdown",
      "metadata": {
        "id": "slcDaGxjGdXP"
      },
      "source": [
        "As you can see, the different types of malware look very distinctive to the human eye. The model the researchers trained based on this image representation was more accurate at malware classification than any previous approach shown in the academic literature. This suggests a good rule of thumb for converting a dataset into an image representation: if the human eye can recognize categories from the images, then a deep learning model should be able to do so too.\n",
        "\n",
        "In general, you'll find that a small number of general approaches in deep learning can go a long way, if you're a bit creative in how you represent your data! You shouldn't think of approaches like the ones described here as \"hacky workarounds,\" because actually they often (as here) beat previously state-of-the-art results. These really are the right ways to think about these problem domains."
      ]
    },
    {
      "cell_type": "markdown",
      "metadata": {
        "id": "q53oOHGCGdXP"
      },
      "source": [
        "### Jargon Recap"
      ]
    },
    {
      "cell_type": "markdown",
      "metadata": {
        "id": "0SC6qu-kGdXP"
      },
      "source": [
        "We just covered a lot of information so let's recap briefly, <<dljargon>> provides a handy vocabulary.\n",
        "\n",
        "```asciidoc\n",
        "[[dljargon]]\n",
        ".Deep learning vocabulary\n",
        "[options=\"header\"]\n",
        "|=====\n",
        "| Term | Meaning\n",
        "|Label | The data that we're trying to predict, such as \"dog\" or \"cat\"\n",
        "|Architecture | The _template_ of the model that we're trying to fit; the actual mathematical function that we're passing the input data and parameters to\n",
        "|Model | The combination of the architecture with a particular set of parameters\n",
        "|Parameters | The values in the model that change what task it can do, and are updated through model training\n",
        "|Fit | Update the parameters of the model such that the predictions of the model using the input data match the target labels\n",
        "|Train | A synonym for _fit_\n",
        "|Pretrained model | A model that has already been trained, generally using a large dataset, and will be fine-tuned\n",
        "|Fine-tune | Update a pretrained model for a different task\n",
        "|Epoch | One complete pass through the input data\n",
        "|Loss | A measure of how good the model is, chosen to drive training via SGD\n",
        "|Metric | A measurement of how good the model is, using the validation set, chosen for human consumption\n",
        "|Validation set | A set of data held out from training, used only for measuring how good the model is\n",
        "|Training set | The data used for fitting the model; does not include any data from the validation set\n",
        "|Overfitting | Training a model in such a way that it _remembers_ specific features of the input data, rather than generalizing well to data not seen during training\n",
        "|CNN | Convolutional neural network; a type of neural network that works particularly well for computer vision tasks\n",
        "|=====\n",
        "```"
      ]
    },
    {
      "cell_type": "markdown",
      "metadata": {
        "id": "pn5ilblMGdXQ"
      },
      "source": [
        "With this vocabulary in hand, we are now in a position to bring together all the key concepts introduced so far. Take a moment to review those definitions and read the following summary. If you can follow the explanation, then you're well equipped to understand the discussions to come.\n",
        "\n",
        "*Machine learning* is a discipline where we define a program not by writing it entirely ourselves, but by learning from data. *Deep learning* is a specialty within machine learning that uses *neural networks* with multiple *layers*. *Image classification* is a representative example (also known as *image recognition*). We start with *labeled data*; that is, a set of images where we have assigned a *label* to each image indicating what it represents. Our goal is to produce a program, called a *model*, which, given a new image, will make an accurate *prediction* regarding what that new image represents.\n",
        "\n",
        "Every model starts with a choice of *architecture*, a general template for how that kind of model works internally. The process of *training* (or *fitting*) the model is the process of finding a set of *parameter values* (or *weights*) that specialize that general architecture into a model that works well for our particular kind of data. In order to define how well a model does on a single prediction, we need to define a *loss function*, which determines how we score a prediction as good or bad.\n",
        "\n",
        "To make the training process go faster, we might start with a *pretrained model*—a model that has already been trained on someone else's data. We can then adapt it to our data by training it a bit more on our data, a process called *fine-tuning*.\n",
        "\n",
        "When we train a model, a key concern is to ensure that our model *generalizes*—that is, that it learns general lessons from our data which also apply to new items it will encounter, so that it can make good predictions on those items. The risk is that if we train our model badly, instead of learning general lessons it effectively memorizes what it has already seen, and then it will make poor predictions about new images. Such a failure is called *overfitting*. In order to avoid this, we always divide our data into two parts, the *training set* and the *validation set*. We train the model by showing it only the training set and then we evaluate how well the model is doing by seeing how well it performs on items from the validation set. In this way, we check if the lessons the model learns from the training set are lessons that generalize to the validation set. In order for a person to assess how well the model is doing on the validation set overall, we define a *metric*. During the training process, when the model has seen every item in the training set, we call that an *epoch*.\n",
        "\n",
        "All these concepts apply to machine learning in general. That is, they apply to all sorts of schemes for defining a model by training it with data. What makes deep learning distinctive is a particular class of architectures: the architectures based on *neural networks*. In particular, tasks like image classification rely heavily on *convolutional neural networks*, which we will discuss shortly."
      ]
    },
    {
      "cell_type": "markdown",
      "metadata": {
        "id": "Z-hreOS7GdXQ"
      },
      "source": [
        "## Deep Learning Is Not Just for Image Classification"
      ]
    },
    {
      "cell_type": "markdown",
      "metadata": {
        "id": "MPkMlVrvGdXQ"
      },
      "source": [
        "Deep learning's effectiveness for classifying images has been widely discussed in recent years, even showing _superhuman_ results on complex tasks like recognizing malignant tumors in CT scans. But it can do a lot more than this, as we will show here.\n",
        "\n",
        "For instance, let's talk about something that is critically important for autonomous vehicles: localizing objects in a picture. If a self-driving car doesn't know where a pedestrian is, then it doesn't know how to avoid one! Creating a model that can recognize the content of every individual pixel in an image is called *segmentation*. Here is how we can train a segmentation model with fastai, using a subset of the [*Camvid* dataset](http://www0.cs.ucl.ac.uk/staff/G.Brostow/papers/Brostow_2009-PRL.pdf) from the paper \"Semantic Object Classes in Video: A High-Definition Ground Truth Database\" by Gabruel J. Brostow, Julien Fauqueur, and Roberto Cipolla:"
      ]
    },
    {
      "cell_type": "code",
      "execution_count": 1,
      "metadata": {
        "id": "zSBQU_4eGdXQ",
        "outputId": "e1b97684-36d9-4b24-d019-05cd781105f3",
        "colab": {
          "base_uri": "https://localhost:8080/",
          "height": 211
        }
      },
      "outputs": [
        {
          "output_type": "error",
          "ename": "NameError",
          "evalue": "name 'untar_data' is not defined",
          "traceback": [
            "\u001b[0;31m---------------------------------------------------------------------------\u001b[0m",
            "\u001b[0;31mNameError\u001b[0m                                 Traceback (most recent call last)",
            "\u001b[0;32m<ipython-input-1-b0aa8ba5c292>\u001b[0m in \u001b[0;36m<cell line: 1>\u001b[0;34m()\u001b[0m\n\u001b[0;32m----> 1\u001b[0;31m \u001b[0mpath\u001b[0m \u001b[0;34m=\u001b[0m \u001b[0muntar_data\u001b[0m\u001b[0;34m(\u001b[0m\u001b[0mURLs\u001b[0m\u001b[0;34m.\u001b[0m\u001b[0mCAMVID_TINY\u001b[0m\u001b[0;34m)\u001b[0m\u001b[0;34m\u001b[0m\u001b[0;34m\u001b[0m\u001b[0m\n\u001b[0m\u001b[1;32m      2\u001b[0m dls = SegmentationDataLoaders.from_label_func(\n\u001b[1;32m      3\u001b[0m     \u001b[0mpath\u001b[0m\u001b[0;34m,\u001b[0m \u001b[0mbs\u001b[0m\u001b[0;34m=\u001b[0m\u001b[0;36m8\u001b[0m\u001b[0;34m,\u001b[0m \u001b[0mfnames\u001b[0m \u001b[0;34m=\u001b[0m \u001b[0mget_image_files\u001b[0m\u001b[0;34m(\u001b[0m\u001b[0mpath\u001b[0m\u001b[0;34m/\u001b[0m\u001b[0;34m\"images\"\u001b[0m\u001b[0;34m)\u001b[0m\u001b[0;34m,\u001b[0m\u001b[0;34m\u001b[0m\u001b[0;34m\u001b[0m\u001b[0m\n\u001b[1;32m      4\u001b[0m     \u001b[0mlabel_func\u001b[0m \u001b[0;34m=\u001b[0m \u001b[0;32mlambda\u001b[0m \u001b[0mo\u001b[0m\u001b[0;34m:\u001b[0m \u001b[0mpath\u001b[0m\u001b[0;34m/\u001b[0m\u001b[0;34m'labels'\u001b[0m\u001b[0;34m/\u001b[0m\u001b[0;34mf'{o.stem}_P{o.suffix}'\u001b[0m\u001b[0;34m,\u001b[0m\u001b[0;34m\u001b[0m\u001b[0;34m\u001b[0m\u001b[0m\n\u001b[1;32m      5\u001b[0m     \u001b[0mcodes\u001b[0m \u001b[0;34m=\u001b[0m \u001b[0mnp\u001b[0m\u001b[0;34m.\u001b[0m\u001b[0mloadtxt\u001b[0m\u001b[0;34m(\u001b[0m\u001b[0mpath\u001b[0m\u001b[0;34m/\u001b[0m\u001b[0;34m'codes.txt'\u001b[0m\u001b[0;34m,\u001b[0m \u001b[0mdtype\u001b[0m\u001b[0;34m=\u001b[0m\u001b[0mstr\u001b[0m\u001b[0;34m)\u001b[0m\u001b[0;34m\u001b[0m\u001b[0;34m\u001b[0m\u001b[0m\n",
            "\u001b[0;31mNameError\u001b[0m: name 'untar_data' is not defined"
          ]
        }
      ],
      "source": [
        "path = untar_data(URLs.CAMVID_TINY)\n",
        "dls = SegmentationDataLoaders.from_label_func(\n",
        "    path, bs=8, fnames = get_image_files(path/\"images\"),\n",
        "    label_func = lambda o: path/'labels'/f'{o.stem}_P{o.suffix}',\n",
        "    codes = np.loadtxt(path/'codes.txt', dtype=str)\n",
        ")\n",
        "\n",
        "learn = unet_learner(dls, resnet34)\n",
        "learn.fine_tune(8)"
      ]
    },
    {
      "cell_type": "markdown",
      "metadata": {
        "id": "uyX0x5gZGdXQ"
      },
      "source": [
        "We are not even going to walk through this code line by line, because it is nearly identical to our previous example! (Although we will be doing a deep dive into segmentation models in <<chapter_arch_details>>, along with all of the other models that we are briefly introducing in this chapter, and many, many more.)\n",
        "\n",
        "We can visualize how well it achieved its task, by asking the model to color-code each pixel of an image. As you can see, it nearly perfectly classifies every pixel in every object. For instance, notice that all of the cars are overlaid with the same color and all of the trees are overlaid with the same color (in each pair of images, the lefthand image is the ground truth label and the right is the prediction from the model):"
      ]
    },
    {
      "cell_type": "code",
      "execution_count": null,
      "metadata": {
        "id": "sXlgwlo8GdXQ",
        "outputId": "0cde0ded-7e7c-4b13-cfe8-f4d3e2385988"
      },
      "outputs": [
        {
          "data": {
            "text/html": [],
            "text/plain": [
              "<IPython.core.display.HTML object>"
            ]
          },
          "metadata": {},
          "output_type": "display_data"
        },
        {
          "data": {
            "image/png": "[encoded data removed]",
            "text/plain": [
              "<Figure size 504x576 with 4 Axes>"
            ]
          },
          "metadata": {
            "needs_background": "light"
          },
          "output_type": "display_data"
        }
      ],
      "source": [
        "learn.show_results(max_n=6, figsize=(7,8))"
      ]
    },
    {
      "cell_type": "markdown",
      "metadata": {
        "id": "RQ8EcAGfGdXQ"
      },
      "source": [
        "One other area where deep learning has dramatically improved in the last couple of years is natural language processing (NLP). Computers can now generate text, translate automatically from one language to another, analyze comments, label words in sentences, and much more. Here is all of the code necessary to train a model that can classify the sentiment of a movie review better than anything that existed in the world just five years ago:"
      ]
    },
    {
      "cell_type": "code",
      "execution_count": null,
      "metadata": {
        "id": "VP0fEVs5GdXQ",
        "outputId": "69336c5d-8c73-439a-902e-798e10801aa2"
      },
      "outputs": [
        {
          "data": {
            "text/html": [
              "<table border=\"1\" class=\"dataframe\">\n",
              "  <thead>\n",
              "    <tr style=\"text-align: left;\">\n",
              "      <th>epoch</th>\n",
              "      <th>train_loss</th>\n",
              "      <th>valid_loss</th>\n",
              "      <th>accuracy</th>\n",
              "      <th>time</th>\n",
              "    </tr>\n",
              "  </thead>\n",
              "  <tbody>\n",
              "    <tr>\n",
              "      <td>0</td>\n",
              "      <td>0.878776</td>\n",
              "      <td>0.748753</td>\n",
              "      <td>0.500400</td>\n",
              "      <td>01:27</td>\n",
              "    </tr>\n",
              "  </tbody>\n",
              "</table>"
            ],
            "text/plain": [
              "<IPython.core.display.HTML object>"
            ]
          },
          "metadata": {},
          "output_type": "display_data"
        },
        {
          "data": {
            "text/html": [
              "<table border=\"1\" class=\"dataframe\">\n",
              "  <thead>\n",
              "    <tr style=\"text-align: left;\">\n",
              "      <th>epoch</th>\n",
              "      <th>train_loss</th>\n",
              "      <th>valid_loss</th>\n",
              "      <th>accuracy</th>\n",
              "      <th>time</th>\n",
              "    </tr>\n",
              "  </thead>\n",
              "  <tbody>\n",
              "    <tr>\n",
              "      <td>0</td>\n",
              "      <td>0.679118</td>\n",
              "      <td>0.674778</td>\n",
              "      <td>0.584040</td>\n",
              "      <td>02:45</td>\n",
              "    </tr>\n",
              "    <tr>\n",
              "      <td>1</td>\n",
              "      <td>0.653671</td>\n",
              "      <td>0.670396</td>\n",
              "      <td>0.618040</td>\n",
              "      <td>02:55</td>\n",
              "    </tr>\n",
              "    <tr>\n",
              "      <td>2</td>\n",
              "      <td>0.598665</td>\n",
              "      <td>0.551815</td>\n",
              "      <td>0.718920</td>\n",
              "      <td>05:28</td>\n",
              "    </tr>\n",
              "    <tr>\n",
              "      <td>3</td>\n",
              "      <td>0.556812</td>\n",
              "      <td>0.507450</td>\n",
              "      <td>0.752480</td>\n",
              "      <td>03:11</td>\n",
              "    </tr>\n",
              "  </tbody>\n",
              "</table>"
            ],
            "text/plain": [
              "<IPython.core.display.HTML object>"
            ]
          },
          "metadata": {},
          "output_type": "display_data"
        }
      ],
      "source": [
        "from fastai.text.all import *\n",
        "\n",
        "dls = TextDataLoaders.from_folder(untar_data(URLs.IMDB), valid='test')\n",
        "learn = text_classifier_learner(dls, AWD_LSTM, drop_mult=0.5, metrics=accuracy)\n",
        "learn.fine_tune(4, 1e-2)"
      ]
    },
    {
      "cell_type": "markdown",
      "metadata": {
        "id": "Vd9KVcRxGdXQ"
      },
      "source": [
        "#clean\n",
        "If you hit a \"CUDA out of memory error\" after running this cell, click on the menu Kernel, then restart. Instead of executing the cell above, copy and paste the following code in it:\n",
        "\n",
        "```\n",
        "from fastai.text.all import *\n",
        "\n",
        "dls = TextDataLoaders.from_folder(untar_data(URLs.IMDB), valid='test', bs=32)\n",
        "learn = text_classifier_learner(dls, AWD_LSTM, drop_mult=0.5, metrics=accuracy)\n",
        "learn.fine_tune(4, 1e-2)\n",
        "```\n",
        "\n",
        "This reduces the batch size to 32 (we will explain this later). If you keep hitting the same error, change 32 to 16."
      ]
    },
    {
      "cell_type": "markdown",
      "metadata": {
        "id": "rSkbdpQyGdXQ"
      },
      "source": [
        "This model is using the [\"IMDb Large Movie Review dataset\"](https://ai.stanford.edu/~ang/papers/acl11-WordVectorsSentimentAnalysis.pdf) from the paper \"Learning Word Vectors for Sentiment Analysis\" by Andrew Maas et al. It works well with movie reviews of many thousands of words, but let's test it out on a very short one to see how it does its thing:"
      ]
    },
    {
      "cell_type": "code",
      "execution_count": null,
      "metadata": {
        "id": "DC66A1MxGdXQ",
        "outputId": "a481f7e5-e6bd-4caa-b727-49d79c7ebf5e"
      },
      "outputs": [
        {
          "data": {
            "text/html": [],
            "text/plain": [
              "<IPython.core.display.HTML object>"
            ]
          },
          "metadata": {},
          "output_type": "display_data"
        },
        {
          "data": {
            "text/plain": [
              "('pos', tensor(1), tensor([0.0040, 0.9960]))"
            ]
          },
          "execution_count": null,
          "metadata": {},
          "output_type": "execute_result"
        }
      ],
      "source": [
        "learn.predict(\"I really liked that movie!\")"
      ]
    },
    {
      "cell_type": "markdown",
      "metadata": {
        "id": "UyDGrWZbGdXQ"
      },
      "source": [
        "Here we can see the model has considered the review to be positive. The second part of the result is the index of \"pos\" in our data vocabulary and the last part is the probabilities attributed to each class (99.6% for \"pos\" and 0.4% for \"neg\").\n",
        "\n",
        "Now it's your turn! Write your own mini movie review, or copy one from the internet, and you can see what this model thinks about it."
      ]
    },
    {
      "cell_type": "markdown",
      "metadata": {
        "id": "GhBRmLYKGdXQ"
      },
      "source": [
        "### Sidebar: The Order Matters"
      ]
    },
    {
      "cell_type": "markdown",
      "metadata": {
        "id": "wdBqscdvGdXQ"
      },
      "source": [
        "In a Jupyter notebook, the order in which you execute each cell is very important. It's not like Excel, where everything gets updated as soon as you type something anywhere—it has an inner state that gets updated each time you execute a cell. For instance, when you run the first cell of the notebook (with the \"CLICK ME\" comment), you create an object called `learn` that contains a model and data for an image classification problem. If we were to run the cell just shown in the text (the one that predicts if a review is good or not) straight after, we would get an error as this `learn` object does not contain a text classification model. This cell needs to be run after the one containing:\n",
        "\n",
        "```python\n",
        "from fastai.text.all import *\n",
        "\n",
        "dls = TextDataLoaders.from_folder(untar_data(URLs.IMDB), valid='test')\n",
        "learn = text_classifier_learner(dls, AWD_LSTM, drop_mult=0.5,\n",
        "                                metrics=accuracy)\n",
        "learn.fine_tune(4, 1e-2)\n",
        "```\n",
        "\n",
        "The outputs themselves can be deceiving, because they include the results of the last time the cell was executed; if you change the code inside a cell without executing it, the old (misleading) results will remain.\n",
        "\n",
        "Except when we mention it explicitly, the notebooks provided on the [book website](https://book.fast.ai/) are meant to be run in order, from top to bottom. In general, when experimenting, you will find yourself executing cells in any order to go fast (which is a super neat feature of Jupyter Notebook), but once you have explored and arrived at the final version of your code, make sure you can run the cells of your notebooks in order (your future self won't necessarily remember the convoluted path you took otherwise!).\n",
        "\n",
        "In command mode, pressing `0` twice will restart the *kernel* (which is the engine powering your notebook). This will wipe your state clean and make it as if you had just started in the notebook. Choose Run All Above from the Cell menu to run all cells above the point where you are. We have found this to be very useful when developing the fastai library."
      ]
    },
    {
      "cell_type": "markdown",
      "metadata": {
        "id": "xI7hJcFSGdXQ"
      },
      "source": [
        "### End sidebar"
      ]
    },
    {
      "cell_type": "markdown",
      "metadata": {
        "id": "-HwmmedDGdXQ"
      },
      "source": [
        "If you ever have any questions about a fastai method, you should use the function `doc`, passing it the method name:\n",
        "\n",
        "```python\n",
        "doc(learn.predict)\n",
        "```\n",
        "\n",
        "This will make a small window pop up with content like this:\n",
        "\n",
        "<img src=\"https://github.com/timvandevyver/fastbook2/blob/master/images/doc_ex.png?raw=1\" width=\"600\">"
      ]
    },
    {
      "cell_type": "markdown",
      "metadata": {
        "id": "PknsoKM2GdXQ"
      },
      "source": [
        "A brief one-line explanation is provided by `doc`. The \"Show in docs\" link takes you to the full documentation, where you'll find all the details and lots of examples. Also, most of fastai's methods are just a handful of lines, so you can click the \"source\" link to see exactly what's going on behind the scenes.\n",
        "\n",
        "Let's move on to something much less sexy, but perhaps significantly more widely commercially useful: building models from plain *tabular* data."
      ]
    },
    {
      "cell_type": "markdown",
      "metadata": {
        "id": "fOZSg8VwGdXQ"
      },
      "source": [
        "> jargon: Tabular: Data that is in the form of a table, such as from a spreadsheet, database, or CSV file. A tabular model is a model that tries to predict one column of a table based on information in other columns of the table."
      ]
    },
    {
      "cell_type": "markdown",
      "metadata": {
        "id": "2f0WppZLGdXQ"
      },
      "source": [
        "It turns out that looks very similar too. Here is the code necessary to train a model that will predict whether a person is a high-income earner, based on their socioeconomic background:"
      ]
    },
    {
      "cell_type": "code",
      "execution_count": null,
      "metadata": {
        "id": "cr3LCiD4GdXQ"
      },
      "outputs": [],
      "source": [
        "from fastai.tabular.all import *\n",
        "path = untar_data(URLs.ADULT_SAMPLE)\n",
        "\n",
        "dls = TabularDataLoaders.from_csv(path/'adult.csv', path=path, y_names=\"salary\",\n",
        "    cat_names = ['workclass', 'education', 'marital-status', 'occupation',\n",
        "                 'relationship', 'race'],\n",
        "    cont_names = ['age', 'fnlwgt', 'education-num'],\n",
        "    procs = [Categorify, FillMissing, Normalize])\n",
        "\n",
        "learn = tabular_learner(dls, metrics=accuracy)"
      ]
    },
    {
      "cell_type": "markdown",
      "metadata": {
        "id": "wWic-cSfGdXR"
      },
      "source": [
        "As you see, we had to tell fastai which columns are *categorical* (that is, contain values that are one of a discrete set of choices, such as `occupation`) and which are *continuous* (that is, contain a number that represents a quantity, such as `age`).\n",
        "\n",
        "There is no pretrained model available for this task (in general, pretrained models are not widely available for any tabular modeling tasks, although some organizations have created them for internal use), so we don't use `fine_tune` in this case. Instead we use `fit_one_cycle`, the most commonly used method for training fastai models *from scratch* (i.e. without transfer learning):"
      ]
    },
    {
      "cell_type": "code",
      "execution_count": null,
      "metadata": {
        "id": "5BGkTVaiGdXR",
        "outputId": "e4158561-d021-435d-fa1e-ac49845ccf45"
      },
      "outputs": [
        {
          "data": {
            "text/html": [
              "<table border=\"1\" class=\"dataframe\">\n",
              "  <thead>\n",
              "    <tr style=\"text-align: left;\">\n",
              "      <th>epoch</th>\n",
              "      <th>train_loss</th>\n",
              "      <th>valid_loss</th>\n",
              "      <th>accuracy</th>\n",
              "      <th>time</th>\n",
              "    </tr>\n",
              "  </thead>\n",
              "  <tbody>\n",
              "    <tr>\n",
              "      <td>0</td>\n",
              "      <td>0.372397</td>\n",
              "      <td>0.357177</td>\n",
              "      <td>0.832463</td>\n",
              "      <td>00:08</td>\n",
              "    </tr>\n",
              "    <tr>\n",
              "      <td>1</td>\n",
              "      <td>0.351544</td>\n",
              "      <td>0.341505</td>\n",
              "      <td>0.841523</td>\n",
              "      <td>00:08</td>\n",
              "    </tr>\n",
              "    <tr>\n",
              "      <td>2</td>\n",
              "      <td>0.338763</td>\n",
              "      <td>0.339184</td>\n",
              "      <td>0.845670</td>\n",
              "      <td>00:08</td>\n",
              "    </tr>\n",
              "  </tbody>\n",
              "</table>"
            ],
            "text/plain": [
              "<IPython.core.display.HTML object>"
            ]
          },
          "metadata": {},
          "output_type": "display_data"
        }
      ],
      "source": [
        "learn.fit_one_cycle(3)"
      ]
    },
    {
      "cell_type": "markdown",
      "metadata": {
        "id": "TsB5fpcmGdXR"
      },
      "source": [
        "This model is using the [*Adult* dataset](http://robotics.stanford.edu/~ronnyk/nbtree.pdf), from the paper \"Scaling Up the Accuracy of Naive-Bayes Classifiers: a Decision-Tree Hybrid\" by Rob Kohavi, which contains some demographic data about individuals (like their education, marital status, race, sex, and whether or not they have an annual income greater than \\$50k). The model is over 80\\% accurate, and took around 30 seconds to train."
      ]
    },
    {
      "cell_type": "markdown",
      "metadata": {
        "id": "0WHuX4qlGdXR"
      },
      "source": [
        "Let's look at one more. Recommendation systems are very important, particularly in e-commerce. Companies like Amazon and Netflix try hard to recommend products or movies that users might like. Here's how to train a model that will predict movies people might like, based on their previous viewing habits, using the [MovieLens dataset](https://doi.org/10.1145/2827872):"
      ]
    },
    {
      "cell_type": "code",
      "execution_count": null,
      "metadata": {
        "id": "CPCAqRcxGdXR",
        "outputId": "e7e4e1b4-078d-4a70-b622-4e6f21123bdd"
      },
      "outputs": [
        {
          "data": {
            "text/html": [
              "<table border=\"1\" class=\"dataframe\">\n",
              "  <thead>\n",
              "    <tr style=\"text-align: left;\">\n",
              "      <th>epoch</th>\n",
              "      <th>train_loss</th>\n",
              "      <th>valid_loss</th>\n",
              "      <th>time</th>\n",
              "    </tr>\n",
              "  </thead>\n",
              "  <tbody>\n",
              "    <tr>\n",
              "      <td>0</td>\n",
              "      <td>1.510897</td>\n",
              "      <td>1.410028</td>\n",
              "      <td>00:00</td>\n",
              "    </tr>\n",
              "  </tbody>\n",
              "</table>"
            ],
            "text/plain": [
              "<IPython.core.display.HTML object>"
            ]
          },
          "metadata": {},
          "output_type": "display_data"
        },
        {
          "data": {
            "text/html": [
              "<table border=\"1\" class=\"dataframe\">\n",
              "  <thead>\n",
              "    <tr style=\"text-align: left;\">\n",
              "      <th>epoch</th>\n",
              "      <th>train_loss</th>\n",
              "      <th>valid_loss</th>\n",
              "      <th>time</th>\n",
              "    </tr>\n",
              "  </thead>\n",
              "  <tbody>\n",
              "    <tr>\n",
              "      <td>0</td>\n",
              "      <td>1.375435</td>\n",
              "      <td>1.350930</td>\n",
              "      <td>00:00</td>\n",
              "    </tr>\n",
              "    <tr>\n",
              "      <td>1</td>\n",
              "      <td>1.270062</td>\n",
              "      <td>1.173962</td>\n",
              "      <td>00:00</td>\n",
              "    </tr>\n",
              "    <tr>\n",
              "      <td>2</td>\n",
              "      <td>1.023159</td>\n",
              "      <td>0.879298</td>\n",
              "      <td>00:00</td>\n",
              "    </tr>\n",
              "    <tr>\n",
              "      <td>3</td>\n",
              "      <td>0.797398</td>\n",
              "      <td>0.739787</td>\n",
              "      <td>00:00</td>\n",
              "    </tr>\n",
              "    <tr>\n",
              "      <td>4</td>\n",
              "      <td>0.685500</td>\n",
              "      <td>0.700903</td>\n",
              "      <td>00:00</td>\n",
              "    </tr>\n",
              "    <tr>\n",
              "      <td>5</td>\n",
              "      <td>0.646508</td>\n",
              "      <td>0.686387</td>\n",
              "      <td>00:00</td>\n",
              "    </tr>\n",
              "    <tr>\n",
              "      <td>6</td>\n",
              "      <td>0.623985</td>\n",
              "      <td>0.681087</td>\n",
              "      <td>00:00</td>\n",
              "    </tr>\n",
              "    <tr>\n",
              "      <td>7</td>\n",
              "      <td>0.606319</td>\n",
              "      <td>0.676885</td>\n",
              "      <td>00:00</td>\n",
              "    </tr>\n",
              "    <tr>\n",
              "      <td>8</td>\n",
              "      <td>0.606975</td>\n",
              "      <td>0.675833</td>\n",
              "      <td>00:00</td>\n",
              "    </tr>\n",
              "    <tr>\n",
              "      <td>9</td>\n",
              "      <td>0.602670</td>\n",
              "      <td>0.675682</td>\n",
              "      <td>00:00</td>\n",
              "    </tr>\n",
              "  </tbody>\n",
              "</table>"
            ],
            "text/plain": [
              "<IPython.core.display.HTML object>"
            ]
          },
          "metadata": {},
          "output_type": "display_data"
        }
      ],
      "source": [
        "from fastai.collab import *\n",
        "path = untar_data(URLs.ML_SAMPLE)\n",
        "dls = CollabDataLoaders.from_csv(path/'ratings.csv')\n",
        "learn = collab_learner(dls, y_range=(0.5,5.5))\n",
        "learn.fine_tune(10)"
      ]
    },
    {
      "cell_type": "markdown",
      "metadata": {
        "id": "W-_FS88GGdXR"
      },
      "source": [
        "This model is predicting movie ratings on a scale of 0.5 to 5.0 to within around 0.6 average error. Since we're predicting a continuous number, rather than a category, we have to tell fastai what range our target has, using the `y_range` parameter.\n",
        "\n",
        "Although we're not actually using a pretrained model (for the same reason that we didn't for the tabular model), this example shows that fastai lets us use `fine_tune` anyway in this case (you'll learn how and why this works in <<chapter_pet_breeds>>). Sometimes it's best to experiment with `fine_tune` versus `fit_one_cycle` to see which works best for your dataset.\n",
        "\n",
        "We can use the same `show_results` call we saw earlier to view a few examples of user and movie IDs, actual ratings, and predictions:"
      ]
    },
    {
      "cell_type": "code",
      "execution_count": null,
      "metadata": {
        "id": "Qb2jwDHhGdXR",
        "outputId": "e0e3c16c-b311-49df-bf9c-2d0380ca7c63"
      },
      "outputs": [
        {
          "data": {
            "text/html": [],
            "text/plain": [
              "<IPython.core.display.HTML object>"
            ]
          },
          "metadata": {},
          "output_type": "display_data"
        },
        {
          "data": {
            "text/html": [
              "<table border=\"1\" class=\"dataframe\">\n",
              "  <thead>\n",
              "    <tr style=\"text-align: right;\">\n",
              "      <th></th>\n",
              "      <th>userId</th>\n",
              "      <th>movieId</th>\n",
              "      <th>rating</th>\n",
              "      <th>rating_pred</th>\n",
              "    </tr>\n",
              "  </thead>\n",
              "  <tbody>\n",
              "    <tr>\n",
              "      <th>0</th>\n",
              "      <td>66.0</td>\n",
              "      <td>79.0</td>\n",
              "      <td>4.0</td>\n",
              "      <td>3.978900</td>\n",
              "    </tr>\n",
              "    <tr>\n",
              "      <th>1</th>\n",
              "      <td>97.0</td>\n",
              "      <td>15.0</td>\n",
              "      <td>4.0</td>\n",
              "      <td>3.851795</td>\n",
              "    </tr>\n",
              "    <tr>\n",
              "      <th>2</th>\n",
              "      <td>55.0</td>\n",
              "      <td>79.0</td>\n",
              "      <td>3.5</td>\n",
              "      <td>3.945623</td>\n",
              "    </tr>\n",
              "    <tr>\n",
              "      <th>3</th>\n",
              "      <td>98.0</td>\n",
              "      <td>91.0</td>\n",
              "      <td>4.0</td>\n",
              "      <td>4.458704</td>\n",
              "    </tr>\n",
              "    <tr>\n",
              "      <th>4</th>\n",
              "      <td>53.0</td>\n",
              "      <td>7.0</td>\n",
              "      <td>5.0</td>\n",
              "      <td>4.670005</td>\n",
              "    </tr>\n",
              "    <tr>\n",
              "      <th>5</th>\n",
              "      <td>26.0</td>\n",
              "      <td>69.0</td>\n",
              "      <td>5.0</td>\n",
              "      <td>4.319870</td>\n",
              "    </tr>\n",
              "    <tr>\n",
              "      <th>6</th>\n",
              "      <td>81.0</td>\n",
              "      <td>16.0</td>\n",
              "      <td>4.5</td>\n",
              "      <td>4.426761</td>\n",
              "    </tr>\n",
              "    <tr>\n",
              "      <th>7</th>\n",
              "      <td>80.0</td>\n",
              "      <td>7.0</td>\n",
              "      <td>4.0</td>\n",
              "      <td>4.046183</td>\n",
              "    </tr>\n",
              "    <tr>\n",
              "      <th>8</th>\n",
              "      <td>51.0</td>\n",
              "      <td>94.0</td>\n",
              "      <td>5.0</td>\n",
              "      <td>3.499996</td>\n",
              "    </tr>\n",
              "  </tbody>\n",
              "</table>"
            ],
            "text/plain": [
              "<IPython.core.display.HTML object>"
            ]
          },
          "metadata": {},
          "output_type": "display_data"
        }
      ],
      "source": [
        "learn.show_results()"
      ]
    },
    {
      "cell_type": "markdown",
      "metadata": {
        "id": "jB8NXp_xGdXR"
      },
      "source": [
        "### Sidebar: Datasets: Food for Models"
      ]
    },
    {
      "cell_type": "markdown",
      "metadata": {
        "id": "dfoPmceHGdXR"
      },
      "source": [
        "You’ve already seen quite a few models in this section, each one trained using a different dataset to do a different task. In machine learning and deep learning, we can’t do anything without data. So, the people that create datasets for us to train our models on are the (often underappreciated) heroes. Some of the most useful and important datasets are those that become important *academic baselines*; that is, datasets that are widely studied by researchers and used to compare algorithmic changes. Some of these become household names (at least, among households that train models!), such as MNIST, CIFAR-10, and ImageNet.\n",
        "\n",
        "The datasets used in this book have been selected because they provide great examples of the kinds of data that you are likely to encounter, and the academic literature has many examples of model results using these datasets to which you can compare your work.\n",
        "\n",
        "Most datasets used in this book took the creators a lot of work to build. For instance, later in the book we’ll be showing you how to create a model that can translate between French and English. The key input to this is a French/English parallel text corpus prepared back in 2009 by Professor Chris Callison-Burch of the University of Pennsylvania. This dataset contains over 20 million sentence pairs in French and English. He built the dataset in a really clever way: by crawling millions of Canadian web pages (which are often multilingual) and then using a set of simple heuristics to transform URLs of French content onto URLs pointing to the same content in English.\n",
        "\n",
        "As you look at datasets throughout this book, think about where they might have come from, and how they might have been curated. Then think about what kinds of interesting datasets you could create for your own projects. (We’ll even take you step by step through the process of creating your own image dataset soon.)\n",
        "\n",
        "fast.ai has spent a lot of time creating cut-down versions of popular datasets that are specially designed to support rapid prototyping and experimentation, and to be easier to learn with. In this book we will often start by using one of the cut-down versions and later scale up to the full-size version (just as we're doing in this chapter!). In fact, this is how the world’s top practitioners do their modeling in practice; they do most of their experimentation and prototyping with subsets of their data, and only use the full dataset when they have a good understanding of what they have to do."
      ]
    },
    {
      "cell_type": "markdown",
      "metadata": {
        "id": "0YC81hy5GdXR"
      },
      "source": [
        "### End sidebar"
      ]
    },
    {
      "cell_type": "markdown",
      "metadata": {
        "id": "N6rmdUqzGdXR"
      },
      "source": [
        "Each of the models we trained showed a training and validation loss. A good validation set is one of the most important pieces of the training process. Let's see why and learn how to create one."
      ]
    },
    {
      "cell_type": "markdown",
      "metadata": {
        "id": "b-n81CMyGdXR"
      },
      "source": [
        "## Validation Sets and Test Sets"
      ]
    },
    {
      "cell_type": "markdown",
      "metadata": {
        "id": "bNHKyiHFGdXR"
      },
      "source": [
        "As we've discussed, the goal of a model is to make predictions about data. But the model training process is fundamentally dumb. If we trained a model with all our data, and then evaluated the model using that same data, we would not be able to tell how well our model can perform on data it hasn’t seen. Without this very valuable piece of information to guide us in training our model, there is a very good chance it would become good at making predictions about that data but would perform poorly on new data.\n",
        "\n",
        "To avoid this, our first step was to split our dataset into two sets: the *training set* (which our model sees in training) and the *validation set*, also known as the *development set* (which is used only for evaluation). This lets us test that the model learns lessons from the training data that generalize to new data, the validation data.\n",
        "\n",
        "One way to understand this situation is that, in a sense, we don't want our model to get good results by \"cheating.\" If it makes an accurate prediction for a data item, that should be because it has learned characteristics of that kind of item, and not because the model has been shaped by *actually having seen that particular item*.\n",
        "\n",
        "Splitting off our validation data means our model never sees it in training and so is completely untainted by it, and is not cheating in any way. Right?\n",
        "\n",
        "In fact, not necessarily. The situation is more subtle. This is because in realistic scenarios we rarely build a model just by training its weight parameters once. Instead, we are likely to explore many versions of a model through various modeling choices regarding network architecture, learning rates, data augmentation strategies, and other factors we will discuss in upcoming chapters. Many of these choices can be described as choices of *hyperparameters*. The word reflects that they are parameters about parameters, since they are the higher-level choices that govern the meaning of the weight parameters."
      ]
    },
    {
      "cell_type": "markdown",
      "metadata": {
        "id": "CJr0MpqkGdXR"
      },
      "source": [
        "The problem is that even though the ordinary training process is only looking at predictions on the training data when it learns values for the weight parameters, the same is not true of us. We, as modelers, are evaluating the model by looking at predictions on the validation data when we decide to explore new hyperparameter values! So subsequent versions of the model are, indirectly, shaped by us having seen the validation data. Just as the automatic training process is in danger of overfitting the training data, we are in danger of overfitting the validation data through human trial and error and exploration.\n",
        "\n",
        "The solution to this conundrum is to introduce another level of even more highly reserved data, the *test set*. Just as we hold back the validation data from the training process, we must hold back the test set data even from ourselves. It cannot be used to improve the model; it can only be used to evaluate the model at the very end of our efforts. In effect, we define a hierarchy of cuts of our data, based on how fully we want to hide it from training and modeling processes: training data is fully exposed, the validation data is less exposed, and test data is totally hidden. This hierarchy parallels the different kinds of modeling and evaluation processes themselves—the automatic training process with back propagation, the more manual process of trying different hyper-parameters between training sessions, and the assessment of our final result.\n",
        "\n",
        "The test and validation sets should have enough data to ensure that you get a good estimate of your accuracy. If you're creating a cat detector, for instance, you generally want at least 30 cats in your validation set. That means that if you have a dataset with thousands of items, using the default 20% validation set size may be more than you need. On the other hand, if you have lots of data, using some of it for validation probably doesn't have any downsides.\n",
        "\n",
        "Having two levels of \"reserved data\"—a validation set and a test set, with one level representing data that you are virtually hiding from yourself—may seem a bit extreme. But the reason it is often necessary is because models tend to gravitate toward the simplest way to do good predictions (memorization), and we as fallible humans tend to gravitate toward fooling ourselves about how well our models are performing. The discipline of the test set helps us keep ourselves intellectually honest. That doesn't mean we *always* need a separate test set—if you have very little data, you may need to just have a validation set—but generally it's best to use one if at all possible.\n",
        "\n",
        "This same discipline can be critical if you intend to hire a third party to perform modeling work on your behalf. A third party might not understand your requirements accurately, or their incentives might even encourage them to misunderstand them. A good test set can greatly mitigate these risks and let you evaluate whether their work solves your actual problem.\n",
        "\n",
        "To put it bluntly, if you're a senior decision maker in your organization (or you're advising senior decision makers), the most important takeaway is this: if you ensure that you really understand what test and validation sets are and why they're important, then you'll avoid the single biggest source of failures we've seen when organizations decide to use AI. For instance, if you're considering bringing in an external vendor or service, make sure that you hold out some test data that the vendor *never gets to see*. Then *you* check their model on your test data, using a metric that *you* choose based on what actually matters to you in practice, and *you* decide what level of performance is adequate. (It's also a good idea for you to try out some simple baseline yourself, so you know what a really simple model can achieve. Often it'll turn out that your simple model performs just as well as one produced by an external \"expert\"!)"
      ]
    },
    {
      "cell_type": "markdown",
      "metadata": {
        "id": "AQlhoTZ-GdXR"
      },
      "source": [
        "### Use Judgment in Defining Test Sets"
      ]
    },
    {
      "cell_type": "markdown",
      "metadata": {
        "id": "ZMqtqPfTGdXR"
      },
      "source": [
        "To do a good job of defining a validation set (and possibly a test set), you will sometimes want to do more than just randomly grab a fraction of your original dataset. Remember: a key property of the validation and test sets is that they must be representative of the new data you will see in the future. This may sound like an impossible order! By definition, you haven’t seen this data yet. But you usually still do know some things.\n",
        "\n",
        "It's instructive to look at a few example cases. Many of these examples come from predictive modeling competitions on the [Kaggle](https://www.kaggle.com/) platform, which is a good representation of problems and methods you might see in practice.\n",
        "\n",
        "One case might be if you are looking at time series data. For a time series, choosing a random subset of the data will be both too easy (you can look at the data both before and after the dates you are trying to predict) and not representative of most business use cases (where you are using historical data to build a model for use in the future). If your data includes the date and you are building a model to use in the future, you will want to choose a continuous section with the latest dates as your validation set (for instance, the last two weeks or last month of available data).\n",
        "\n",
        "Suppose you want to split the time series data in <<timeseries1>> into training and validation sets."
      ]
    },
    {
      "cell_type": "markdown",
      "metadata": {
        "id": "cyV0oK-BGdXR"
      },
      "source": [
        "<img src=\"https://github.com/timvandevyver/fastbook2/blob/master/images/timeseries1.png?raw=1\" width=\"400\" id=\"timeseries1\" caption=\"A time series\" alt=\"A serie of values\">"
      ]
    },
    {
      "cell_type": "markdown",
      "metadata": {
        "id": "VaFoDYFsGdXS"
      },
      "source": [
        "A random subset is a poor choice (too easy to fill in the gaps, and not indicative of what you'll need in production), as we can see in <<timeseries2>>."
      ]
    },
    {
      "cell_type": "markdown",
      "metadata": {
        "id": "2puC0LlMGdXS"
      },
      "source": [
        "<img src=\"https://github.com/timvandevyver/fastbook2/blob/master/images/timeseries2.png?raw=1\" width=\"400\" id=\"timeseries2\" caption=\"A poor training subset\" alt=\"Random training subset\">"
      ]
    },
    {
      "cell_type": "markdown",
      "metadata": {
        "id": "fBf9dcnkGdXS"
      },
      "source": [
        "Instead, use the earlier data as your training set (and the later data for the validation set), as shown in <<timeseries3>>."
      ]
    },
    {
      "cell_type": "markdown",
      "metadata": {
        "id": "0vFfwB7-GdXS"
      },
      "source": [
        "<img src=\"https://github.com/timvandevyver/fastbook2/blob/master/images/timeseries3.png?raw=1\" width=\"400\" id=\"timeseries3\" caption=\"A good training subset\" alt=\"Training subset using the data up to a certain timestamp\">"
      ]
    },
    {
      "cell_type": "markdown",
      "metadata": {
        "id": "1U1WW4bCGdXS"
      },
      "source": [
        "For example, Kaggle had a competition to [predict the sales in a chain of Ecuadorian grocery stores](https://www.kaggle.com/c/favorita-grocery-sales-forecasting). Kaggle's training data ran from Jan 1 2013 to Aug 15 2017, and the test data spanned Aug 16 2017 to Aug 31 2017. That way, the competition organizer ensured that entrants were making predictions for a time period that was *in the future*, from the perspective of their model. This is similar to the way quant hedge fund traders do *back-testing* to check whether their models are predictive of future periods, based on past data."
      ]
    },
    {
      "cell_type": "markdown",
      "metadata": {
        "id": "CkBiREhzGdXS"
      },
      "source": [
        "A second common case is when you can easily anticipate ways the data you will be making predictions for in production may be *qualitatively different* from the data you have to train your model with.\n",
        "\n",
        "In the Kaggle [distracted driver competition](https://www.kaggle.com/c/state-farm-distracted-driver-detection), the independent variables are pictures of drivers at the wheel of a car, and the dependent variables are categories such as texting, eating, or safely looking ahead. Lots of pictures are of the same drivers in different positions, as we can see in <<img_driver>>. If you were an insurance company building a model from this data, note that you would be most interested in how the model performs on drivers it hasn't seen before (since you would likely have training data only for a small group of people). In recognition of this, the test data for the competition consists of images of people that don't appear in the training set."
      ]
    },
    {
      "cell_type": "markdown",
      "metadata": {
        "id": "5eRHFIIYGdXS"
      },
      "source": [
        "<img src=\"https://github.com/timvandevyver/fastbook2/blob/master/images/driver.PNG?raw=1\" width=\"600\" id=\"img_driver\" caption=\"Two pictures from the training data\" alt=\"Two pictures from the training data, showing the same driver\">"
      ]
    },
    {
      "cell_type": "markdown",
      "metadata": {
        "id": "U3p7tBp9GdXS"
      },
      "source": [
        "If you put one of the images in <<img_driver>> in your training set and one in the validation set, your model will have an easy time making a prediction for the one in the validation set, so it will seem to be performing better than it would on new people. Another perspective is that if you used all the people in training your model, your model might be overfitting to particularities of those specific people, and not just learning the states (texting, eating, etc.).\n",
        "\n",
        "A similar dynamic was at work in the [Kaggle fisheries competition](https://www.kaggle.com/c/the-nature-conservancy-fisheries-monitoring) to identify the species of fish caught by fishing boats in order to reduce illegal fishing of endangered populations.  The test set consisted of boats that didn't appear in the training data.  This means that you'd want your validation set to include boats that are not in the training set.\n",
        "\n",
        "Sometimes it may not be clear how your validation data will differ.  For instance, for a problem using satellite imagery, you'd need to gather more information on whether the training set just contained certain geographic locations, or if it came from geographically scattered data."
      ]
    },
    {
      "cell_type": "markdown",
      "metadata": {
        "id": "Qq7WpboSGdXS"
      },
      "source": [
        "Now that you have gotten a taste of how to build a model, you can decide what you want to dig into next."
      ]
    },
    {
      "cell_type": "markdown",
      "metadata": {
        "id": "N849rL2CGdXS"
      },
      "source": [
        "## A _Choose Your Own Adventure_ moment"
      ]
    },
    {
      "cell_type": "markdown",
      "metadata": {
        "id": "-lnrHnw6GdXS"
      },
      "source": [
        "If you would like to learn more about how to use deep learning models in practice, including how to identify and fix errors, create a real working web application, and avoid your model causing unexpected harm to your organization or society more generally, then keep reading the next two chapters. If you would like to start learning the foundations of how deep learning works under the hood, skip to <<chapter_mnist_basics>>. (Did you ever read _Choose Your Own Adventure_ books as a kid? Well, this is kind of like that… except with more deep learning than that book series contained.)\n",
        "\n",
        "You will need to read all these chapters to progress further in the book, but it is totally up to you which order you read them in. They don't depend on each other. If you skip ahead to <<chapter_mnist_basics>>, we will remind you at the end to come back and read the chapters you skipped over before you go any further."
      ]
    },
    {
      "cell_type": "markdown",
      "metadata": {
        "id": "1txt3D0pGdXS"
      },
      "source": [
        "## Questionnaire"
      ]
    },
    {
      "cell_type": "markdown",
      "metadata": {
        "id": "yaKDW5HFGdXS"
      },
      "source": [
        "It can be hard to know in pages and pages of prose what the key things are that you really need to focus on and remember. So, we've prepared a list of questions and suggested steps to complete at the end of each chapter. All the answers are in the text of the chapter, so if you're not sure about anything here, reread that part of the text and make sure you understand it. Answers to all these questions are also available on the [book's website](https://book.fast.ai). You can also visit [the forums](https://forums.fast.ai) if you get stuck to get help from other folks studying this material.\n",
        "\n",
        "For more questions, including detailed answers and links to the video timeline, have a look at Radek Osmulski's [aiquizzes](http://aiquizzes.com/howto)."
      ]
    },
    {
      "cell_type": "markdown",
      "metadata": {
        "id": "dpn8WS45GdXS"
      },
      "source": [
        "1. Do you need these for deep learning?\n",
        "\n",
        "   - Lots of math T / F\n",
        "   - Lots of data T / F\n",
        "   - Lots of expensive computers T / F\n",
        "   - A PhD T / F\n",
        "   \n",
        "1. Name five areas where deep learning is now the best in the world.\n",
        "1. What was the name of the first device that was based on the principle of the artificial neuron?\n",
        "1. Based on the book of the same name, what are the requirements for parallel distributed processing (PDP)?\n",
        "1. What were the two theoretical misunderstandings that held back the field of neural networks?\n",
        "1. What is a GPU?\n",
        "1. Open a notebook and execute a cell containing: `1+1`. What happens?\n",
        "1. Follow through each cell of the stripped version of the notebook for this chapter. Before executing each cell, guess what will happen.\n",
        "1. Complete the Jupyter Notebook online appendix.\n",
        "1. Why is it hard to use a traditional computer program to recognize images in a photo?\n",
        "1. What did Samuel mean by \"weight assignment\"?\n",
        "1. What term do we normally use in deep learning for what Samuel called \"weights\"?\n",
        "1. Draw a picture that summarizes Samuel's view of a machine learning model.\n",
        "1. Why is it hard to understand why a deep learning model makes a particular prediction?\n",
        "1. What is the name of the theorem that shows that a neural network can solve any mathematical problem to any level of accuracy?\n",
        "1. What do you need in order to train a model?\n",
        "1. How could a feedback loop impact the rollout of a predictive policing model?\n",
        "1. Do we always have to use 224×224-pixel images with the cat recognition model?\n",
        "1. What is the difference between classification and regression?\n",
        "1. What is a validation set? What is a test set? Why do we need them?\n",
        "1. What will fastai do if you don't provide a validation set?\n",
        "1. Can we always use a random sample for a validation set? Why or why not?\n",
        "1. What is overfitting? Provide an example.\n",
        "1. What is a metric? How does it differ from \"loss\"?\n",
        "1. How can pretrained models help?\n",
        "1. What is the \"head\" of a model?\n",
        "1. What kinds of features do the early layers of a CNN find? How about the later layers?\n",
        "1. Are image models only useful for photos?\n",
        "1. What is an \"architecture\"?\n",
        "1. What is segmentation?\n",
        "1. What is `y_range` used for? When do we need it?\n",
        "1. What are \"hyperparameters\"?\n",
        "1. What's the best way to avoid failures when using AI in an organization?"
      ]
    },
    {
      "cell_type": "markdown",
      "metadata": {
        "id": "SFwM1Cq2GdXS"
      },
      "source": [
        "### Further Research"
      ]
    },
    {
      "cell_type": "markdown",
      "metadata": {
        "id": "bvm94p2MGdXS"
      },
      "source": [
        "Each chapter also has a \"Further Research\" section that poses questions that aren't fully answered in the text, or gives more advanced assignments. Answers to these questions aren't on the book's website; you'll need to do your own research!"
      ]
    },
    {
      "cell_type": "markdown",
      "metadata": {
        "id": "LtJuC9CBGdXS"
      },
      "source": [
        "1. Why is a GPU useful for deep learning? How is a CPU different, and why is it less effective for deep learning?\n",
        "1. Try to think of three areas where feedback loops might impact the use of machine learning. See if you can find documented examples of that happening in practice."
      ]
    },
    {
      "cell_type": "code",
      "execution_count": null,
      "metadata": {
        "id": "GPQH5wQ5GdXS"
      },
      "outputs": [],
      "source": []
    }
  ],
  "metadata": {
    "jupytext": {
      "split_at_heading": true
    },
    "kernelspec": {
      "display_name": "Python 3",
      "name": "python3"
    },
    "colab": {
      "provenance": [],
      "gpuType": "T4"
    },
    "accelerator": "GPU",
    "widgets": {
      "application/vnd.jupyter.widget-state+json": {
        "98c86433adca4441acdfc3392a5728be": {
          "model_module": "@jupyter-widgets/controls",
          "model_name": "FileUploadModel",
          "model_module_version": "1.5.0",
          "state": {
            "_counter": 1,
            "_dom_classes": [],
            "_model_module": "@jupyter-widgets/controls",
            "_model_module_version": "1.5.0",
            "_model_name": "FileUploadModel",
            "_view_count": null,
            "_view_module": "@jupyter-widgets/controls",
            "_view_module_version": "1.5.0",
            "_view_name": "FileUploadView",
            "accept": "",
            "button_style": "",
            "data": [
              null
            ],
            "description": "Upload",
            "description_tooltip": null,
            "disabled": false,
            "error": "",
            "icon": "upload",
            "layout": "IPY_MODEL_d0c5b025da124c399d9cff43d8f349aa",
            "metadata": [
              {
                "name": "th (1).jpeg",
                "type": "image/jpeg",
                "size": 18422,
                "lastModified": 1730035685501
              }
            ],
            "multiple": false,
            "style": "IPY_MODEL_01f8da98ad964fc08fd004c546b885c5"
          }
        },
        "d0c5b025da124c399d9cff43d8f349aa": {
          "model_module": "@jupyter-widgets/base",
          "model_name": "LayoutModel",
          "model_module_version": "1.2.0",
          "state": {
            "_model_module": "@jupyter-widgets/base",
            "_model_module_version": "1.2.0",
            "_model_name": "LayoutModel",
            "_view_count": null,
            "_view_module": "@jupyter-widgets/base",
            "_view_module_version": "1.2.0",
            "_view_name": "LayoutView",
            "align_content": null,
            "align_items": null,
            "align_self": null,
            "border": null,
            "bottom": null,
            "display": null,
            "flex": null,
            "flex_flow": null,
            "grid_area": null,
            "grid_auto_columns": null,
            "grid_auto_flow": null,
            "grid_auto_rows": null,
            "grid_column": null,
            "grid_gap": null,
            "grid_row": null,
            "grid_template_areas": null,
            "grid_template_columns": null,
            "grid_template_rows": null,
            "height": null,
            "justify_content": null,
            "justify_items": null,
            "left": null,
            "margin": null,
            "max_height": null,
            "max_width": null,
            "min_height": null,
            "min_width": null,
            "object_fit": null,
            "object_position": null,
            "order": null,
            "overflow": null,
            "overflow_x": null,
            "overflow_y": null,
            "padding": null,
            "right": null,
            "top": null,
            "visibility": null,
            "width": null
          }
        },
        "01f8da98ad964fc08fd004c546b885c5": {
          "model_module": "@jupyter-widgets/controls",
          "model_name": "ButtonStyleModel",
          "model_module_version": "1.5.0",
          "state": {
            "_model_module": "@jupyter-widgets/controls",
            "_model_module_version": "1.5.0",
            "_model_name": "ButtonStyleModel",
            "_view_count": null,
            "_view_module": "@jupyter-widgets/base",
            "_view_module_version": "1.2.0",
            "_view_name": "StyleView",
            "button_color": null,
            "font_weight": ""
          }
        }
      }
    }
  },
  "nbformat": 4,
  "nbformat_minor": 0
}